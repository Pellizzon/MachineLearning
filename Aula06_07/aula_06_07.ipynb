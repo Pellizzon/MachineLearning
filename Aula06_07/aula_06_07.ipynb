{
 "cells": [
  {
   "cell_type": "markdown",
   "metadata": {},
   "source": [
    "Este material é um mix de material próprio, e material adaptado do livro texto da disciplina e do repositório do autor do livro (https://github.com/ageron/handson-ml)\n",
    "\n",
    "Material de referência: livro do Géron, capítulo 4"
   ]
  },
  {
   "cell_type": "markdown",
   "metadata": {},
   "source": [
    "# Modelos lineares"
   ]
  },
  {
   "cell_type": "markdown",
   "metadata": {},
   "source": [
    "Até o momento vimos o processo de construção de uma solução de machine learning:\n",
    "\n",
    "- Aquisição e preparo dos dados\n",
    "- Definição da métrica de desempenho\n",
    "- Separação em conjuntos de treinamento e teste\n",
    "- Investigação dos dados\n",
    "- Escolha de modelo:\n",
    "    - Avaliação de vários modelos usando validação cruzada\n",
    "    - Comparação de métricas de desempenho\n",
    "    - Ajuste de hiperparâmetros\n",
    "- Treinamento final\n",
    "- Teste final\n",
    "- Etapas de producão\n",
    "    - Relatório final\n",
    "    - Operacionalização do modelo em produção\n",
    "\n",
    "Porém neste processo todo nossos modelos eram \"caixas pretas\", não conhecemos nada sobre como os modelos funcionam!\n",
    "\n",
    "Nesta aula vamos começar a investigar os modelos lineares: o que são, e como treina-los. Vamos aprender sobre regressão linear, algoritmos de treinamento, regressão polinomial, overfitting versus underfitting. Na aula seguinte vamos discutir o *tradeoff bias/variance*, estratégias de regularização, regressão logística e softmax."
   ]
  },
  {
   "cell_type": "markdown",
   "metadata": {},
   "source": [
    "**Atividade:**\n",
    "\n",
    "Sem olhar no material de suporte, liste no papel os passos fundamentais de um projeto de machine learning. Vocë tem que conhecer isso de memória! *(NÃO PRECISA ENTREGAR)*"
   ]
  },
  {
   "cell_type": "markdown",
   "metadata": {},
   "source": [
    "Vamos inicializar algumas bibliotecas padrão de nosso trabalho:"
   ]
  },
  {
   "cell_type": "code",
   "execution_count": 1,
   "metadata": {},
   "outputs": [],
   "source": [
    "%matplotlib inline\n",
    "import matplotlib.pyplot as plt\n",
    "import numpy as np\n",
    "\n",
    "RAND_SEED = 42\n",
    "\n",
    "np.random.seed(RAND_SEED)"
   ]
  },
  {
   "cell_type": "markdown",
   "metadata": {},
   "source": [
    "# Revisão"
   ]
  },
  {
   "cell_type": "markdown",
   "metadata": {},
   "source": [
    "## Modelo\n",
    "\n",
    "Em todo problema de machine learning uma amostra de entrada é um vetor \n",
    "\n",
    "$$\\mathbf{x} = (x_1, x_2, \\cdots, x_n)$$\n",
    "\n",
    "de $n$ valores (características ou *features*). (Usaremos fontes em negrito para indicar vetores e matrizes.) \n",
    "\n",
    "Em notação matricial, os vetores são matrizes-coluna:\n",
    "\n",
    "$$\n",
    "\\mathbf{x} = \\left[\n",
    "\\begin{matrix}\n",
    "x_1 \\\\\n",
    "x_2 \\\\\n",
    "\\vdots \\\\\n",
    "x_n\n",
    "\\end{matrix}\n",
    "\\right]\n",
    "$$\n",
    "\n",
    "Vamos trabalhar com as duas notações (vetores e matrizes-coluna) de modo intercambiável, e que ficará evidente no contexto de uso.\n",
    "\n",
    "Uma amostra de saída é um valor que se supõe depender da entrada. Se o valor de saída é contínuo temos um problema de **regressão**, e se o valor é categórico (trata-se de uma classe ou categoria) temos um problema de **classificação**.\n",
    "\n",
    "Um modelo de machine learning é uma função que permite estimar o valor de saída para uma dada amostra de entrada. Esta função depende de **parâmetros** $\\mathbf{\\theta}$, que representam os \"ajustes\" desta função. Ou seja:\n",
    "\n",
    "$$y_{\\text{estimado}} = \\hat{y} = h_{\\mathbf{\\theta}}\\left(\\mathbf{x}\\right)$$"
   ]
  },
  {
   "cell_type": "markdown",
   "metadata": {},
   "source": [
    "## Erro\n",
    "\n",
    "O objetivo principal em um projeto de machine learning é encontrar um modelo que produza boas estimativas, ou seja, estimativas que se aproximem dos valores reais. *Treinamento* é ajustar os parâmetros $\\mathbf{\\theta}$ para conseguir **em média** melhores estimativas. \n",
    "\n",
    "Uma estimativa é boa se o **erro** entre a estimativa e o valor real é baixo. A definição do erro depende do problema em questão. Se for uma regressão, então uma medida razoável de erro para uma dada amostra é a diferença entre o valor real e o valor estimado:\n",
    "\n",
    "$$\\text{erro}\\left(\\mathbf{x}, y_{real}, \\mathbf{\\theta} \\right) = y_{\\text{estimado}} - y_{\\text{real}} = h_{\\mathbf{\\theta}}\\left(\\mathbf{x}\\right) - y_{\\text{real}}$$\n",
    "\n",
    "Se desejamos uma métrica positiva de erro, podemos adotar:\n",
    "\n",
    "- o valor absoluto do erro: $\\left| \\,\\text{erro}\\left(\\mathbf{x}, y_{real}, \\mathbf{\\theta} \\right) \\,\\right|$, ou \n",
    "- o valor quadrático do erro: $\\text{erro}\\left(\\mathbf{x}, y_{real}, \\mathbf{\\theta} \\right)^2$\n",
    "\n",
    "Se for um problema de classificação, então o erro pode ser simplesmente o resultado da comparação entre a classe real e a classe estimada."
   ]
  },
  {
   "cell_type": "markdown",
   "metadata": {},
   "source": [
    "## Erro sobre um conjunto de amostras\n",
    "\n",
    "Será que um modelo é bom? Uma forma de responder esta questão é avaliar o erro médio do classificador sobre um conjunto de exemplos. \n",
    "\n",
    "Para ilustrar essa ideia, vamos considerar um problema de regressão. Seja $\\left(\\mathbf{x}^{(1)}, \\mathbf{x}^{(2)}, \\cdots, \\mathbf{x}^{(m)}\\right)$ uma lista de $m$ amostras, e $\\left(y_{\\text{real}}^{(1)}, y_{\\text{real}}^{(2)}, \\cdots, y_{\\text{real}}^{(m)}\\right)$ os valores dependentes correspondentes. \n",
    "\n",
    "Vamos representar essa informação na forma de uma matriz $\\mathbf{X}$ para as amostras e um vetor $\\mathbf{y}_{\\text{real}}$ para os valores dependentes, ou seja:\n",
    "\n",
    "$$\n",
    "\\mathbf{X} = \\left[\n",
    "\\begin{matrix} \n",
    "\\left(\\mathbf{x}^{(1)}\\right)^{T} \\\\\n",
    "\\left(\\mathbf{x}^{(2)}\\right)^{T} \\\\\n",
    "\\vdots \\\\\n",
    "\\left(\\mathbf{x}^{(m)}\\right)^{T} \\\\\n",
    "\\end{matrix}\n",
    "\\right]\n",
    "\\  \\text{,} \\quad\n",
    "\\mathbf{y}_{\\text{real}} = \\left[\n",
    "\\begin{matrix}\n",
    "y_{\\text{real}}^{(1)} \\\\\n",
    "y_{\\text{real}}^{(1)} \\\\\n",
    "\\vdots \\\\\n",
    "y_{\\text{real}}^{(1)} \\\\\n",
    "\\end{matrix}\n",
    "\\right]\n",
    "$$\n",
    "\n",
    "O erro quadrático médio é (surpresa!) a média do erro quadrático sobre o conjunto de amostras:\n",
    "\n",
    "$$\n",
    "\\varepsilon^2\\left(\\mathbf{X}, \\mathbf{y}_{\\text{real}}, \\mathbf{\\theta}\\right) = \n",
    "\\frac{1}{m} \\sum_{i=1}^{m} \\left(h_{\\mathbf{\\theta}}\\left(\\mathbf{x}^{(i)}\\right) - y_{\\text{real}}^{(i)}\\right)^2\n",
    "$$\n",
    "\n",
    "É comum usarmos a raiz quadrada de $\\varepsilon^2\\left(\\mathbf{X}, \\mathbf{y}_{\\text{real}}, \\mathbf{\\theta}\\right)$, para que o erro esteja descrito nas mesmas unidades de medida da variável dependente. Obtemos então a medida de erro médio conhecida como RMSE (*Root Mean Squared Error*), muito usada em problemas de regressão.\n",
    "\n",
    "$$\n",
    "\\text{RMSE}\\left(\\mathbf{X}, \\mathbf{y}_{\\text{real}}, \\mathbf{\\theta}\\right) \n",
    "= \n",
    "\\sqrt{\\varepsilon^2\\left(\\mathbf{X}, \\mathbf{y}_{\\text{real}}, \\mathbf{\\theta}\\right)}\n",
    "=\n",
    "\\sqrt{\n",
    "    \\frac{1}{m} \n",
    "    \\sum_{i=1}^{m} \n",
    "        \\left(h_{\\mathbf{\\theta}}\\left(\\mathbf{x}^{(i)}\\right) - y_{\\text{real}}^{(i)}\\right)^2\n",
    "}\n",
    "$$"
   ]
  },
  {
   "cell_type": "markdown",
   "metadata": {},
   "source": [
    "## Treinamento\n",
    "\n",
    "Treinar um modelo é achar os parâmetros do modelo que minimizam o erro médio deste em um conjunto de amostras de treinamento. Por exemplo, para o problema de regressão e usando RMSE como métrica de desempenho, temos matematicamente:\n",
    "\n",
    "$$\n",
    "\\mathbf{\\theta}_{\\text{opt}} = \\text{arg min}_{\\mathbf{\\theta}}\\left\\{\\text{RMSE}\\left(\\mathbf{X}_{\\text{train}}, \\mathbf{y}_{\\text{train}}, \\mathbf{\\theta}\\right)\\right\\}\n",
    "$$\n",
    "\n",
    "Para procurar $\\mathbf{\\theta}_{\\text{opt}}$ temos que aplicar um **algoritmo de treinamento** ao nosso modelo e nossas amostras de treinamento. Para cada modelo e métrica de desempenho existe um algoritmo de treinamento. Alguns algoritmos de treinamento são versáteis, e são aplicáveis a vários tipos de modelo - por exemplo, o *método do máximo declive* (**gradient descent**).\n",
    "\n",
    "$$\\mathbf{\\theta}_{\\text{opt}} = \\text{modelo.fit}(\\mathbf{X}_{\\text{train}}, \\mathbf{y}_{\\text{train}})$$\n",
    "\n",
    "Existem parâmetros que não são ajustáveis neste processo, e seus valores devem ser passados para o algoritmo de treinamento. Por exemplo: número máximo de iterações do método de treinamento, valor do parâmetro de regularização, etc. Estes parâmetros extras sao chamados de **hiperparâmetros**. Portanto, é mais correto escrever a expressão acima como:\n",
    "\n",
    "$$\\text{modelo} = \\text{Modelo}(\\mathbf{\\theta}_{\\text{hiper}})$$\n",
    "\n",
    "$$\\mathbf{\\theta}_{\\text{opt}} = \\text{modelo.fit}(\\mathbf{X}_{\\text{train}}, \\mathbf{y}_{\\text{train}})$$"
   ]
  },
  {
   "cell_type": "markdown",
   "metadata": {},
   "source": [
    "## Usando o modelo treinado para fazer predições\n",
    "\n",
    "Finalmente, quando temos o modelo treinado (ou seja, encontramos os parâmetros ótimos $\\mathbf{\\theta}$), podemos usá-lo para fazer predições: seja $\\mathbf{x}_{\\text{novo}}$ uma nova amostra, então a predição $\\hat{y}$ do modelo é calculada como:\n",
    "\n",
    "$$\\hat{y} = h_{\\mathbf{\\theta}_{\\text{opt}}; \\mathbf{\\theta}_{\\text{hiper}}}\\left(\\mathbf{x}_{\\text{novo}}\\right)$$\n",
    "\n",
    "Ou, em pseudo-código:\n",
    "\n",
    "$$\\text{modelo} = \\text{Modelo}(\\mathbf{\\theta}_{\\text{hiper}})$$\n",
    "\n",
    "$$\\mathbf{\\theta}_{\\text{opt}} = \\text{modelo.fit}(\\mathbf{X}_{\\text{train}}, \\mathbf{y}_{\\text{train}})$$\n",
    "\n",
    "$$\\hat{y} = \\text{modelo.predict}(\\mathbf{x}_{\\text{novo}})$$"
   ]
  },
  {
   "cell_type": "markdown",
   "metadata": {},
   "source": [
    "**Atividade:** \n",
    "\n",
    "Isto que foi apresentado é a essência do machine learning para classificação e regressão. Tente explicar, com a formulação matemática adequada, os seguintes conceitos:\n",
    "\n",
    "- Amostra\n",
    "\n",
    "- Modelo\n",
    "\n",
    "- RMSE\n",
    "\n",
    "- Treinamento\n",
    "\n",
    "- Predição\n",
    "\n",
    "O objetivo é conseguir explicar e escrever as fórmulas correspondentes SEM PRECISAR OLHAR NO MATERIAL DE SUPORTE. Estude o material de suporte o quanto quiser, feche o notebook, e responda a atividade no papel. *(NÃO PRECISA ENTREGAR)*"
   ]
  },
  {
   "cell_type": "markdown",
   "metadata": {},
   "source": [
    "# Regressão linear"
   ]
  },
  {
   "cell_type": "markdown",
   "metadata": {},
   "source": [
    "## Modelo\n",
    "\n",
    "Em um modelo de regressão linear, desejamos obter uma predição de valor $\\hat{y}$ como uma combinação linear dos valores das *features* mais um termo de *offset*.\n",
    "\n",
    "$$\\mathbf{\\theta} = (\\theta_0, \\theta_1, \\cdots, \\theta_n)$$\n",
    "\n",
    "$$\\hat{y} = \\theta_0 + \\theta_1 x_1 + \\theta_2 x_2 + \\cdots + \\theta_n x_n$$\n",
    "\n",
    "Em notação matricial:\n",
    "\n",
    "$$\\hat{y} = \\mathbf{x}^{T} \\mathbf{\\theta}$$\n",
    "\n",
    "onde o vetor $\\mathbf{x}$ de características da amostra é formado pelas características originais e por uma \"característica extra\" que é o valor $1$. Ou seja:\n",
    "\n",
    "$$\\mathbf{x} = \\left[\n",
    "\\begin{matrix}\n",
    "1 \\\\\n",
    "x_1 \\\\\n",
    "x_2 \\\\\n",
    "\\vdots \\\\\n",
    "x_n\n",
    "\\end{matrix}\n",
    "\\right]$$\n",
    "\n",
    "Para um dado conjunto de treinamento, podemos representar as várias quantidades deste problema em uma notação matricial:\n",
    "\n",
    "$$\n",
    "\\mathbf{X}_{\\text{train}} = \\left[\n",
    "\\begin{matrix}\n",
    "\\left(\\mathbf{x}_{\\text{train}}^{(1)}\\right)^{T} \\\\\n",
    "\\left(\\mathbf{x}_{\\text{train}}^{(2)}\\right)^{T} \\\\\n",
    "\\vdots \\\\\n",
    "\\left(\\mathbf{x}_{\\text{train}}^{(m)}\\right)^{T}\n",
    "\\end{matrix}\n",
    "\\right]\n",
    "\\  \\text{,} \\quad\n",
    "\\mathbf{y}_{\\text{train}} = \\left[\n",
    "\\begin{matrix}\n",
    "y_{\\text{train}}^{(1)} \\\\\n",
    "y_{\\text{train}}^{(2)} \\\\\n",
    "\\vdots \\\\\n",
    "y_{\\text{train}}^{(m)} \\\\\n",
    "\\end{matrix}\n",
    "\\right]\n",
    "\\  \\text{,} \\quad\n",
    "\\mathbf{\\theta} = \\left[\n",
    "\\begin{matrix}\n",
    "\\theta_0 \\\\\n",
    "\\theta_1 \\\\\n",
    "\\vdots \\\\\n",
    "\\theta_n\n",
    "\\end{matrix}\n",
    "\\right]\n",
    "\\  \\text{,} \\quad\n",
    "\\hat{\\mathbf{y}} = \\left[\n",
    "\\begin{matrix}\n",
    "\\hat{y}^{(1)} \\\\\n",
    "\\hat{y}^{(2)} \\\\\n",
    "\\vdots \\\\\n",
    "\\hat{y}^{(m)}\n",
    "\\end{matrix}\n",
    "\\right] = \\mathbf{X}_{\\text{train}} \\mathbf{\\theta}\n",
    "$$"
   ]
  },
  {
   "cell_type": "markdown",
   "metadata": {},
   "source": [
    "## Erro quadrático\n",
    "\n",
    "Para um conjunto de amostras de treinamento, o erro quadrático médio é dado por:\n",
    "\n",
    "$$\n",
    "\\varepsilon^2\\left(\\mathbf{X}_{\\text{train}}, \\mathbf{y}_{\\text{train}}, \\mathbf{\\theta}\\right) = \n",
    "\\frac{1}{m} \n",
    "  \\sum_{i=1}^{m} \\left(\n",
    "    h_{\\mathbf{\\theta}}\\left(\\mathbf{x}_{\\text{train}}^{(i)}\\right) - y_{\\text{train}}^{(i)}\n",
    "  \\right)^2 =\n",
    "\\frac{1}{m} \n",
    "  \\sum_{i=1}^{m} \\left(\n",
    "    (\\mathbf{x}_{\\text{train}}^{(i)})^{T} \\mathbf{\\theta} - y_{\\text{train}}^{(i)}\n",
    "  \\right)^2 \n",
    "$$\n",
    "\n",
    "Em notação matricial,\n",
    "\n",
    "$$\n",
    "\\varepsilon^2\\left(\\mathbf{X}_{\\text{train}}, \\mathbf{y}_{\\text{train}}, \\mathbf{\\theta}\\right) = \\\\\n",
    "\\frac{1}{m} (\\mathbf{X}_{\\text{train}} \\mathbf{\\theta} - \\mathbf{y}_{\\text{train}})^T \n",
    "            (\\mathbf{X}_{\\text{train}} \\mathbf{\\theta} - \\mathbf{y}_{\\text{train}}) = \\\\\n",
    "\\frac{1}{m} (\\mathbf{\\theta}^{T} \\mathbf{X}_{\\text{train}}^{T} - \\mathbf{y}_{\\text{train}}^{T})\n",
    "            (\\mathbf{X}_{\\text{train}} \\mathbf{\\theta} - \\mathbf{y}_{\\text{train}}) = \\\\\n",
    "\\frac{1}{m} (\n",
    "    \\mathbf{\\theta}^{T} \\mathbf{X}_{\\text{train}}^{T} \\mathbf{X}_{\\text{train}} \\mathbf{\\theta} \n",
    "  - \\mathbf{\\theta}^{T} \\mathbf{X}_{\\text{train}}^{T} \\mathbf{y}_{\\text{train}}\n",
    "  - \\mathbf{y}_{\\text{train}}^{T} \\mathbf{X}_{\\text{train}} \\mathbf{\\theta}\n",
    "  + \\mathbf{y}_{\\text{train}}^{T} \\mathbf{y}_{\\text{train}}) = \\\\\n",
    "\\frac{1}{m} (\n",
    "    \\mathbf{\\theta}^{T} \\mathbf{X}_{\\text{train}}^{T} \\mathbf{X}_{\\text{train}} \\mathbf{\\theta} \n",
    "  - 2 \\mathbf{\\theta}^{T} \\mathbf{X}_{\\text{train}}^{T} \\mathbf{y}_{\\text{train}}\n",
    "  + \\mathbf{y}_{\\text{train}}^{T} \\mathbf{y}_{\\text{train}})\n",
    "$$\n",
    "\n",
    "Note que se $\\mathbf{X}_{\\text{train}}$ e $\\mathbf{y}_{\\text{train}}$ são quantidades fixas, a única variável aqui é $\\mathbf{\\theta}$."
   ]
  },
  {
   "cell_type": "markdown",
   "metadata": {},
   "source": [
    "## Gradiente do erro\n",
    "\n",
    "Cálculo matricial: https://en.wikipedia.org/wiki/Matrix_calculus\n",
    "\n",
    "Extraindo as derivadas parciais da função $\\varepsilon^2\\left(\\mathbf{X}_{\\text{train}}, \\mathbf{y}_{\\text{train}}, \\mathbf{\\theta}\\right)$ em relação aos termos $\\theta_i$ temos:\n",
    "\n",
    "$$\n",
    "\\nabla_{\\mathbf{\\theta}} \\varepsilon^2\\left(\\mathbf{X}_{\\text{train}}, \\mathbf{y}_{\\text{train}}, \\mathbf{\\theta}\\right) = \n",
    "\\frac{1}{m} (\n",
    "    2 \\mathbf{X}_{\\text{train}}^{T} \\mathbf{X}_{\\text{train}} \\mathbf{\\theta} \n",
    "  - 2 \\mathbf{X}_{\\text{train}}^{T} \\mathbf{y}_{\\text{train}})\n",
    "$$"
   ]
  },
  {
   "cell_type": "markdown",
   "metadata": {},
   "source": [
    "## A Equação Normal\n",
    "\n",
    "Nosso objetivo é achar o vetor de parâmetros $\\mathbf{\\theta}$ que minimiza $\\varepsilon^2\\left(\\mathbf{X}_{\\text{train}}, \\mathbf{y}_{\\text{train}}, \\mathbf{\\theta}\\right)$. Para tanto, vamos resolver a equação \n",
    "\n",
    "$$\\nabla_{\\mathbf{\\theta}} \\varepsilon^2\\left(\\mathbf{X}_{\\text{train}}, \\mathbf{y}_{\\text{train}}, \\mathbf{\\theta}\\right) = \\mathbf{0}$$\n",
    "\n",
    "onde $\\mathbf{0}$ é uma matriz-coluna de $m$ zeros.\n",
    "\n",
    "$$\n",
    "\\nabla_{\\mathbf{\\theta}} \\varepsilon^2\\left(\\mathbf{X}_{\\text{train}}, \\mathbf{y}_{\\text{train}}, \\mathbf{\\theta}\\right) = \n",
    "\\mathbf{0} \\\\\n",
    "\\Leftrightarrow \n",
    "\\frac{1}{m} (\n",
    "    2 \\mathbf{X}_{\\text{train}}^{T} \\mathbf{X}_{\\text{train}} \\mathbf{\\theta} \n",
    "  - 2 \\mathbf{X}_{\\text{train}}^{T} \\mathbf{y}_{\\text{train}}) = \\mathbf{0} \\\\\n",
    "\\Leftrightarrow\n",
    "  \\mathbf{X}_{\\text{train}}^{T} \\mathbf{X}_{\\text{train}} \\mathbf{\\theta} = \n",
    "  \\mathbf{X}_{\\text{train}}^{T} \\mathbf{y}_{\\text{train}} \\\\\n",
    "\\Leftrightarrow\n",
    "  \\mathbf{\\theta} = (\\mathbf{X}_{\\text{train}}^{T} \\mathbf{X}_{\\text{train}})^{-1}\n",
    "  \\mathbf{X}_{\\text{train}}^{T} \\mathbf{y}_{\\text{train}}  \n",
    "$$\n",
    "\n",
    "Esta última linha é conhecida como **equação normal** do problema de regressão linear. Será que corresponde a um ponto de mínimo? Calculando a segunda derivada do erro quadrático temos:\n",
    "\n",
    "$$\n",
    "\\nabla^{2}_{\\mathbf{\\theta}} \\varepsilon^2\\left(\\mathbf{X}_{\\text{train}}, \\mathbf{y}_{\\text{train}}, \\mathbf{\\theta}\\right) = \\frac{2}{m} \\mathbf{X}_{\\text{train}}^{T} \\mathbf{X}_{\\text{train}}\n",
    "$$\n",
    "\n",
    "Como a matriz resultante é positiva-definida (https://en.wikipedia.org/wiki/Positive-definite_matrix), temos a segurança de que a resposta da equação normal é realmente um ponto de mínimo!"
   ]
  },
  {
   "cell_type": "markdown",
   "metadata": {},
   "source": [
    "## Usando a equação normal para treinar uma regressão linear\n",
    "\n",
    "Chegamos finalmente ao nosso primeiro algoritmo de treinamento do curso de machine learning! Vamos treinar um modelo de regressão linear usando a equação normal.\n",
    "\n",
    "A vantagem de se usar a equação normal é que a solução final é obtida diretamente por uma fórmula. A desvantagem é que o cálculo desta fórmula não escala bem com o número de *features* do problema, porque a matriz quadrada $\\mathbf{X}_{\\text{train}}^{T} \\mathbf{X}_{\\text{train}}$ deve ser invertida e esta tem tamanho $n \\times n$. Se o número de *features* for muito alto (e.g. pixels em uma imagem) o custo desta operação é alto."
   ]
  },
  {
   "cell_type": "markdown",
   "metadata": {},
   "source": [
    "**Atividade:** Qual a complexidade computacional de se inverter uma matriz?"
   ]
  },
  {
   "cell_type": "markdown",
   "metadata": {},
   "source": [
    "**R:** $O(n^3)$ pelo algoritmo de Gauss-Jordan."
   ]
  },
  {
   "cell_type": "markdown",
   "metadata": {},
   "source": [
    "**Atividade:** Qual a complexidade computacional do treinamento do regressor linear via equação normal, em termos de:\n",
    "\n",
    "- $n$: número de *features*, e\n",
    "- $m$: número de amostras de treinamento?"
   ]
  },
  {
   "cell_type": "markdown",
   "metadata": {},
   "source": [
    "**R:** \n",
    "\n",
    "$\\mathbf{X}_{train}^T \\mathbf{X}_{train} \\rightarrow O(n^2 m)$\n",
    "\n",
    "$\\left(\\mathbf{X}_{train}^T \\mathbf{X}_{train}\\right)^{-1} \\rightarrow O(n^3)$\n",
    "\n",
    "$\\mathbf{X}_{\\text{train}}^{T} \\mathbf{y}_{\\text{train}} \\rightarrow O(m n)$\n",
    "\n",
    "$(\\mathbf{X}_{\\text{train}}^{T} \\mathbf{X}_{\\text{train}})^{-1} \\mathbf{X}_{\\text{train}}^{T} \\mathbf{y}_{\\text{train}} \\rightarrow O(n^2)$\n",
    "  \n",
    "Conclusão: $O(m n^2 + n^3)$"
   ]
  },
  {
   "cell_type": "markdown",
   "metadata": {},
   "source": [
    "**Atividade:** Em função dos resultados acima, você recomendaria o uso da equação normal em um problema:\n",
    "\n",
    "1. Com poucas amostras de treinamento e muitas *features*?\n",
    "\n",
    "2. Com muitas amostras de treinamento e poucas *features*?"
   ]
  },
  {
   "cell_type": "markdown",
   "metadata": {},
   "source": [
    "**R:** \n",
    "\n",
    "1. Não\n",
    "\n",
    "2. Sim\n"
   ]
  },
  {
   "cell_type": "markdown",
   "metadata": {},
   "source": [
    "Vamos gerar alguns pontos de dados para testar nossa regressão linear. Nossa função linear real será $f(x) = 3 x + 4$ e á esta adicionaremos ruído gaussiano de média zero e desvio padrão unitário:"
   ]
  },
  {
   "cell_type": "code",
   "execution_count": 2,
   "metadata": {},
   "outputs": [],
   "source": [
    "m = 100\n",
    "\n",
    "X = 2 * np.random.rand(m, 1)  # Gera m pontos aleatórios entre 0 e 2.\n",
    "ruido = np.random.randn(m, 1)  # Gera um ruido gaussiano de desvio padrão 1.0\n",
    "\n",
    "y = 4 + 3 * X + ruido  # Nosso sinal detectado."
   ]
  },
  {
   "cell_type": "markdown",
   "metadata": {},
   "source": [
    "**Pergunta:** Quais são os parâmetros ótimos esperados ao se treinar um modelo de regressão linear sobre dados gerados por esta código?"
   ]
  },
  {
   "cell_type": "markdown",
   "metadata": {},
   "source": [
    "**R:** $\\theta_0 = 4$ e $\\theta_1 = 3$"
   ]
  },
  {
   "cell_type": "code",
   "execution_count": 3,
   "metadata": {},
   "outputs": [
    {
     "data": {
      "image/png": "[encoded data removed]",
      "text/plain": [
       "<Figure size 576x432 with 1 Axes>"
      ]
     },
     "metadata": {
      "needs_background": "light"
     },
     "output_type": "display_data"
    }
   ],
   "source": [
    "X_aux = np.array([[0.0], [2.0]])\n",
    "y_aux = 4 + 3*X_aux\n",
    "\n",
    "plt.figure(figsize=(8,6))\n",
    "plt.plot(X, y, \"b.\")\n",
    "plt.plot(X_aux, y_aux, \"r--\")\n",
    "plt.xlabel(\"$x_1$\", fontsize=18)\n",
    "plt.ylabel(\"$y$\", rotation=0, fontsize=18)\n",
    "plt.axis([0, 2, 0, 15])\n",
    "plt.show()"
   ]
  },
  {
   "cell_type": "markdown",
   "metadata": {},
   "source": [
    "Para usar a equação normal temos que aumentar a matriz de amostras de treinamento com uma coluna extra de valores $1$:"
   ]
  },
  {
   "cell_type": "code",
   "execution_count": 4,
   "metadata": {},
   "outputs": [
    {
     "name": "stdout",
     "output_type": "stream",
     "text": [
      "Tamanho original da matriz de amostras: (100, 1)\n",
      "Algumas das amostras originais:\n",
      "[[0.74908024]\n",
      " [1.90142861]\n",
      " [1.46398788]\n",
      " [1.19731697]\n",
      " [0.31203728]]\n",
      "Tamanho da matriz de amostras aumentada: (100, 2)\n",
      "Algumas das amostras da matriz aumentada:\n",
      "[[1.         0.74908024]\n",
      " [1.         1.90142861]\n",
      " [1.         1.46398788]\n",
      " [1.         1.19731697]\n",
      " [1.         0.31203728]]\n"
     ]
    }
   ],
   "source": [
    "print(f'Tamanho original da matriz de amostras: {X.shape}')\n",
    "print(f'Algumas das amostras originais:\\n{X[:5]}')\n",
    "\n",
    "# Adicionando uma coluna de 1s.\n",
    "X_b = np.c_[np.ones((m, 1)), X]\n",
    "\n",
    "print(f'Tamanho da matriz de amostras aumentada: {X_b.shape}')\n",
    "print(f'Algumas das amostras da matriz aumentada:\\n{X_b[:5]}')"
   ]
  },
  {
   "cell_type": "markdown",
   "metadata": {},
   "source": [
    "Agora vamos usar a equação normal para calcular os parâmetros ótimos:"
   ]
  },
  {
   "cell_type": "code",
   "execution_count": 5,
   "metadata": {},
   "outputs": [
    {
     "data": {
      "text/plain": [
       "array([[4.21509616],\n",
       "       [2.77011339]])"
      ]
     },
     "execution_count": 5,
     "metadata": {},
     "output_type": "execute_result"
    }
   ],
   "source": [
    "theta_best = np.linalg.inv(X_b.T.dot(X_b)).dot(X_b.T).dot(y)\n",
    "theta_best"
   ]
  },
  {
   "cell_type": "markdown",
   "metadata": {},
   "source": [
    "Chegamos perto do resultado ideal!\n",
    "\n",
    "**Atividade:** Mude o número de pontos de treinamento e veja se os parâmetros ótimos se aproximam dos parâmetros ideais."
   ]
  },
  {
   "cell_type": "markdown",
   "metadata": {},
   "source": [
    "Vamos ver como o modelo se comporta para fazer predições:"
   ]
  },
  {
   "cell_type": "code",
   "execution_count": 6,
   "metadata": {},
   "outputs": [
    {
     "data": {
      "image/png": "[encoded data removed]",
      "text/plain": [
       "<Figure size 576x432 with 1 Axes>"
      ]
     },
     "metadata": {
      "needs_background": "light"
     },
     "output_type": "display_data"
    }
   ],
   "source": [
    "X_test = np.linspace(0.0, 2.0, num=100).T\n",
    "X_test_b = np.c_[np.ones((len(X_test), 1)), X_test]\n",
    "y_test = X_test_b.dot(theta_best)\n",
    "\n",
    "plt.figure(figsize=(8,6))\n",
    "plt.plot(X, y, \"b.\", label='amostras')\n",
    "plt.plot(X_aux, y_aux, \"r\", label='ideal')\n",
    "plt.plot(X_test, y_test, \"g-\", label='predições')\n",
    "plt.xlabel(\"$x_1$\", fontsize=18)\n",
    "plt.ylabel(\"$y$\", rotation=0, fontsize=18)\n",
    "plt.legend(loc=\"upper left\", fontsize=14)\n",
    "plt.axis([0, 2, 0, 15])\n",
    "plt.show()"
   ]
  },
  {
   "cell_type": "markdown",
   "metadata": {},
   "source": [
    "Vamos comparar nosso preditor com o regressor linear do scikit-learn:"
   ]
  },
  {
   "cell_type": "code",
   "execution_count": 7,
   "metadata": {},
   "outputs": [],
   "source": [
    "from sklearn.linear_model import LinearRegression\n",
    "lin_reg = LinearRegression()"
   ]
  },
  {
   "cell_type": "code",
   "execution_count": 9,
   "metadata": {},
   "outputs": [
    {
     "data": {
      "text/plain": [
       "(array([4.21509616]), array([[2.77011339]]))"
      ]
     },
     "execution_count": 9,
     "metadata": {},
     "output_type": "execute_result"
    }
   ],
   "source": [
    "lin_reg.fit(X, y)\n",
    "lin_reg.intercept_, lin_reg.coef_"
   ]
  },
  {
   "cell_type": "markdown",
   "metadata": {},
   "source": [
    "Resultados identicos!"
   ]
  },
  {
   "cell_type": "markdown",
   "metadata": {},
   "source": [
    "**Atividade:** Escreva seu próprio regressor linear no framework do scikit-learn. Teste o regressor."
   ]
  },
  {
   "cell_type": "code",
   "execution_count": 10,
   "metadata": {},
   "outputs": [
    {
     "name": "stdout",
     "output_type": "stream",
     "text": [
      "[[4.21509616]\n",
      " [2.77011339]]\n"
     ]
    },
    {
     "data": {
      "text/plain": [
       "array([[4.21509616],\n",
       "       [4.27105804],\n",
       "       [4.32701993],\n",
       "       [4.38298182],\n",
       "       [4.4389437 ],\n",
       "       [4.49490559],\n",
       "       [4.55086748],\n",
       "       [4.60682936],\n",
       "       [4.66279125],\n",
       "       [4.71875314],\n",
       "       [4.77471502],\n",
       "       [4.83067691],\n",
       "       [4.8866388 ],\n",
       "       [4.94260068],\n",
       "       [4.99856257],\n",
       "       [5.05452446],\n",
       "       [5.11048634],\n",
       "       [5.16644823],\n",
       "       [5.22241012],\n",
       "       [5.278372  ],\n",
       "       [5.33433389],\n",
       "       [5.39029578],\n",
       "       [5.44625766],\n",
       "       [5.50221955],\n",
       "       [5.55818144],\n",
       "       [5.61414332],\n",
       "       [5.67010521],\n",
       "       [5.7260671 ],\n",
       "       [5.78202898],\n",
       "       [5.83799087],\n",
       "       [5.89395276],\n",
       "       [5.94991464],\n",
       "       [6.00587653],\n",
       "       [6.06183842],\n",
       "       [6.1178003 ],\n",
       "       [6.17376219],\n",
       "       [6.22972407],\n",
       "       [6.28568596],\n",
       "       [6.34164785],\n",
       "       [6.39760973],\n",
       "       [6.45357162],\n",
       "       [6.50953351],\n",
       "       [6.56549539],\n",
       "       [6.62145728],\n",
       "       [6.67741917],\n",
       "       [6.73338105],\n",
       "       [6.78934294],\n",
       "       [6.84530483],\n",
       "       [6.90126671],\n",
       "       [6.9572286 ],\n",
       "       [7.01319049],\n",
       "       [7.06915237],\n",
       "       [7.12511426],\n",
       "       [7.18107615],\n",
       "       [7.23703803],\n",
       "       [7.29299992],\n",
       "       [7.34896181],\n",
       "       [7.40492369],\n",
       "       [7.46088558],\n",
       "       [7.51684747],\n",
       "       [7.57280935],\n",
       "       [7.62877124],\n",
       "       [7.68473313],\n",
       "       [7.74069501],\n",
       "       [7.7966569 ],\n",
       "       [7.85261879],\n",
       "       [7.90858067],\n",
       "       [7.96454256],\n",
       "       [8.02050445],\n",
       "       [8.07646633],\n",
       "       [8.13242822],\n",
       "       [8.18839011],\n",
       "       [8.24435199],\n",
       "       [8.30031388],\n",
       "       [8.35627577],\n",
       "       [8.41223765],\n",
       "       [8.46819954],\n",
       "       [8.52416143],\n",
       "       [8.58012331],\n",
       "       [8.6360852 ],\n",
       "       [8.69204709],\n",
       "       [8.74800897],\n",
       "       [8.80397086],\n",
       "       [8.85993274],\n",
       "       [8.91589463],\n",
       "       [8.97185652],\n",
       "       [9.0278184 ],\n",
       "       [9.08378029],\n",
       "       [9.13974218],\n",
       "       [9.19570406],\n",
       "       [9.25166595],\n",
       "       [9.30762784],\n",
       "       [9.36358972],\n",
       "       [9.41955161],\n",
       "       [9.4755135 ],\n",
       "       [9.53147538],\n",
       "       [9.58743727],\n",
       "       [9.64339916],\n",
       "       [9.69936104],\n",
       "       [9.75532293]])"
      ]
     },
     "execution_count": 10,
     "metadata": {},
     "output_type": "execute_result"
    }
   ],
   "source": [
    "class NormalEquationLinearRegression():\n",
    "    def fit(self, X, y):\n",
    "        X = np.c_[np.ones((X.shape[0], 1)), np.array(X)]\n",
    "        y = np.array(y)\n",
    "        self.theta = np.linalg.inv(X.transpose().dot(X)).dot(X.transpose()).dot(y)\n",
    "    \n",
    "    def predict(self, X):\n",
    "        X = np.c_[np.ones((X.shape[0], 1)), np.array(X)]\n",
    "        return X.dot(self.theta)\n",
    "    \n",
    "my_reg = NormalEquationLinearRegression()\n",
    "my_reg.fit(X, y)\n",
    "print(my_reg.theta)\n",
    "y_pred = my_reg.predict(X_test)\n",
    "y_pred"
   ]
  },
  {
   "cell_type": "markdown",
   "metadata": {},
   "source": [
    "#  Gradient Descent"
   ]
  },
  {
   "cell_type": "markdown",
   "metadata": {},
   "source": [
    "Um outro método de treinamento de uma regressão linear é o método do máximo declive (*gradient descent*). Este método também serve para outros regressores e classificadores, é bastante genérico - usaremos bastante o gradient descent em redes neurais!\n",
    "\n",
    "Este método se baseia na observação seguinte:\n",
    "\n",
    "- O gradiente da função de erro médio é um vetor no espaço de características que aponta na direção de maior crescimento do erro.\n",
    "- Logo, se desejo achar os parâmetros que minimizam o erro, basta andar na direção contrária do gradiente do erro!\n",
    "\n",
    "Ou seja, partindo de um \"chute\" aleatório $\\mathbf{\\theta}_{0}$ dos valores dos parâmetros, vamos iterativamente melhorar nossos parâmetros através de pequenos incrementos neste na direção oposta ao gradiente da função de erro:\n",
    "\n",
    "$$\n",
    "\\mathbf{\\theta}_{i + 1} = \\mathbf{\\theta}_{i} - \\eta \\nabla_{\\mathbf{\\theta}} \\varepsilon^2\\left(\\mathbf{X}_{\\text{train}}, \\mathbf{y}_{\\text{train}}, \\mathbf{\\theta}_{i}\\right)\n",
    "$$\n",
    "\n",
    "O **hiperparâmetro** $\\eta$ é chamado de *passo de aprendizado* (*learning step*) do algoritmo.\n",
    "\n",
    "Continuamos iterando através desta fórmula até que não tenhamos mais mudanças significativas em $\\mathbf{\\theta}$, ou seja: para uma pequena tolerância $\\epsilon > 0$\n",
    "\n",
    "$$\n",
    "\\left| \\, \\mathbf{\\theta}_{i + 1} - \\mathbf{\\theta}_{i} \\, \\right| < \\epsilon\n",
    "$$\n",
    "\n",
    "O **hiperparâmetro** $\\epsilon$ controla a precisão desejada na solução final. Se a tolerância for muito pequena pode ser que o algoritmo não convirja rapidamente. Neste caso é comum definir um número máximo de iterações através de outro **hiperparâmetro** ``max_iter``."
   ]
  },
  {
   "cell_type": "markdown",
   "metadata": {},
   "source": [
    "**Atividade:** Estude o material do livro texto (Géron), capítulo 4 e responda:\n",
    "\n",
    "- Qual a diferença entre batch gradient descent, stochastic gradient descent, e mini-batch gradient descent?\n",
    "- O que acontece quando $\\eta$ é muito pequeno?\n",
    "- O que acontece quando $\\eta$ é muito grande?\n",
    "- Quais as classes do scikit-learn que implementam regressão linear usando a equação normal no treinamento? Quais usam gradient descent em alguma de suas formas?"
   ]
  },
  {
   "cell_type": "markdown",
   "metadata": {},
   "source": [
    "**R:**\n",
    "\n",
    "- Qual a diferença entre batch gradient descent, stochastic gradient descent, e mini-batch gradient descent?\n",
    "    - Batch: take the average of the gradients of all the training examples and then use that mean gradient to update our parameters. So that’s just one step of gradient descent in one epoch.\n",
    "    - Stochastic: consider just one example at a time to take a single step. Usa um valor, calculando seu gradiente e o utiliza para atualizar os demais pesos. Repete esse processo para todos os exemplos.\n",
    "    - mini-batch: trabalhar com predaços do dataset, alterando o pedaço usado a cada iteração do algoritmo.\n",
    "        - https://towardsdatascience.com/batch-mini-batch-stochastic-gradient-descent-7a62ecba642a\n",
    "- O que acontece quando $\\eta$ é muito pequeno?\n",
    "    - Demora para convergir;\n",
    "    - Maior possibilidade de parar em um mínimo local.\n",
    "- O que acontece quando $\\eta$ é muito grande?\n",
    "    - Diverge\n",
    "- Quais as classes do scikit-learn que implementam regressão linear usando a equação normal no treinamento? Quais usam gradient descent em alguma de suas formas?\n",
    "    - LinearRegression utiliza equação normal (baseado em Ordinary Least Squares);\n",
    "    - SGDRegressor utiliza gradient descent."
   ]
  },
  {
   "cell_type": "markdown",
   "metadata": {},
   "source": [
    "Vamos implementar o método do *gradient descent* para resolver o problema do treinamento do modelo linear.\n",
    "\n",
    "Vamos desenhar a discussão acima na forma de pseudo-código:\n",
    "\n",
    "- Entrada: \n",
    "    - Conjunto de treinamento $(\\mathbf{X}_{m \\times n}, \\mathbf{y}_{m \\times 1})$\n",
    "    - Valores iniciais do vetor de parâmetros $\\theta$\n",
    "    - Hiperparâmetros do algoritmo: \n",
    "        - tolerância $\\epsilon$\n",
    "        - número máximo de iterações $N_{\\text{max}}$\n",
    "        - taxa de aprendizado $\\eta$\n",
    "- Saida: \n",
    "    - Valores ótimos do vetor de parametros $\\theta$\n",
    "\n",
    "Algoritmo:\n",
    "\n",
    "- $acabou \\leftarrow Falso$\n",
    "- $iter \\leftarrow 0$\n",
    "- enquanto não $acabou$:\n",
    "    - $\\theta_{novo} \\leftarrow \\theta - \\eta \\nabla_{\\theta} \\varepsilon^2\\left(\\mathbf{X}, \\mathbf{y}, \\theta\\right)$\n",
    "    - $iter \\leftarrow iter + 1$\n",
    "    - se $\\left| \\, \\theta - \\theta_{novo} \\, \\right| < \\epsilon$ ou $iter > N_{\\text{max}}$:\n",
    "        - $acabou \\leftarrow Verdadeiro$\n",
    "    - $\\theta \\leftarrow \\theta_{novo}$\n",
    "- retorna $\\theta$\n",
    "\n",
    "**Atividade**: Implemente o algoritmo de *gradient descent* na forma de um modelo do Scikit-Learn e teste o resultado! Lembrando: \n",
    "\n",
    "$$\n",
    "\\nabla_{\\theta} \\varepsilon^2\\left(\\mathbf{X}, \\mathbf{y}, \\theta \\right) = \n",
    "\\frac{1}{m} (\n",
    "    2 \\mathbf{X}^{T} \\mathbf{X} \\mathbf{\\theta} \n",
    "  - 2 \\mathbf{X}^{T} \\mathbf{y})\n",
    "$$\n",
    "\n",
    "sendo que a matriz $\\mathbf{X}$ já contem o termo constante (aquela coluna de $1$s)."
   ]
  },
  {
   "cell_type": "code",
   "execution_count": 11,
   "metadata": {},
   "outputs": [
    {
     "name": "stdout",
     "output_type": "stream",
     "text": [
      "convergiu\n",
      "[[4.21509403]\n",
      " [2.77011527]]\n"
     ]
    },
    {
     "data": {
      "text/plain": [
       "array([[4.21509403],\n",
       "       [4.27105595],\n",
       "       [4.32701788],\n",
       "       [4.3829798 ],\n",
       "       [4.43894172],\n",
       "       [4.49490365],\n",
       "       [4.55086557],\n",
       "       [4.6068275 ],\n",
       "       [4.66278942],\n",
       "       [4.71875135],\n",
       "       [4.77471327],\n",
       "       [4.8306752 ],\n",
       "       [4.88663712],\n",
       "       [4.94259905],\n",
       "       [4.99856097],\n",
       "       [5.0545229 ],\n",
       "       [5.11048482],\n",
       "       [5.16644674],\n",
       "       [5.22240867],\n",
       "       [5.27837059],\n",
       "       [5.33433252],\n",
       "       [5.39029444],\n",
       "       [5.44625637],\n",
       "       [5.50221829],\n",
       "       [5.55818022],\n",
       "       [5.61414214],\n",
       "       [5.67010407],\n",
       "       [5.72606599],\n",
       "       [5.78202792],\n",
       "       [5.83798984],\n",
       "       [5.89395176],\n",
       "       [5.94991369],\n",
       "       [6.00587561],\n",
       "       [6.06183754],\n",
       "       [6.11779946],\n",
       "       [6.17376139],\n",
       "       [6.22972331],\n",
       "       [6.28568524],\n",
       "       [6.34164716],\n",
       "       [6.39760909],\n",
       "       [6.45357101],\n",
       "       [6.50953294],\n",
       "       [6.56549486],\n",
       "       [6.62145678],\n",
       "       [6.67741871],\n",
       "       [6.73338063],\n",
       "       [6.78934256],\n",
       "       [6.84530448],\n",
       "       [6.90126641],\n",
       "       [6.95722833],\n",
       "       [7.01319026],\n",
       "       [7.06915218],\n",
       "       [7.12511411],\n",
       "       [7.18107603],\n",
       "       [7.23703796],\n",
       "       [7.29299988],\n",
       "       [7.3489618 ],\n",
       "       [7.40492373],\n",
       "       [7.46088565],\n",
       "       [7.51684758],\n",
       "       [7.5728095 ],\n",
       "       [7.62877143],\n",
       "       [7.68473335],\n",
       "       [7.74069528],\n",
       "       [7.7966572 ],\n",
       "       [7.85261913],\n",
       "       [7.90858105],\n",
       "       [7.96454298],\n",
       "       [8.0205049 ],\n",
       "       [8.07646682],\n",
       "       [8.13242875],\n",
       "       [8.18839067],\n",
       "       [8.2443526 ],\n",
       "       [8.30031452],\n",
       "       [8.35627645],\n",
       "       [8.41223837],\n",
       "       [8.4682003 ],\n",
       "       [8.52416222],\n",
       "       [8.58012415],\n",
       "       [8.63608607],\n",
       "       [8.692048  ],\n",
       "       [8.74800992],\n",
       "       [8.80397184],\n",
       "       [8.85993377],\n",
       "       [8.91589569],\n",
       "       [8.97185762],\n",
       "       [9.02781954],\n",
       "       [9.08378147],\n",
       "       [9.13974339],\n",
       "       [9.19570532],\n",
       "       [9.25166724],\n",
       "       [9.30762917],\n",
       "       [9.36359109],\n",
       "       [9.41955301],\n",
       "       [9.47551494],\n",
       "       [9.53147686],\n",
       "       [9.58743879],\n",
       "       [9.64340071],\n",
       "       [9.69936264],\n",
       "       [9.75532456]])"
      ]
     },
     "execution_count": 11,
     "metadata": {},
     "output_type": "execute_result"
    }
   ],
   "source": [
    "class GradientDescentLinearRegression():\n",
    "    def __init__(self, eta, eps, Nmax):\n",
    "        self.eta = eta\n",
    "        self.eps = eps\n",
    "        self.Nmax = Nmax\n",
    "        \n",
    "    def fit(self, X, y):\n",
    "        m = X.shape[0]\n",
    "        X = np.c_[np.ones((m, 1)), np.array(X)] # Regressão linear na forma matricial (lousa da aula - slide3)\n",
    "        y = np.array(y)\n",
    "\n",
    "        # Precalcular coisas do gradiente\n",
    "        XtX = (2.0/m)*X.transpose().dot(X)\n",
    "        Xty = (2.0/m)*X.transpose().dot(y)\n",
    "        \n",
    "        theta = np.zeros((X.shape[1], 1))\n",
    "        acabou = False\n",
    "        it = 0\n",
    "        while not acabou:\n",
    "            grad = XtX.dot(theta) - Xty\n",
    "            new_theta = theta - self.eta * grad\n",
    "            it += 1\n",
    "            dist = np.linalg.norm(grad)\n",
    "            if dist < self.eps or it > self.Nmax:\n",
    "                acabou = True\n",
    "                print('não convergiu' if it > self.Nmax else 'convergiu')\n",
    "            theta = new_theta\n",
    "                \n",
    "        self.theta = theta\n",
    "    \n",
    "    def predict(self, X):\n",
    "        X = np.c_[np.ones((X.shape[0], 1)), np.array(X)]\n",
    "        return X.dot(self.theta)\n",
    "\n",
    "eta = 1e-1\n",
    "eps = 1e-6\n",
    "Nmax = 1000\n",
    "my_reg = GradientDescentLinearRegression(eta, eps, Nmax)\n",
    "my_reg.fit(X, y)\n",
    "print(my_reg.theta)\n",
    "y_pred = my_reg.predict(X_test)\n",
    "y_pred"
   ]
  },
  {
   "cell_type": "markdown",
   "metadata": {},
   "source": [
    "## Batch versus mini-batch versus stochastic gradient descent\n",
    "\n",
    "O algoritmo acima chama-se *batch gradient descent*, pois opera com o lote (batch) completo de amostras de treinamento de uma vez só. Mas pense um pouco: será que precisamos de todas as amostras de treinamento para calcular um gradiente razoável? Considere os cenários a seguir:\n",
    "\n",
    "- Calcular o gradiente do erro usando todas as amostras de um conjunto de treinamento com centenas de milhares de amostras.\n",
    "\n",
    "- Calcular o gradiente do erro usando metade deste mesmo conjunto de treinamento.\n",
    "\n",
    "Certamente o segundo caso não vai retornar o \"melhor\" gradiente, mas vai retornar algo muito próximo com um custo *MUITO* menor! Outra consideração, até mais importante: *O CONJUNTO DE TREINAMENTO PODE NEM CABER NA MEMÓRIA RAM*!\n",
    "\n",
    "Este *insight* leva ao método *mini-batch gradient descent*: ao invés de trabalhar com o conjunto completo de treinamento de uma vez só, trabalhe com ele por pedaços, rotacionando o pedaço usado a cada iteração do algoritmo.\n",
    "\n",
    "O algoritmo então fica assim:\n",
    "\n",
    "- $acabou \\leftarrow Falso$\n",
    "- $iter \\leftarrow 0$\n",
    "- enquanto não $acabou$:\n",
    "    - $\\theta_{novo} \\leftarrow \\theta$\n",
    "    - Para cada *mini-batch* $(\\mathbf{X}_{b}, \\mathbf{y}_{b})$ de $(\\mathbf{X}, \\mathbf{y})$:\n",
    "        - $\\theta_{novo} \\leftarrow \\theta_{novo} - \\eta \\nabla_{\\theta_{novo}} \\varepsilon^2\\left(\\mathbf{X}_{b}, \\mathbf{y}_{b}, \\theta_{novo}\\right)$\n",
    "    - $iter \\leftarrow iter + 1$\n",
    "    - se $\\left| \\, \\theta - \\theta_{novo} \\, \\right| < \\epsilon$ ou $iter > N_{\\text{max}}$:\n",
    "        - $acabou \\leftarrow Verdadeiro$\n",
    "    - $\\theta \\leftarrow \\theta_{novo}$\n",
    "- retorna $\\theta$\n",
    "\n",
    "Cada passagem completa por todos os *mini-batches* (ou seja, um passo pelo *batch* completo) chama-se *epoch* no linguajar de machine learning.\n",
    "\n",
    "No caso limite em que o tamanho do *mini-batch* é $1$ (!!!), mas a amostra é escolhida ao acaso (ao invés de passar por todas as amostras), temos o algoritmo *stochastic gradient descent*."
   ]
  },
  {
   "cell_type": "code",
   "execution_count": 12,
   "metadata": {},
   "outputs": [
    {
     "name": "stdout",
     "output_type": "stream",
     "text": [
      "convergiu\n",
      "[[4.25891449]\n",
      " [2.8681156 ]]\n"
     ]
    },
    {
     "data": {
      "text/plain": [
       "array([[4.25891449],\n",
       "       [4.31685622],\n",
       "       [4.37479795],\n",
       "       [4.43273968],\n",
       "       [4.49068141],\n",
       "       [4.54862314],\n",
       "       [4.60656487],\n",
       "       [4.6645066 ],\n",
       "       [4.72244833],\n",
       "       [4.78039006],\n",
       "       [4.83833178],\n",
       "       [4.89627351],\n",
       "       [4.95421524],\n",
       "       [5.01215697],\n",
       "       [5.0700987 ],\n",
       "       [5.12804043],\n",
       "       [5.18598216],\n",
       "       [5.24392389],\n",
       "       [5.30186562],\n",
       "       [5.35980735],\n",
       "       [5.41774908],\n",
       "       [5.47569081],\n",
       "       [5.53363254],\n",
       "       [5.59157426],\n",
       "       [5.64951599],\n",
       "       [5.70745772],\n",
       "       [5.76539945],\n",
       "       [5.82334118],\n",
       "       [5.88128291],\n",
       "       [5.93922464],\n",
       "       [5.99716637],\n",
       "       [6.0551081 ],\n",
       "       [6.11304983],\n",
       "       [6.17099156],\n",
       "       [6.22893329],\n",
       "       [6.28687501],\n",
       "       [6.34481674],\n",
       "       [6.40275847],\n",
       "       [6.4607002 ],\n",
       "       [6.51864193],\n",
       "       [6.57658366],\n",
       "       [6.63452539],\n",
       "       [6.69246712],\n",
       "       [6.75040885],\n",
       "       [6.80835058],\n",
       "       [6.86629231],\n",
       "       [6.92423404],\n",
       "       [6.98217577],\n",
       "       [7.04011749],\n",
       "       [7.09805922],\n",
       "       [7.15600095],\n",
       "       [7.21394268],\n",
       "       [7.27188441],\n",
       "       [7.32982614],\n",
       "       [7.38776787],\n",
       "       [7.4457096 ],\n",
       "       [7.50365133],\n",
       "       [7.56159306],\n",
       "       [7.61953479],\n",
       "       [7.67747652],\n",
       "       [7.73541825],\n",
       "       [7.79335997],\n",
       "       [7.8513017 ],\n",
       "       [7.90924343],\n",
       "       [7.96718516],\n",
       "       [8.02512689],\n",
       "       [8.08306862],\n",
       "       [8.14101035],\n",
       "       [8.19895208],\n",
       "       [8.25689381],\n",
       "       [8.31483554],\n",
       "       [8.37277727],\n",
       "       [8.430719  ],\n",
       "       [8.48866072],\n",
       "       [8.54660245],\n",
       "       [8.60454418],\n",
       "       [8.66248591],\n",
       "       [8.72042764],\n",
       "       [8.77836937],\n",
       "       [8.8363111 ],\n",
       "       [8.89425283],\n",
       "       [8.95219456],\n",
       "       [9.01013629],\n",
       "       [9.06807802],\n",
       "       [9.12601975],\n",
       "       [9.18396148],\n",
       "       [9.2419032 ],\n",
       "       [9.29984493],\n",
       "       [9.35778666],\n",
       "       [9.41572839],\n",
       "       [9.47367012],\n",
       "       [9.53161185],\n",
       "       [9.58955358],\n",
       "       [9.64749531],\n",
       "       [9.70543704],\n",
       "       [9.76337877],\n",
       "       [9.8213205 ],\n",
       "       [9.87926223],\n",
       "       [9.93720395],\n",
       "       [9.99514568]])"
      ]
     },
     "execution_count": 12,
     "metadata": {},
     "output_type": "execute_result"
    }
   ],
   "source": [
    "def grad(X, y, theta):\n",
    "    m = X.shape[0]\n",
    "    XtX = (2.0/m)*X.transpose().dot(X)\n",
    "    Xty = (2.0/m)*X.transpose().dot(y)\n",
    "    grad = XtX.dot(theta) - Xty\n",
    "    return grad\n",
    "\n",
    "class MiniBatchGradientDescentLinearRegression():\n",
    "    def __init__(self, eta, eps, Nmax, batch_size):\n",
    "        self.eta = eta\n",
    "        self.eps = eps\n",
    "        self.Nmax = Nmax\n",
    "        self.batch_size = batch_size\n",
    "        \n",
    "    def fit(self, X, y):\n",
    "        m = X.shape[0]\n",
    "        X = np.c_[np.ones((m, 1)), np.array(X)]\n",
    "        y = np.array(y)\n",
    "        \n",
    "        theta = np.zeros((X.shape[1], 1))\n",
    "        acabou = False\n",
    "        it = 0\n",
    "        while not acabou:\n",
    "            new_theta = theta\n",
    "            for k in range(0, m, self.batch_size):\n",
    "                ktop = k + self.batch_size\n",
    "                if ktop > m:\n",
    "                    ktop = m\n",
    "                Xbatch = X[k:ktop, :]\n",
    "                ybatch = y[k:ktop]\n",
    "                new_theta = new_theta - self.eta * grad(Xbatch, ybatch, new_theta)\n",
    "            it += 1\n",
    "            dist = np.linalg.norm(theta - new_theta)\n",
    "            if dist < self.eps or it > self.Nmax:\n",
    "                acabou = True\n",
    "                print('não convergiu' if it > self.Nmax else 'convergiu')\n",
    "            theta = new_theta\n",
    "                \n",
    "        self.theta = theta\n",
    "    \n",
    "    def predict(self, X):\n",
    "        X = np.c_[np.ones((X.shape[0], 1)), np.array(X)]\n",
    "        return X.dot(self.theta)\n",
    "\n",
    "eta = 1e-1\n",
    "eps = 1e-6\n",
    "Nmax = 1000\n",
    "my_reg = MiniBatchGradientDescentLinearRegression(eta, eps, Nmax, 10)\n",
    "my_reg.fit(X, y)\n",
    "print(my_reg.theta)\n",
    "y_pred = my_reg.predict(X_test)\n",
    "y_pred"
   ]
  },
  {
   "cell_type": "markdown",
   "metadata": {},
   "source": [
    "# Regressão polinomial"
   ]
  },
  {
   "cell_type": "markdown",
   "metadata": {},
   "source": [
    "E se os dados não se ajustam a uma linha reta (ou um hiperplano, no caso geral)? Considere o seguinte problema:"
   ]
  },
  {
   "cell_type": "code",
   "execution_count": 13,
   "metadata": {},
   "outputs": [],
   "source": [
    "np.random.seed(42)\n",
    "\n",
    "m = 100\n",
    "X = 6 * np.random.rand(m, 1) - 3\n",
    "y = 0.5 * X**2 + X + 2 + np.random.randn(m, 1)"
   ]
  },
  {
   "cell_type": "code",
   "execution_count": 14,
   "metadata": {},
   "outputs": [
    {
     "data": {
      "image/png": "[encoded data removed]",
      "text/plain": [
       "<Figure size 576x432 with 1 Axes>"
      ]
     },
     "metadata": {
      "needs_background": "light"
     },
     "output_type": "display_data"
    }
   ],
   "source": [
    "plt.figure(figsize=(8,6))\n",
    "plt.plot(X, y, \"b.\")\n",
    "plt.xlabel(\"$x_1$\", fontsize=18)\n",
    "plt.ylabel(\"$y$\", rotation=0, fontsize=18)\n",
    "plt.axis([-3, 3, 0, 10])\n",
    "plt.show()"
   ]
  },
  {
   "cell_type": "markdown",
   "metadata": {},
   "source": [
    "Obviamente não podemos atingir um bom *fit* com uma linha reta! A solução para nosso problema é criar novas *features* com valores polinomiais:"
   ]
  },
  {
   "cell_type": "code",
   "execution_count": 15,
   "metadata": {},
   "outputs": [
    {
     "name": "stdout",
     "output_type": "stream",
     "text": [
      "Tamanho original da matriz de amostras: (100, 1)\n",
      "Algumas das amostras originais:\n",
      "[[-0.75275929]\n",
      " [ 2.70428584]\n",
      " [ 1.39196365]\n",
      " [ 0.59195091]\n",
      " [-2.06388816]]\n",
      "Tamanho da matriz de amostras aumentada: (100, 3)\n",
      "Algumas das amostras da matriz aumentada:\n",
      "[[ 1.         -0.75275929  0.56664654]\n",
      " [ 1.          2.70428584  7.3131619 ]\n",
      " [ 1.          1.39196365  1.93756281]\n",
      " [ 1.          0.59195091  0.35040587]\n",
      " [ 1.         -2.06388816  4.25963433]]\n"
     ]
    }
   ],
   "source": [
    "print('Tamanho original da matriz de amostras: {}'.format(X.shape))\n",
    "print('Algumas das amostras originais:\\n{}'.format(X[:5]))\n",
    "\n",
    "# Adicionando uma coluna de 1s.\n",
    "X_b = np.c_[np.ones((m, 1)), X, X**2]\n",
    "\n",
    "print('Tamanho da matriz de amostras aumentada: {}'.format(X_b.shape))\n",
    "print('Algumas das amostras da matriz aumentada:\\n{}'.format(X_b[:5]))"
   ]
  },
  {
   "cell_type": "markdown",
   "metadata": {},
   "source": [
    "Usamos novamente a equação normal para achar os parâmetros ótimos (ou o gradient descent também serve!)"
   ]
  },
  {
   "cell_type": "code",
   "execution_count": 16,
   "metadata": {},
   "outputs": [
    {
     "data": {
      "text/plain": [
       "array([[1.78134581],\n",
       "       [0.93366893],\n",
       "       [0.56456263]])"
      ]
     },
     "execution_count": 16,
     "metadata": {},
     "output_type": "execute_result"
    }
   ],
   "source": [
    "theta_best = np.linalg.inv(X_b.T.dot(X_b)).dot(X_b.T).dot(y)\n",
    "theta_best"
   ]
  },
  {
   "cell_type": "markdown",
   "metadata": {},
   "source": [
    "Agora vamos ver como ficou nosso *fit*:"
   ]
  },
  {
   "cell_type": "code",
   "execution_count": 17,
   "metadata": {},
   "outputs": [
    {
     "data": {
      "image/png": "[encoded data removed]",
      "text/plain": [
       "<Figure size 576x432 with 1 Axes>"
      ]
     },
     "metadata": {
      "needs_background": "light"
     },
     "output_type": "display_data"
    }
   ],
   "source": [
    "X_test = np.linspace(-3, 3, num=100).T\n",
    "X_test_b = np.c_[np.ones((m, 1)), X_test, X_test**2]\n",
    "y_test = X_test_b.dot(theta_best)\n",
    "\n",
    "plt.figure(figsize=(8,6))\n",
    "plt.plot(X, y, \"b.\")\n",
    "plt.plot(X_test, y_test, \"r-\")\n",
    "plt.xlabel(\"$x_1$\", fontsize=18)\n",
    "plt.ylabel(\"$y$\", rotation=0, fontsize=18)\n",
    "plt.axis([-3, 3, 0, 10])\n",
    "plt.show()"
   ]
  },
  {
   "cell_type": "markdown",
   "metadata": {},
   "source": [
    "Para criar *features* polinomiais de um grau qualquer em scikit-learn podemos usar a classe ``PolynomialFeatures``:"
   ]
  },
  {
   "cell_type": "code",
   "execution_count": 18,
   "metadata": {},
   "outputs": [
    {
     "name": "stdout",
     "output_type": "stream",
     "text": [
      "(100, 1)\n",
      "(100, 2)\n"
     ]
    }
   ],
   "source": [
    "from sklearn.preprocessing import PolynomialFeatures\n",
    "\n",
    "# Nota: include_bias=False porque o bias (termo constante) já estará incluso no regressor linear.\n",
    "poly_features = PolynomialFeatures(degree=2, include_bias=False)\n",
    "X_poly = poly_features.fit_transform(X)\n",
    "\n",
    "print(X.shape)\n",
    "print(X_poly.shape)"
   ]
  },
  {
   "cell_type": "code",
   "execution_count": 19,
   "metadata": {},
   "outputs": [
    {
     "name": "stdout",
     "output_type": "stream",
     "text": [
      "[-0.75275929]\n",
      "[-0.75275929  0.56664654]\n"
     ]
    }
   ],
   "source": [
    "print(X[0])\n",
    "print(X_poly[0])"
   ]
  },
  {
   "cell_type": "markdown",
   "metadata": {},
   "source": [
    "Podemos então fazer um regressor linear com estes novos dados:"
   ]
  },
  {
   "cell_type": "code",
   "execution_count": 21,
   "metadata": {},
   "outputs": [
    {
     "data": {
      "text/plain": [
       "(array([1.78134581]), array([[0.93366893, 0.56456263]]))"
      ]
     },
     "execution_count": 21,
     "metadata": {},
     "output_type": "execute_result"
    }
   ],
   "source": [
    "lin_reg = LinearRegression()\n",
    "lin_reg.fit(X_poly, y)\n",
    "lin_reg.intercept_, lin_reg.coef_"
   ]
  },
  {
   "cell_type": "markdown",
   "metadata": {},
   "source": [
    "Compare os resultados obtidos aqui com aqueles da equação normal obtidos anteriormente.\n",
    "\n",
    "Assim como o uso de *features* polinomiais leva a um modelo com melhor ajuste, podemos também usar outras funções como *features*, tais como $\\text{log}()$, $\\text{sin}()$, etc."
   ]
  },
  {
   "cell_type": "markdown",
   "metadata": {},
   "source": [
    "# Overfitting versus underfitting"
   ]
  },
  {
   "cell_type": "markdown",
   "metadata": {},
   "source": [
    "O que acontece se o grau do *fit* polinomial for muito baixo? E se for muito alto? Vamos experimentar um pouco:"
   ]
  },
  {
   "cell_type": "code",
   "execution_count": 22,
   "metadata": {},
   "outputs": [
    {
     "data": {
      "image/png": "[encoded data removed]",
      "text/plain": [
       "<Figure size 576x432 with 1 Axes>"
      ]
     },
     "metadata": {
      "needs_background": "light"
     },
     "output_type": "display_data"
    }
   ],
   "source": [
    "from sklearn.preprocessing import StandardScaler\n",
    "from sklearn.pipeline import Pipeline\n",
    "\n",
    "plt.figure(figsize=(8,6))\n",
    "plt.plot(X, y, \"b.\", linewidth=3)\n",
    "\n",
    "# Experimento 1: grau baixo.\n",
    "poly_reg_1 = Pipeline([\n",
    "        (\"poly_features\", PolynomialFeatures(degree=1, include_bias=False)),\n",
    "        (\"std_scaler\", StandardScaler()), \n",
    "        (\"lin_reg\", LinearRegression())\n",
    "    ])\n",
    "poly_reg_1.fit(X, y)\n",
    "y_test = poly_reg_1.predict(X_test.reshape(-1, 1))\n",
    "plt.plot(X_test, y_test, 'r-', label='grau 1')\n",
    "\n",
    "# Experimento 2: grau adequdo.\n",
    "poly_reg_2 = Pipeline([\n",
    "        (\"poly_features\", PolynomialFeatures(degree=2, include_bias=False)),\n",
    "        (\"std_scaler\", StandardScaler()), \n",
    "        (\"lin_reg\", LinearRegression())\n",
    "    ])\n",
    "poly_reg_2.fit(X, y)\n",
    "y_test = poly_reg_2.predict(X_test.reshape(-1, 1))\n",
    "plt.plot(X_test, y_test, 'b-', label='grau 2')\n",
    "\n",
    "# Experimento 3: grau muito alto.\n",
    "poly_reg_30 = Pipeline([\n",
    "        (\"poly_features\", PolynomialFeatures(degree=30, include_bias=False)),\n",
    "        (\"std_scaler\", StandardScaler()), \n",
    "        (\"lin_reg\", LinearRegression())\n",
    "    ])\n",
    "poly_reg_30.fit(X, y)\n",
    "y_test = poly_reg_30.predict(X_test.reshape(-1, 1))\n",
    "plt.plot(X_test, y_test, 'g-', label='grau 30')\n",
    "\n",
    "plt.legend(loc=\"upper left\")\n",
    "plt.xlabel(\"$x_1$\", fontsize=18)\n",
    "plt.ylabel(\"$y$\", rotation=0, fontsize=18)\n",
    "plt.axis([-3, 3, 0, 10])\n",
    "plt.show()"
   ]
  },
  {
   "cell_type": "markdown",
   "metadata": {},
   "source": [
    "A curva verde, correspondente ao *fit* de grau 30, apresenta *overfitting*. Ao tentar se ajustar o melhor possível aos pontos de dados, a curva tende a apresentar comportamento exagerado fora destes. \n",
    "\n",
    "Uma característica marcante do *overfitting* é que o sistema perde sua capacidade de fazer predições de boa qualidade quando não está na vizinhança de um ponto de treinamento. Dizemos que o sistema não **generaliza** bem. Para observar a capacidade de generalização de um sistema podemos usar a estratégia de validação cruzada e obter uma medida mais realista do RMSE do classificador:"
   ]
  },
  {
   "cell_type": "code",
   "execution_count": 25,
   "metadata": {},
   "outputs": [
    {
     "name": "stdout",
     "output_type": "stream",
     "text": [
      "Fit de grau 1:\n",
      "RMSE = [1.86571015 1.61846216 1.82661634 1.62718083 1.78619243]\n",
      "média = 1.744832382371205, std = 0.10278329304877643\n",
      "\n",
      "Fit de grau 2:\n",
      "RMSE = [0.72745407 0.91894263 1.05905595 0.90376746 0.96825693]\n",
      "média = 0.9154954107199845, std = 0.10853789964899942\n",
      "\n",
      "Fit de grau 30:\n",
      "RMSE = [  1.66691494   1.4623372    1.40230602 285.93540219   1.28032099]\n",
      "média = 58.34945626932127, std = 113.79304171432142\n",
      "\n"
     ]
    }
   ],
   "source": [
    "from sklearn.model_selection import cross_val_score\n",
    "\n",
    "def experiment(reg, X, y, degree):\n",
    "    scores = np.sqrt(-cross_val_score(reg, X, y, cv=5, scoring='neg_mean_squared_error'))\n",
    "    print(\"Fit de grau {}:\\nRMSE = {}\\nmédia = {}, std = {}\\n\".format(degree, scores, scores.mean(), scores.std()))\n",
    "\n",
    "experiment(poly_reg_1, X, y, 1)\n",
    "experiment(poly_reg_2, X, y, 2)\n",
    "experiment(poly_reg_30, X, y, 30)"
   ]
  },
  {
   "cell_type": "markdown",
   "metadata": {},
   "source": [
    "Note que o erro de treinamento conta uma história diferente:"
   ]
  },
  {
   "cell_type": "code",
   "execution_count": 26,
   "metadata": {},
   "outputs": [
    {
     "name": "stdout",
     "output_type": "stream",
     "text": [
      "Fit de grau 1: RMSE = 1.739127354922467\n",
      "Fit de grau 2: RMSE = 0.8815858814376717\n",
      "Fit de grau 30: RMSE = 0.7796340510961793\n",
      "Modelo de grau 1: intercept = [3.41307859], coefs = [[1.49826128]]\n",
      "Modelo de grau 2: intercept = [3.41307859], coefs = [[1.65818609 1.50762934]]\n",
      "Modelo de grau 30: intercept = [3.41307839], coefs = [[ 4.91099069e+00  4.94686791e+01 -2.40069409e+02 -2.92827662e+03\n",
      "   8.24031322e+03  7.58971483e+04 -1.47538343e+05 -1.08500368e+06\n",
      "   1.54672090e+06  9.64543121e+06 -1.03275285e+07 -5.70606368e+07\n",
      "   4.64882393e+07  2.34262986e+08 -1.46251063e+08 -6.84887249e+08\n",
      "   3.28057417e+08  1.44526097e+09 -5.28052868e+08 -2.20663887e+09\n",
      "   6.05546798e+08  2.41424697e+09 -4.82904495e+08 -1.84480056e+09\n",
      "   2.54483593e+08  9.34698556e+08 -7.96620389e+07 -2.82095058e+08\n",
      "   1.12147627e+07  3.83794563e+07]]\n"
     ]
    }
   ],
   "source": [
    "from sklearn.metrics import mean_squared_error\n",
    "\n",
    "def final_train_error(X, y, reg):\n",
    "    reg.fit(X, y)\n",
    "    y_pred = reg.predict(X)  # Sim, estou predizendo no conjunto de treinamento.\n",
    "    return np.sqrt(mean_squared_error(y_pred, y))\n",
    "\n",
    "def params_to_str(pipeline):\n",
    "    aux = pipeline.named_steps['lin_reg']\n",
    "    return 'intercept = {}, coefs = {}'.format(aux.intercept_, aux.coef_)\n",
    "\n",
    "print('Fit de grau 1: RMSE = {}'.format(final_train_error(X, y, poly_reg_1)))\n",
    "print('Fit de grau 2: RMSE = {}'.format(final_train_error(X, y, poly_reg_2)))\n",
    "print('Fit de grau 30: RMSE = {}'.format(final_train_error(X, y, poly_reg_30)))\n",
    "\n",
    "print('Modelo de grau 1: {}'.format(params_to_str(poly_reg_1)))\n",
    "print('Modelo de grau 2: {}'.format(params_to_str(poly_reg_2)))\n",
    "print('Modelo de grau 30: {}'.format(params_to_str(poly_reg_30)))"
   ]
  },
  {
   "cell_type": "markdown",
   "metadata": {},
   "source": [
    "Podemos aqui observar uma característica marcante do *overfitting* versus *underfitting*:\n",
    "\n",
    "- **overfitting**: \n",
    "    - O modelo é **complexo demais** (permite sobreajuste, ou *overfitting*)\n",
    "    - erro de treinamento **baixo**\n",
    "    - erro médio de teste **geralmente alto** (mas **ocasionalmente baixo**)\n",
    "    - **variância alta** do erro de teste\n",
    "    \n",
    "- **underfitting**:\n",
    "    - O modelo é **simples demais** (não permite bom ajuste)\n",
    "    - erro de treinamento **alto**\n",
    "    - erro de teste **consistentemente alto**\n",
    "    - **variância baixa** do erro de teste"
   ]
  },
  {
   "cell_type": "markdown",
   "metadata": {},
   "source": [
    "### Regressor ótimo\n",
    "\n",
    "E agora, um pouco de Matemática!\n",
    "\n",
    "Para um dado valor de $\\mathbf{x}$, qual é o valor ideal de $h(\\mathbf{x})$? Depende do que a gente define por \"ideal\". \n",
    "\n",
    "Vamos supor que a definição de \"ideal\" é dada pelo RMSE. Minimizar o RMSE é a mesma coisa que minimizar o MSE (Minimum Squared Error):\n",
    "\n",
    "$$\n",
    "\\text{MSE} = \\frac{1}{m} \\sum_{i=1}^{m}\\left(h(\\mathbf{x}_i) - \\mathbf{y}_i\\right)^{2}\n",
    "$$\n",
    "\n",
    "Para atingir o mínimo do MSE devemos escolher uma $h(\\mathbf{x})$ que minimize $(h(\\mathbf{x}) - y)^2$ para qualquer valor dado de $\\mathbf{x}$. Mas veja só o problema: se para um dado $\\mathbf{x}$ só tivéssemos uma única possibilidade para $y$, o nosso problema estaria resolvido! Bastaria fazer o $h(\\mathbf{x})$ valer aquele $y$ e pronto! Só que o mundo real tem incertezas, ruído e variabilidade na aquisição de nossos vários $\\mathbf{x}_i$ e $y_i$, então não podemos afirmar categoricamente que para cada $\\mathbf{x}$ só existirá um único $y$, eterno e imutável...\n",
    "\n",
    "Pense assim: agora observamos que para um certo vetor $\\mathbf{x}$ medido, também medimos um valor $y$. Só que na sequência medimos de novo um valor de $y$ para esse mesmo $\\mathbf{x}$ e dá um valor um pouquinho diferente, por conta do ruído e outras incertezas!\n",
    "\n",
    "Matematicamente, dizemos que cada uma de nossas amostras $(\\mathbf{x}_i, y_i)$ foi obtida de um vetor aleatório (ou seja, um vetor de variáveis aleatórias) $(X, Y)$. Quando dizemos que existe incerteza em $y$ para um dado $\\mathbf{x}$, estamos dizendo que existe uma distribuição aleatória de valores de $y$ para este valor de $\\mathbf{x}$, ou seja, existe uma distribuição $P(Y | X=\\mathbf{x})$.\n",
    "\n",
    "Por exemplo, na figura a seguir temos uma situação em que foram observados os pontos em vermelho. Estes pontos foram gerados artificialmente assim:\n",
    "\n",
    "- Foram escolhidos pontos $x$ ao acaso entre $0$ e $10$\n",
    "\n",
    "- Para cada $x$ obtem-se um $y$ a partir de um polinomio de terceiro grau (curva em azul) ao qual se adicionou um valor aleatório amostrado de uma distribuição normal $N(\\mu=0, \\sigma=0.5)$.\n",
    "\n",
    "- Os pontos assim obtidos estão desenhados em vermelho.\n",
    "\n",
    "São dados *fake*, só para a gente estudar esse problema.\n",
    "\n",
    "![Ilustração P(Y | X=x)](y_for_x.png \"Ilustração P(Y | X=x)\")\n",
    "\n",
    "(Curiosamente, parece que a curva em azul é um excelente interpolador, ou seja, um candidato ideal para $h(\\mathbf{x})$! Isso não é um acidente, e vamos provar isso logo a seguir!)\n",
    "\n",
    "Vamos nos concentrar no valor $x = 6.2$, para efeito de exemplo. Qual a distribuição dos valores de $y$? Conforme visto no nosso processo artificial de geração dos pontos de exemplo, esperamos que a distribuição dos pontos de $y$ seja uma Gaussiana com média igual ao valor do polinômio azul ($4.48$), e desvio padrão valendo $0.5$. Isto está ilustrado na figura da direita.\n",
    "\n",
    "Então a frase \n",
    "\n",
    "- \"devemos minimizar $(h(\\mathbf{x}) - y)^2$\" \n",
    "\n",
    "não faz sentido (pois $y$ não é um valor único, é uma distribuição de valores), mas sim \n",
    "\n",
    "- \"devemos minimizar $E_{Y | X = \\mathbf{x}}[(h(X) - Y)^2]$\"\n",
    "\n",
    "onde o subscrito $Y | X = \\mathbf{x}$ no operador de esperança indica que estamos obtendo o valor esperado da expressão $(h(X) - Y)^2$ em relação à variável aleatória $Y$, no caso em que a variável aleatória $X$ vale $\\mathbf{x}$.\n",
    "\n",
    "Para simplificar a notação, vamos chamar de $\\hat{y} = h(\\mathbf{x})$ o valor estimado de $y$ em $\\mathbf{x}$. Vamos também chamar de $\\overline{y}$ o valor esperado de $Y$ dado $X = \\mathbf{x}$, ou seja, $\\overline{y} = E_{Y | X = \\mathbf{x}}[Y]$.\n",
    "\n",
    "Temos o seguinte:\n",
    "\n",
    "\\begin{align*}\n",
    "E_{Y | X = \\mathbf{x}}[(h(X) - Y)^2] & = E_{Y | X = \\mathbf{x}}[(h(\\mathbf{x}) - Y)^2] \n",
    "& \\,\\, \\text{(Pois $X$ vale $\\mathbf{x}$)} \\\\\n",
    "& = E_{Y | X = \\mathbf{x}}[(\\hat{y} - Y)^2]\n",
    "& \\,\\, \\text{(Pois $h(\\mathbf{x}) = \\hat{y}$)} \\\\\n",
    "& = E_{Y | X = \\mathbf{x}}[((\\hat{y} - \\overline{y}) - (Y - \\overline{y}))^2]\n",
    "& \\,\\, \\text{(Subtraindo e somando $\\overline{y}$)} \\\\\n",
    "& = E_{Y | X = \\mathbf{x}}[\n",
    "    (\\hat{y} - \\overline{y})^2 \n",
    "    + (Y - \\overline{y})^2 \n",
    "    - 2 (\\hat{y} - \\overline{y}) (Y - \\overline{y})]\n",
    "& \\,\\, \\text{(Produto notável)} \\\\\n",
    "& = E_{Y | X = \\mathbf{x}}[(\\hat{y} - \\overline{y})^2] \n",
    "& \\,\\, \\text{(Linearidade da esperança)} \\\\\n",
    "& \\phantom{ = }  + E_{Y | X = \\mathbf{x}}[(Y - \\overline{y})^2] \\\\\n",
    "& \\phantom{ = }  - 2 E_{Y | X = \\mathbf{x}}[(\\hat{y} - \\overline{y}) (Y - \\overline{y})] \\\\\n",
    "& = (\\hat{y} - \\overline{y})^2 \n",
    "& \\,\\, \\text{(Pois $\\hat{y}$ e $\\overline{y}$ são constantes)} \\\\\n",
    "& \\phantom{ = }  + \\text{Var}(Y | X = \\mathbf{x})\n",
    "& \\,\\, \\text{(Definição de variância)} \\\\\n",
    "& \\phantom{ = }  - 2 (\\hat{y} - \\overline{y}) (E_{Y | X = \\mathbf{x}}[Y] - \\overline{y})\n",
    "& \\,\\, \\text{(Pois $\\hat{y}$ e $\\overline{y}$ são constantes)} \\\\\n",
    "& = (\\hat{y} - \\overline{y})^2 + \\text{Var}(Y | X = \\mathbf{x})\n",
    "& \\,\\, \\text{(Pois $E_{Y | X = \\mathbf{x}}[Y] - \\overline{y} = 0$)} \\\\\n",
    "\\end{align*}\n",
    "\n",
    "Lembre-se: nosso objetivo é definir qual o melhor valor de $\\hat{y}$. Como nada se pode fazer sobre $\\text{Var}(Y | X = \\mathbf{x})$, só nos resta minimizar o termo $(\\hat{y} - \\overline{y})^2$. Isso é trivial: basta fazer $\\hat{y} = \\overline{y}$. Lembrando que $\\hat{y} = h(\\mathbf{x})$, chegamos ao nosso resultado final:\n",
    "\n",
    "**O regressor que minimiza o valor esperado do RMSE é $h(\\mathbf{x}) = \\text{Média}(Y | X = \\mathbf{x})$**\n",
    "\n",
    "Ou seja, a melhor estimativa de $y$ em $\\mathbf{x}$ é o valor médio de $y$ naquele ponto.\n",
    "\n",
    "Lembra-se que eu disse na aula 2 que se a gente trocasse a função quadrado por módulo dava outro resultado? Pois fica aqui a afirmação (sem demonstração no momento) sobre o melhor regressor nessas condições:\n",
    "\n",
    "**O regressor que minimiza o erro absoluto médio é $h(\\mathbf{x}) = \\text{Mediana}(Y | X = \\mathbf{x})$**"
   ]
  },
  {
   "cell_type": "markdown",
   "metadata": {},
   "source": [
    "### *Overfitting* e *underfitting* versus regressor ótimo"
   ]
  },
  {
   "cell_type": "markdown",
   "metadata": {},
   "source": [
    "Agora que conhecemos o regressor ótimo, vamos compará-lo no dataset artificial acima aos regressores polinomiais de grau 1 (muito baixo), grau 3 (ideal, pois coincide com o regressor ótimo para este dataset artificial) e grau 8 (muito alto).\n",
    "\n",
    "Geramos tres datasets diferentes para treinamento e um extra para teste, todos com a mesma estratégia acima (polinômio de grau 3, ao qual adicionamos ruido gaussiano).\n",
    "\n",
    "#### Fit linear - underfitting\n",
    "\n",
    "Vemos abaixo o resultado do fit linear para estes dados. As linhas sólidas coloridas representam o fit linear, enquando a linha tracejada preta demonstra o modelo ideal (o regressor ótimo).\n",
    "\n",
    "![fit grau 1](fit_grau_1.png \"fit grau 1\")\n",
    "\n",
    "Observe que todos os regressores lineares são próximos entre si, e todos falham em se ajustar bem aos dados por não terem liberdade suficiente para fazê-lo. Esta é uma característica do *underfitting*: os regressores ficam todos parecidos, e igualmente ruins.\n",
    "\n",
    "#### Fit polinomial de grau 3 - perto do ideal\n",
    "\n",
    "Vemos abaixo o resultado do ajuste polinomial de grau 3 para estes dados.\n",
    "\n",
    "![fit grau 3](fit_grau_3.png \"fit grau 3\")\n",
    "\n",
    "Observe que todos os regressores são próximos entre si, e também próximos do regressor ideal. Esta é uma caraterística que indica que estamos próximos do modelo de regressor ideal: todos os regressores ajustados são similares, e o erro de teste médio é o menor que se pode obter.\n",
    "\n",
    "#### Fit polinomial de grau 8 - overfitting\n",
    "\n",
    "Vemos abaixo o resultado do ajuste polinomial de grau 8 para estes dados.\n",
    "\n",
    "![fit grau 1](fit_grau_8.png \"fit grau 8\")\n",
    "\n",
    "Note que os vários regressores se ajustam bem aos pontos dos conjuntos de treinamento, mas diferem bastante entre si. Isto acontece justamente porque estes regressores se ajustaram tão bem aos dados de treinamento, incorporando a variabilidade de dados que se deve ao ruído, e não ao polinômio de grau 3 subjacente.\n",
    "\n",
    "#### Comparação entre os modelos\n",
    "\n",
    "Observe um *zoom* dos gráficos acima comparando os vários modelos:\n",
    "\n",
    "![comparação](comparacao_fits.png \"comparação entre fits\")\n",
    "\n",
    "---\n",
    "\n",
    "**Atividade:**\n",
    "\n",
    "Escreva, em suas palavras, uma análise comparativa simples entre os três cenários do gráfico de comparação acima."
   ]
  },
  {
   "cell_type": "markdown",
   "metadata": {},
   "source": [
    "**R:**\n",
    "\n",
    "```\n",
    "O underfitting possui pouca liberdade para conseguir se ajustar aos dados, como pode ser observado na figura.\n",
    "\n",
    "Já no caso de overfitting, o modelo tenta se ajustar a todos os pontos da amostra da melhor forma possível, chegando em um modelo que só funcionaria para esses dados. (tenta prever outliers)\n",
    "\n",
    "O modelo ideal, como o próprio nome diz, é o melhor modelo para esse tipo de dado, prevendo grande parte dos casos de maneira correta (nesse caso, podemos obervar que de fato chega bem perto de uma equação do terceiro grau - que deu origem aos dados)\n",
    "\n",
    "\n",
    "```\n",
    "\n",
    "---"
   ]
  },
  {
   "cell_type": "markdown",
   "metadata": {},
   "source": [
    "### *Bias/variance tradeoff*"
   ]
  },
  {
   "cell_type": "markdown",
   "metadata": {},
   "source": [
    "Seja $\\mathbf{D}$ o conjunto de treinamento de nosso modelo, com $m$ amostras de treinamento.\n",
    "\n",
    "Primeiro, observamos o seguinte: para cada possível conjunto de treinamento $\\mathbf{D}$ temos um vetor de parâmetros $\\mathbf{\\theta}_{\\mathbf{D}}$ diferente, e consequentemente um modelo $h_{\\mathbf{\\theta}_{\\mathbf{D}}}(\\mathbf{x})$ diferente. (Vimos isso acima quando obtemos regressores diferentes para conjuntos de treinamento diferentes.)\n",
    "\n",
    "Logo, para um determinado valor de $\\mathbf{x}$, temos que **$h_{\\mathbf{\\theta}_{\\mathbf{D}}}(\\mathbf{x})$ é uma variável aleatória sobre o conjunto de todos os possíveis conjuntos de treinamento $\\mathbf{D}$**.\n",
    "\n",
    "Vamos definir a média e a variância desta variável aleatória (para um dado $\\mathbf{x}$, não se esqueça) como:\n",
    "\n",
    "$$\n",
    "\\mu_{h}(\\mathbf{x}) = E_{\\mathbf{D}}\\left[h_{\\mathbf{\\theta}_{\\mathbf{D}}}(\\mathbf{x})\\right]\n",
    "$$\n",
    "\n",
    "e\n",
    "\n",
    "$$\n",
    "\\sigma_{h}^2(\\mathbf{x}) = E_{\\mathbf{D}}\\left[ \\left(\n",
    "    h_{\\mathbf{\\theta}_{\\mathbf{D}}}(\\mathbf{x}) - \\mu_{h}(\\mathbf{x})\n",
    "\\right)^2 \\right]\n",
    "$$\n",
    "\n",
    "Respire, respire...\n",
    "\n",
    "Agora vamos aos dados: vamos imaginar que nossos dados *observados* são da seguinte forma:\n",
    "\n",
    "$$\n",
    "(\\text{valor observado}) = (\\text{valor real}) + (\\text{ruído e outros erros})\n",
    "$$\n",
    "\n",
    "Dando nomes aos bois, seja $y(\\mathbf{x})$ o valor observado da variável dependente para uma amostra de entrada $\\mathbf{x}$, $t(\\mathbf{x})$ o valor real (true) da variável dependente, e $\\varepsilon$ o ruído, que é uma variável aleatória independente de média zero e variância $\\sigma_{\\varepsilon}^2 = E\\left[ \\varepsilon^2 \\right]$. Então a pseudo-equação acima fica sendo:\n",
    "\n",
    "$$\n",
    "y(\\mathbf{x}) = t(\\mathbf{x}) + \\varepsilon\n",
    "$$\n",
    "\n",
    "Respire, respire...\n",
    "\n",
    "Agora vamos juntar tudo. O erro entre o valor observado e o valor predito é\n",
    "\n",
    "$$\n",
    "y(\\mathbf{x}) - h_{\\mathbf{\\theta}_{\\mathbf{D}}}(\\mathbf{x})\n",
    "$$\n",
    "\n",
    "O erro quadrático é \n",
    "\n",
    "$$\n",
    "\\left(y(\\mathbf{x}) - h_{\\mathbf{\\theta}_{\\mathbf{D}}}(\\mathbf{x})\\right)^2\n",
    "$$\n",
    "\n",
    "e - leia com calma - *o erro médio quadrático sobre todas as amostras possíveis* ***e*** *para um dado conjunto de treinamento* é, portanto:\n",
    "\n",
    "$$\n",
    "\\text{MSE}_{\\mathbf{D}} = E_{\\mathbf{x}}\\left[\\left(y(\\mathbf{x}) - h_{\\mathbf{\\theta}_{\\mathbf{D}}}(\\mathbf{x})\\right)^2\\right]\n",
    "$$\n",
    "\n",
    "Ainda sobrou uma incerteza no processo: o conjunto de treinamento $\\mathbf{D}$. Nossa estimativa final de erro é o *valor esperado do erro quadrático médio $\\text{MSE}_{\\mathbf{D}}$ sobre todos os possíveis conjuntos de treinamento*, ou seja:\n",
    "\n",
    "$$\n",
    "\\text{MSE} = E_{\\mathbf{D}} \\left[ E_{\\mathbf{x}} \\left[ \n",
    "\\left(y(\\mathbf{x}) - h_{\\mathbf{\\theta}_{\\mathbf{D}}}(\\mathbf{x})\\right)^2\n",
    "\\right] \\right]\n",
    "$$\n",
    "\n",
    "Podemos demonstrar que essa expressão pode ser escrita como:\n",
    "\n",
    "$$\n",
    "\\text{MSE} = \n",
    "\\underbrace{E_{\\mathbf{x}} \\left[ \\left( t(\\mathbf{x}) - \\mu_{h}(\\mathbf{x}) \\right)^2 \\right]}_{\\text{bias}}\n",
    "+ \\underbrace{E_{\\mathbf{x}} \\left[ \\sigma_{h}^2(\\mathbf{x}) \\right] }_{\\text{variance}}\n",
    "+ \\underbrace{\\sigma_{\\varepsilon}^2}_{\\text{erro intrínseco}}\n",
    "$$\n",
    "\n",
    "Ufa! Este é um resultado famoso de machine learning, conhecido como \"Bias/Variance tradeoff\". Representa o seguinte: para um regressor qualquer o MSE esperado é composto de três partes:\n",
    "\n",
    "- *Bias* (ou viés): O termo $E_{\\mathbf{x}} \\left[ \\left( t(\\mathbf{x}) - \\mu_{h}(\\mathbf{x}) \\right)^2 \\right]$ é uma componente do erro que independe do conjunto de testes, e que mede a competência intrínseca do modelo. Modelos muito simples (*underfitting*) tem essa componente de viés alta, pois trata-se de um erro sistêmico.\n",
    "\n",
    "- *Variance*: O termo $E_{\\mathbf{x}} \\left[ \\sigma_{h}^2(\\mathbf{x}) \\right]$ representa a volatilidade do modelo em relação ao conjunto de testes usado. Modelos muito complexos (*overfitting*) tem essa componente do erro alta.\n",
    "\n",
    "- Erro intrínseco: Esta componente do erro está relacionada com a qualidade do dado adquirido: quanto mais ruidoso, pior o desempenho ótimo do nosso sistema.\n",
    "\n",
    "O qualificador *trade-off* vem do fato de que quando o *bias* aumenta, cai a *variance*, e vice versa. Existe um ponto de ótimo, contudo."
   ]
  },
  {
   "cell_type": "markdown",
   "metadata": {},
   "source": [
    "--- \n",
    "\n",
    "**Atividade:**\n",
    "\n",
    "Explique, em termos de *bias*, *variance* e erro intrínseco, o comportamento do exemplo do polinômio de grau 3 acima, ou seja, explique a seguinte figura:\n",
    "\n",
    "![comparação](comparacao_fits.png \"comparação entre fits\")\n"
   ]
  },
  {
   "cell_type": "markdown",
   "metadata": {},
   "source": [
    "**R:**\n",
    "\n",
    "```\n",
    "O modelo possui erro intrínsico (introduzimos um ruido nos dados quando geramos amostras aleatoriamento para fins didáticos), enquando bias e variance são baixos.\n",
    "\n",
    "O modelo linear apresenta bias alta pois estamos tentando prever dados gerador a partir de uma eq. do terceiro grau com um modelo do primeiro grau. Assim estamos simplificando demais o modelo, caindo no caso de underfitting.\n",
    "\n",
    "O modelo de grau 8 possui alta variância, pois tenta se adaptar a todos os dados de treinamento, que não serão os mesmos de teste.\n",
    "\n",
    "\n",
    "```\n",
    "https://datascience.stackexchange.com/questions/37345/what-is-the-meaning-of-term-variance-in-machine-learning-model\n",
    "\n",
    "---"
   ]
  },
  {
   "cell_type": "markdown",
   "metadata": {},
   "source": [
    "## Curvas de aprendizado"
   ]
  },
  {
   "cell_type": "markdown",
   "metadata": {},
   "source": [
    "O que quer dizer que um modelo é muito complexo? É um modelo que tem parâmetros de ajuste em excesso *em relação ao volume de dados de teste*. Um modelo tido como complexo para um conjunto pequeno de dados pode ser um modelo muito simples ao se considerar um conjunto maior de dados. Vamos explorar esse conceito em um experimento:"
   ]
  },
  {
   "cell_type": "code",
   "execution_count": 27,
   "metadata": {},
   "outputs": [],
   "source": [
    "from sklearn.metrics import mean_squared_error\n",
    "from sklearn.model_selection import train_test_split\n",
    "\n",
    "def plot_learning_curves(model, X, y, ax1, ax2, step=5):\n",
    "    # Separa 20% para validação.\n",
    "    X_train, X_val, y_train, y_val = train_test_split(X, y, test_size=0.2, random_state=RAND_SEED)\n",
    "    \n",
    "    train_errors, val_errors = [], []\n",
    "    \n",
    "    # Para cada tamanho do conjunto de treinamento...\n",
    "    for m in range(1, len(X_train)):\n",
    "        mean_RMSE_train = 0.0\n",
    "        mean_RMSE_val = 0.0\n",
    "        \n",
    "        count = 0\n",
    "        for i in range(0, len(X_train) - m, step):\n",
    "            # Ajusta modelo com apenas m amostras de treinamento.\n",
    "            model.fit(X_train[i:(i+m)], y_train[i:(i+m)])\n",
    "\n",
    "            # Faz a previsão sobre o conjunto de treinamento (para obter o erro de treinamento)\n",
    "            # e sobre o conjunto de validação.\n",
    "            y_train_predict = model.predict(X_train[i:(i+m)])\n",
    "            y_val_predict = model.predict(X_val)\n",
    "\n",
    "            # Calcula o valor do RMSE\n",
    "            RMSE_train = np.sqrt(mean_squared_error(y_train_predict, y_train[i:(i+m)]))\n",
    "            RMSE_val = np.sqrt(mean_squared_error(y_val_predict, y_val))\n",
    "            \n",
    "            mean_RMSE_train += RMSE_train\n",
    "            mean_RMSE_val += RMSE_val\n",
    "            count += 1\n",
    "\n",
    "        mean_RMSE_train /= count\n",
    "        mean_RMSE_val /= count\n",
    "        \n",
    "        # Armazena ambos os valores de RMSE.\n",
    "        train_errors.append(mean_RMSE_train)\n",
    "        val_errors.append(mean_RMSE_val)\n",
    "\n",
    "    plt.figure(figsize=(8,6))\n",
    "    plt.plot(np.sqrt(train_errors), \"r-\", linewidth=2, label=\"train\")\n",
    "    plt.plot(np.sqrt(val_errors), \"b-\", linewidth=3, label=\"val\")\n",
    "    plt.axis(ax1)\n",
    "    plt.legend(loc=\"upper right\", fontsize=14)\n",
    "    plt.xlabel(\"Training set size\", fontsize=14)\n",
    "    plt.ylabel(\"RMSE\", fontsize=14)\n",
    "\n",
    "    plt.figure(figsize=(8,6))\n",
    "    plt.plot(np.sqrt(train_errors), \"r-\", linewidth=2, label=\"train\")\n",
    "    plt.plot(np.sqrt(val_errors), \"b-\", linewidth=3, label=\"val\")\n",
    "    plt.axis(ax2)\n",
    "    plt.legend(loc=\"upper right\", fontsize=14)\n",
    "    plt.xlabel(\"Training set size\", fontsize=14)\n",
    "    plt.ylabel(\"RMSE\", fontsize=14)\n",
    "    plt.show()"
   ]
  },
  {
   "cell_type": "code",
   "execution_count": 28,
   "metadata": {},
   "outputs": [
    {
     "data": {
      "image/png": "[encoded data removed]",
      "text/plain": [
       "<Figure size 576x432 with 1 Axes>"
      ]
     },
     "metadata": {
      "needs_background": "light"
     },
     "output_type": "display_data"
    },
    {
     "data": {
      "image/png": "[encoded data removed]",
      "text/plain": [
       "<Figure size 576x432 with 1 Axes>"
      ]
     },
     "metadata": {
      "needs_background": "light"
     },
     "output_type": "display_data"
    }
   ],
   "source": [
    "plot_learning_curves(poly_reg_1, X, y, [0, 80, 0, 3], [0, 20, 0, 2], 1)"
   ]
  },
  {
   "cell_type": "code",
   "execution_count": 30,
   "metadata": {},
   "outputs": [
    {
     "data": {
      "image/png": "[encoded data removed]",
      "text/plain": [
       "<Figure size 576x432 with 1 Axes>"
      ]
     },
     "metadata": {
      "needs_background": "light"
     },
     "output_type": "display_data"
    },
    {
     "data": {
      "image/png": "[encoded data removed]",
      "text/plain": [
       "<Figure size 576x432 with 1 Axes>"
      ]
     },
     "metadata": {
      "needs_background": "light"
     },
     "output_type": "display_data"
    }
   ],
   "source": [
    "plot_learning_curves(poly_reg_2, X, y, [0, 80, 0, 1e1], [0, 20, 0, 2], 1)"
   ]
  },
  {
   "cell_type": "code",
   "execution_count": 32,
   "metadata": {},
   "outputs": [
    {
     "data": {
      "image/png": "[encoded data removed]",
      "text/plain": [
       "<Figure size 576x432 with 1 Axes>"
      ]
     },
     "metadata": {
      "needs_background": "light"
     },
     "output_type": "display_data"
    },
    {
     "data": {
      "image/png": "[encoded data removed]",
      "text/plain": [
       "<Figure size 576x432 with 1 Axes>"
      ]
     },
     "metadata": {
      "needs_background": "light"
     },
     "output_type": "display_data"
    }
   ],
   "source": [
    "plot_learning_curves(poly_reg_30, X, y, [0, 80, 0, 4e20], [0, 80, 0, 2], 1)"
   ]
  },
  {
   "cell_type": "code",
   "execution_count": 34,
   "metadata": {},
   "outputs": [
    {
     "data": {
      "image/png": "[encoded data removed]",
      "text/plain": [
       "<Figure size 576x432 with 1 Axes>"
      ]
     },
     "metadata": {
      "needs_background": "light"
     },
     "output_type": "display_data"
    },
    {
     "data": {
      "image/png": "[encoded data removed]",
      "text/plain": [
       "<Figure size 576x432 with 1 Axes>"
      ]
     },
     "metadata": {
      "needs_background": "light"
     },
     "output_type": "display_data"
    }
   ],
   "source": [
    "poly_reg_10 = Pipeline([\n",
    "        (\"poly_features\", PolynomialFeatures(degree=10, include_bias=False)),\n",
    "        (\"std_scaler\", StandardScaler()), \n",
    "        (\"lin_reg\", LinearRegression())\n",
    "    ])\n",
    "\n",
    "plot_learning_curves(poly_reg_10, X, y, [0, 80, 0, 500], [0, 80, 0, 2])"
   ]
  },
  {
   "cell_type": "markdown",
   "metadata": {},
   "source": [
    "Podemos observar quando um ajuste passa de *overfit* para ajuste normal conforme o número de dados de treinamento aumenta!"
   ]
  },
  {
   "cell_type": "markdown",
   "metadata": {},
   "source": [
    "---\n",
    "\n",
    "**Atividade:**\n",
    "\n",
    "Explique:\n",
    "\n",
    "- Porque o erro do modelo ``poly_reg_1`` é maior que o erro do modelo ``poly_reg_2``?\n",
    "\n",
    "- Porque o erro do modelo ``poly_reg_30`` é maior que o erro do modelo ``poly_reg_2``?\n",
    "\n",
    "- Porque na curva RMSE versus tamanho do conjunto de treinamento observamos, para o modelo de grau 10, que o erro de treinamento é zero até que o conjunto de treinamento tenha mais de 10 amostras?\n",
    "\n",
    "- Para as curvas relacionadas a modelos complexos, eventualmente o erro tende a aproximadamente $\\text{RMSE} = 1$ neste problema-exemplo. Explique em termos de *bias*, variância, e erro intrínseco. (Compare com os dados originais.)"
   ]
  },
  {
   "cell_type": "markdown",
   "metadata": {},
   "source": [
    "**R:**\n",
    "\n",
    "```\n",
    "O erro de poly_reg_1 é maior pois trata-se um dados originados de um eq. do segundo grau; assim, estamos em um caso de underfitting; enquanto o modelo de grau 2 está mais próximo do real.\n",
    "\n",
    "O modelo de grau 30 cai num caso de overfitting, tentando se ajustar a todos os valores dos dados de treinamento e errando nos testes. Ainda, temos que considerar que estamos com poucas amostras. Se tivéssemos mais amostras, não cairíamos mais num caso de overfitting. Ele iria convergir, mas demoraria mais tempo (podemos obseravar no exemplo de grau 10)\n",
    "\n",
    "Para o modelo de grau 10, ainda é possível observar um ajuste perfeito quando temos menos que 10 amostras. Isso ocorre porque um polinômio de grau 10 se ajusta perfeitamente aos poucos pontos que tiver. Basta pensar na lógica para polinômios de grau 1: com 2 pontos, temos um ajuste perfeito de reta; mesma coisa para um polinômio de grau 2: com 3 pontos, temos um ajuste perfeito também. Seguindo essa ideia, qualquer quantidade de pontos menor que 10 resulta em um ajuste perfeito para o polinômio de grau 10.\n",
    "\n",
    "\n",
    "Neste problema, introduzimos um ruído nas amostras de desvio padrão igual a 1.0, ou seja, nossos dados possuem esse erro intrínseco.\n",
    "\n",
    "```\n",
    "---"
   ]
  },
  {
   "cell_type": "code",
   "execution_count": null,
   "metadata": {},
   "outputs": [],
   "source": []
  }
 ],
 "metadata": {
  "kernelspec": {
   "display_name": "Python 3",
   "language": "python",
   "name": "python3"
  },
  "language_info": {
   "codemirror_mode": {
    "name": "ipython",
    "version": 3
   },
   "file_extension": ".py",
   "mimetype": "text/x-python",
   "name": "python",
   "nbconvert_exporter": "python",
   "pygments_lexer": "ipython3",
   "version": "3.8.4"
  },
  "toc": {
   "nav_menu": {},
   "number_sections": true,
   "sideBar": true,
   "skip_h1_title": false,
   "toc_cell": false,
   "toc_position": {},
   "toc_section_display": "block",
   "toc_window_display": false
  }
 },
 "nbformat": 4,
 "nbformat_minor": 4
}
