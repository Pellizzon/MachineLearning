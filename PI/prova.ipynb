{
 "cells": [
  {
   "cell_type": "markdown",
   "metadata": {},
   "source": [
    "## Machine Learning - Prova\n",
    "\n",
    "**Nome do aluno**: <font color='red'>Matheus Pellizzon</font>\n",
    "\n",
    "Esta prova consiste em uma parte conceitual e uma parte prática. Você tem 120 minutos para concluir esta prova: gerencie seu tempo adequadamente!\n",
    "\n",
    "Você deve submeter o trabalho via Blackboard. É de sua responsabilidade garantir que o arquivo correto foi enviado.\n",
    "\n",
    "Se você precisou adicionar arquivos extras à essa prova, assegure-se de que você os está enviando também.\n",
    "\n",
    "A prova é individual e com consulta. Faça o seu trabalho de maneira ética!"
   ]
  },
  {
   "cell_type": "markdown",
   "metadata": {},
   "source": [
    "---\n",
    "## Parte conceitual (4 pts)"
   ]
  },
  {
   "cell_type": "markdown",
   "metadata": {},
   "source": [
    "Vemos abaixo uma seleção de tópicos em Machine Learning e uma seleção de interlocutores. Escolha 2 tópicos, 2 interlocutores, e a associação 1-para-1 entre tópicos e interlocutores. Explique os tópicos escolhidos para os interlocutores correspondentes.\n",
    "\n",
    "Interlocutores:\n",
    "\n",
    "- O Marcos Lisboa\n",
    "    - Economista, conhece muito bem estatística, interessado pelos problemas economicos do Brasil.\n",
    "- Uma criança de 8 anos\n",
    "    - Quase nenhuma noção de matemática, geometria, estatística.\n",
    "- Um entrevistador de emprego de uma empresa renomada (e.g. FAANG)\n",
    "    - É um engenheiro experiente, e sabe bem os conceitos todos, mas quer saber se você sabe explicar de modo coerente, enxuto e completo. Sem encher linguiça.\n",
    "- Um professor de Matemática da Variação\n",
    "    - Domina cálculo multivariado, estatística, programação. Quer conhecer mais a fundo o assunto que você vai explicar, e a conexão com a disciplina dele.\n",
    "- Um professor de GDE\n",
    "    - Entende matemática e estatística de colegial e um pouco de Cálculo. Interessado em problemas da sociedade.\n",
    "- Um médico oncologista\n",
    "    - Conhece estatística surpreendemente bem, interessado em problemas de Medicina.\n",
    "\n",
    "    \n",
    "Tópicos:\n",
    "\n",
    "- Árvore de decisão\n",
    "- Machine Learning e sociedade\n",
    "- Regressão linear\n",
    "- Validação cruzada para ajuste de hiperparâmetros\n",
    "- Support vector machines\n",
    "- Curva ROC\n",
    "- Gradient descent\n",
    "- Sub-ajuste (underfitting) e sobreajuste (overfitting)\n",
    "- Precision versus recall\n",
    "- Seleção de variáveis com Lasso\n",
    "\n",
    "Use gráficos, tabelas, formulas, código, o que você quiser para auxiliar na sua explicação. Use quantas células quiser do notebook. Se precisar adicionar um diagrama ilustrativo, pode usar o https://www.draw.io/. Exporte seu desenho para PNG e inclua no notebook com o código-exemplo desta célula:\n",
    "\n",
    "![exemplo](exemplo.png \"Exemplo de diagrama PNG\")\n",
    "\n",
    "Neste caso, <font color='red'>não se esqueça de submeter também seu arquivo de imagem!</font>\n",
    "\n",
    "Rubrica de avaliação por par conceito-interlocutor:\n",
    "\n",
    "\n",
    "| Conceito | Nota | Definição |\n",
    "|----------|------|-----------|\n",
    "| I        | 0.0  | Não fez, ou escreveu coisas sem sentido. |\n",
    "| D        | 0.5  | Usou termos técnicos e matemática não disponível ao interlocutor. Faltam partes fundamentais do conceito. Não construiu uma narrativa de interesse ao interlocutor. |\n",
    "| C        | 1.0  | Construiu uma explicação correta da mecânica do conceito, sem uma intuição de por que funciona. Faltam ideias importantes, mas não essenciais do conceito. Não construiu uma narrativa de interesse ao interlocutor. |\n",
    "| B        | 1.5  | Construiu uma explicação da mecânica e da intuição por trás do modelo. Faltam ideias importantes, mas não essenciais do conceito, ou tem excesso de ideias não tão centrais à explicação (vulgo “encheu linguiça”). |\n",
    "| A        | 2.0  | Construiu uma explicação bem completa e enxuta da mecânica e da intuição por trás do conceito. Trouxe uma narrativa que interesse ao interlocutor. |\n"
   ]
  },
  {
   "cell_type": "markdown",
   "metadata": {},
   "source": [
    "### Respostas"
   ]
  },
  {
   "cell_type": "markdown",
   "metadata": {},
   "source": [
    "---\n",
    "Tópico: <font color=red>Curva ROC</font>\n",
    "\n",
    "Interlocutor: <font color=red>Um entrevistador de emprego de uma empresa renomada (e.g. FAANG)</font>\n",
    "\n",
    "Resposta:\n",
    "\n",
    "Curva ROC permite observar os possiveis valores de taxas de positivo verdadeiro e falso positivo, de modo a obter um valor (área sobre a curva) que representa a qualidade do classificador em questão. O objetivo de se analisar a curva ROC de um classificador é permitir comparações entre diferentes modelos de classificação, seja pelo \"desenho\" da curva, seja pelo score. \n",
    "\n",
    "No caso de um classificador aleatório, a área sob a curva será 0.5, demonstrando que o classificador é incapaz de distinguir as diferentes classes, é aleatório. Um classificador perfeito, no entanto, apresenta o valor de área sob a curva de 1.0, indicando que é bom em distinguir as classes do problema."
   ]
  },
  {
   "cell_type": "markdown",
   "metadata": {},
   "source": [
    "---\n",
    "Tópico: <font color=red>Precision versus recall</font>\n",
    "\n",
    "Interlocutor: <font color=red>Médico oncologista</font>\n",
    "\n",
    "Resposta: \n",
    "\n",
    "Para explicar o tópico, vamos pensar em casos relacionados a própria medicina. Dado um contexto em que temos avaliar exames, como checkups, digamos de câncer de mama, seria desejado ter um recall elevado. Isso ocorre porque queremos garantir que grande parte dos indivíduos, mesmo apresentando baixa chance de ter câncer ou esteja desenvolvendo a doença, seja encaminhado para futuros testes que serão mais precisos. Um teste mais preciso, nesse caso, pode remeter a remoção da mama. Não seria ideal remover de todos que aprensentam apenas suspeita; o ideal é ter absoluta certeza de que a cirurgia é necessária.\n",
    "\n",
    "Tendo a ideia acima em mente, quando estamos montando um modelo classificador, temos que ter em mente o tradeoff entre precision e recall. Assim, podemos ajustar o modelo decidindo o threshold, atingindo precision ou recall ideias para determinada situação. \n",
    "\n",
    "No entando, não podemos ter os dois ao mesmo tempo: aumentando um, acabamos diminuindo o outro, como mostra o gráfico a seguir:\n",
    "\n",
    "![precision_recall](precision_recall.jpg)\n",
    "\n",
    "No caso visto anteriormente onde precisamos que recall seja alto, poderíamos utilizar um threshold de -10000 (segundo o gráfico acima), para atingir um recall de aproximadamente 95%. No entando isso implica numa precision baixa, de aproximadamente 30%"
   ]
  },
  {
   "cell_type": "markdown",
   "metadata": {},
   "source": [
    "---\n",
    "## Parte prática (6 pts)\n",
    "\n",
    "O dataset \"Forest Cover type\" é um famoso dataset com cerca de meio milhão de amostras, nas quais o objetivo é prever o tipo de árvores existentes em vários terrenos. Cada linha do dataset corresponde a um pequeno terreno, onde são listadas várias características geológicas e geográficas.\n",
    "\n",
    "Neste problema de prova, filtrei o dataset para selecionar aleatoriamente 20000 linhas, e mantive apenas as amostras dos territórios 1 e 3 do dataset. Eis a descrição das colunas:\n",
    "\n",
    "| #  | Coluna                             | Significado |\n",
    "|--- | ------                             | ----------- |\n",
    "| 0  | Elevation                          | Elevação do terreno (m) |\n",
    "| 1  | Aspect                             | Azimute do terreno (graus) |\n",
    "| 2  | Slope                              | Inclinação do terreno (graus) |\n",
    "| 3  | Horizontal_Distance_To_Hydrology   | Distância horizontal até a característica hidrológica (lagos, rios, etc) mais próxima (m) |\n",
    "| 4  | Vertical_Distance_To_Hydrology     | Distância vertical até a característica hidrológica (lagos, rios, etc) mais próxima (m) |\n",
    "| 5  | Horizontal_Distance_To_Roadways    | Distância horizontal até rodovia mais próxima (m) |\n",
    "| 6  | Hillshade_9am                      | Indice de sombra de encosta às 9h no solstício de verão |\n",
    "| 7  | Hillshade_Noon                     | Indice de sombra de encosta ao meio-dia no solstício de verão |\n",
    "| 8  | Hillshade_3pm                      | Indice de sombra de encosta às 15h no solstício de verão |\n",
    "| 9  | Horizontal_Distance_To_Fire_Points | Distância horizontal até o ponto de queimada mais próximo (m) |\n",
    "| 10 | Cover_Type                         | Tipo de arvores (variável categórica) (esse é o nosso target) |\n",
    "| 11 | soil_type                          | Tipo de solo (variável categórica) |\n",
    "| 12 | Wilderness                         | Região de coleta dos dados (variável categórica) |\n",
    "\n",
    "O arquivo \"covtype_info.txt\" contém mais informação sobre esse dataset, incluindo as definições exatas de tipo de solo, região de coleta de dados, e tipo de árvores."
   ]
  },
  {
   "cell_type": "code",
   "execution_count": 1,
   "metadata": {},
   "outputs": [],
   "source": [
    "%matplotlib inline\n",
    "import pandas as pd\n",
    "import numpy as np\n",
    "import matplotlib.pyplot as plt"
   ]
  },
  {
   "cell_type": "code",
   "execution_count": 2,
   "metadata": {},
   "outputs": [],
   "source": [
    "df = pd.read_csv('dataset.csv')\n",
    "df['Cover_Type'] = df['Cover_Type'].astype('category')\n",
    "df['soil_type'] = df['soil_type'].astype('category')\n",
    "df['Wilderness'] = df['Wilderness'].astype('category')"
   ]
  },
  {
   "cell_type": "code",
   "execution_count": 3,
   "metadata": {},
   "outputs": [
    {
     "data": {
      "text/html": [
       "<div>\n",
       "<style scoped>\n",
       "    .dataframe tbody tr th:only-of-type {\n",
       "        vertical-align: middle;\n",
       "    }\n",
       "\n",
       "    .dataframe tbody tr th {\n",
       "        vertical-align: top;\n",
       "    }\n",
       "\n",
       "    .dataframe thead th {\n",
       "        text-align: right;\n",
       "    }\n",
       "</style>\n",
       "<table border=\"1\" class=\"dataframe\">\n",
       "  <thead>\n",
       "    <tr style=\"text-align: right;\">\n",
       "      <th></th>\n",
       "      <th>Elevation</th>\n",
       "      <th>Aspect</th>\n",
       "      <th>Slope</th>\n",
       "      <th>Horizontal_Distance_To_Hydrology</th>\n",
       "      <th>Vertical_Distance_To_Hydrology</th>\n",
       "      <th>Horizontal_Distance_To_Roadways</th>\n",
       "      <th>Hillshade_9am</th>\n",
       "      <th>Hillshade_Noon</th>\n",
       "      <th>Hillshade_3pm</th>\n",
       "      <th>Horizontal_Distance_To_Fire_Points</th>\n",
       "      <th>Cover_Type</th>\n",
       "      <th>soil_type</th>\n",
       "      <th>Wilderness</th>\n",
       "    </tr>\n",
       "  </thead>\n",
       "  <tbody>\n",
       "    <tr>\n",
       "      <th>0</th>\n",
       "      <td>2826</td>\n",
       "      <td>330</td>\n",
       "      <td>14</td>\n",
       "      <td>60</td>\n",
       "      <td>10</td>\n",
       "      <td>1549</td>\n",
       "      <td>187</td>\n",
       "      <td>222</td>\n",
       "      <td>175</td>\n",
       "      <td>2563</td>\n",
       "      <td>2</td>\n",
       "      <td>20</td>\n",
       "      <td>3</td>\n",
       "    </tr>\n",
       "    <tr>\n",
       "      <th>1</th>\n",
       "      <td>3283</td>\n",
       "      <td>27</td>\n",
       "      <td>3</td>\n",
       "      <td>0</td>\n",
       "      <td>0</td>\n",
       "      <td>4401</td>\n",
       "      <td>218</td>\n",
       "      <td>232</td>\n",
       "      <td>151</td>\n",
       "      <td>3653</td>\n",
       "      <td>1</td>\n",
       "      <td>23</td>\n",
       "      <td>3</td>\n",
       "    </tr>\n",
       "    <tr>\n",
       "      <th>2</th>\n",
       "      <td>2923</td>\n",
       "      <td>60</td>\n",
       "      <td>12</td>\n",
       "      <td>268</td>\n",
       "      <td>63</td>\n",
       "      <td>3555</td>\n",
       "      <td>229</td>\n",
       "      <td>215</td>\n",
       "      <td>118</td>\n",
       "      <td>5196</td>\n",
       "      <td>2</td>\n",
       "      <td>29</td>\n",
       "      <td>1</td>\n",
       "    </tr>\n",
       "  </tbody>\n",
       "</table>\n",
       "</div>"
      ],
      "text/plain": [
       "   Elevation  Aspect  Slope  Horizontal_Distance_To_Hydrology  \\\n",
       "0       2826     330     14                                60   \n",
       "1       3283      27      3                                 0   \n",
       "2       2923      60     12                               268   \n",
       "\n",
       "   Vertical_Distance_To_Hydrology  Horizontal_Distance_To_Roadways  \\\n",
       "0                              10                             1549   \n",
       "1                               0                             4401   \n",
       "2                              63                             3555   \n",
       "\n",
       "   Hillshade_9am  Hillshade_Noon  Hillshade_3pm  \\\n",
       "0            187             222            175   \n",
       "1            218             232            151   \n",
       "2            229             215            118   \n",
       "\n",
       "   Horizontal_Distance_To_Fire_Points Cover_Type soil_type Wilderness  \n",
       "0                                2563          2        20          3  \n",
       "1                                3653          1        23          3  \n",
       "2                                5196          2        29          1  "
      ]
     },
     "execution_count": 3,
     "metadata": {},
     "output_type": "execute_result"
    }
   ],
   "source": [
    "df.head(3)"
   ]
  },
  {
   "cell_type": "code",
   "execution_count": 4,
   "metadata": {},
   "outputs": [
    {
     "name": "stdout",
     "output_type": "stream",
     "text": [
      "<class 'pandas.core.frame.DataFrame'>\n",
      "RangeIndex: 20000 entries, 0 to 19999\n",
      "Data columns (total 13 columns):\n",
      " #   Column                              Non-Null Count  Dtype   \n",
      "---  ------                              --------------  -----   \n",
      " 0   Elevation                           20000 non-null  int64   \n",
      " 1   Aspect                              20000 non-null  int64   \n",
      " 2   Slope                               20000 non-null  int64   \n",
      " 3   Horizontal_Distance_To_Hydrology    20000 non-null  int64   \n",
      " 4   Vertical_Distance_To_Hydrology      20000 non-null  int64   \n",
      " 5   Horizontal_Distance_To_Roadways     20000 non-null  int64   \n",
      " 6   Hillshade_9am                       20000 non-null  int64   \n",
      " 7   Hillshade_Noon                      20000 non-null  int64   \n",
      " 8   Hillshade_3pm                       20000 non-null  int64   \n",
      " 9   Horizontal_Distance_To_Fire_Points  20000 non-null  int64   \n",
      " 10  Cover_Type                          20000 non-null  category\n",
      " 11  soil_type                           20000 non-null  category\n",
      " 12  Wilderness                          20000 non-null  category\n",
      "dtypes: category(3), int64(10)\n",
      "memory usage: 1.6 MB\n"
     ]
    }
   ],
   "source": [
    "df.info()"
   ]
  },
  {
   "cell_type": "code",
   "execution_count": 5,
   "metadata": {},
   "outputs": [
    {
     "data": {
      "text/html": [
       "<div>\n",
       "<style scoped>\n",
       "    .dataframe tbody tr th:only-of-type {\n",
       "        vertical-align: middle;\n",
       "    }\n",
       "\n",
       "    .dataframe tbody tr th {\n",
       "        vertical-align: top;\n",
       "    }\n",
       "\n",
       "    .dataframe thead th {\n",
       "        text-align: right;\n",
       "    }\n",
       "</style>\n",
       "<table border=\"1\" class=\"dataframe\">\n",
       "  <thead>\n",
       "    <tr style=\"text-align: right;\">\n",
       "      <th></th>\n",
       "      <th>count</th>\n",
       "      <th>mean</th>\n",
       "      <th>std</th>\n",
       "      <th>min</th>\n",
       "      <th>25%</th>\n",
       "      <th>50%</th>\n",
       "      <th>75%</th>\n",
       "      <th>max</th>\n",
       "    </tr>\n",
       "  </thead>\n",
       "  <tbody>\n",
       "    <tr>\n",
       "      <th>Elevation</th>\n",
       "      <td>20000.0</td>\n",
       "      <td>2990.01095</td>\n",
       "      <td>222.092373</td>\n",
       "      <td>2286.0</td>\n",
       "      <td>2845.0</td>\n",
       "      <td>3001.0</td>\n",
       "      <td>3155.0</td>\n",
       "      <td>3846.0</td>\n",
       "    </tr>\n",
       "    <tr>\n",
       "      <th>Aspect</th>\n",
       "      <td>20000.0</td>\n",
       "      <td>150.38660</td>\n",
       "      <td>110.280571</td>\n",
       "      <td>0.0</td>\n",
       "      <td>55.0</td>\n",
       "      <td>120.0</td>\n",
       "      <td>246.0</td>\n",
       "      <td>360.0</td>\n",
       "    </tr>\n",
       "    <tr>\n",
       "      <th>Slope</th>\n",
       "      <td>20000.0</td>\n",
       "      <td>13.57140</td>\n",
       "      <td>7.048431</td>\n",
       "      <td>0.0</td>\n",
       "      <td>8.0</td>\n",
       "      <td>13.0</td>\n",
       "      <td>18.0</td>\n",
       "      <td>50.0</td>\n",
       "    </tr>\n",
       "    <tr>\n",
       "      <th>Horizontal_Distance_To_Hydrology</th>\n",
       "      <td>20000.0</td>\n",
       "      <td>274.02080</td>\n",
       "      <td>217.941151</td>\n",
       "      <td>0.0</td>\n",
       "      <td>108.0</td>\n",
       "      <td>228.0</td>\n",
       "      <td>391.0</td>\n",
       "      <td>1371.0</td>\n",
       "    </tr>\n",
       "    <tr>\n",
       "      <th>Vertical_Distance_To_Hydrology</th>\n",
       "      <td>20000.0</td>\n",
       "      <td>45.68340</td>\n",
       "      <td>58.822985</td>\n",
       "      <td>-153.0</td>\n",
       "      <td>6.0</td>\n",
       "      <td>28.0</td>\n",
       "      <td>67.0</td>\n",
       "      <td>595.0</td>\n",
       "    </tr>\n",
       "    <tr>\n",
       "      <th>Horizontal_Distance_To_Roadways</th>\n",
       "      <td>20000.0</td>\n",
       "      <td>2540.88885</td>\n",
       "      <td>1545.080692</td>\n",
       "      <td>0.0</td>\n",
       "      <td>1308.0</td>\n",
       "      <td>2250.0</td>\n",
       "      <td>3548.0</td>\n",
       "      <td>7063.0</td>\n",
       "    </tr>\n",
       "    <tr>\n",
       "      <th>Hillshade_9am</th>\n",
       "      <td>20000.0</td>\n",
       "      <td>213.88320</td>\n",
       "      <td>24.622174</td>\n",
       "      <td>79.0</td>\n",
       "      <td>201.0</td>\n",
       "      <td>219.0</td>\n",
       "      <td>232.0</td>\n",
       "      <td>254.0</td>\n",
       "    </tr>\n",
       "    <tr>\n",
       "      <th>Hillshade_Noon</th>\n",
       "      <td>20000.0</td>\n",
       "      <td>224.01065</td>\n",
       "      <td>18.740213</td>\n",
       "      <td>95.0</td>\n",
       "      <td>213.0</td>\n",
       "      <td>226.0</td>\n",
       "      <td>237.0</td>\n",
       "      <td>254.0</td>\n",
       "    </tr>\n",
       "    <tr>\n",
       "      <th>Hillshade_3pm</th>\n",
       "      <td>20000.0</td>\n",
       "      <td>141.66810</td>\n",
       "      <td>36.566896</td>\n",
       "      <td>0.0</td>\n",
       "      <td>119.0</td>\n",
       "      <td>142.0</td>\n",
       "      <td>166.0</td>\n",
       "      <td>251.0</td>\n",
       "    </tr>\n",
       "    <tr>\n",
       "      <th>Horizontal_Distance_To_Fire_Points</th>\n",
       "      <td>20000.0</td>\n",
       "      <td>2066.96250</td>\n",
       "      <td>1330.040270</td>\n",
       "      <td>0.0</td>\n",
       "      <td>1131.0</td>\n",
       "      <td>1809.0</td>\n",
       "      <td>2609.0</td>\n",
       "      <td>7089.0</td>\n",
       "    </tr>\n",
       "  </tbody>\n",
       "</table>\n",
       "</div>"
      ],
      "text/plain": [
       "                                      count        mean          std     min  \\\n",
       "Elevation                           20000.0  2990.01095   222.092373  2286.0   \n",
       "Aspect                              20000.0   150.38660   110.280571     0.0   \n",
       "Slope                               20000.0    13.57140     7.048431     0.0   \n",
       "Horizontal_Distance_To_Hydrology    20000.0   274.02080   217.941151     0.0   \n",
       "Vertical_Distance_To_Hydrology      20000.0    45.68340    58.822985  -153.0   \n",
       "Horizontal_Distance_To_Roadways     20000.0  2540.88885  1545.080692     0.0   \n",
       "Hillshade_9am                       20000.0   213.88320    24.622174    79.0   \n",
       "Hillshade_Noon                      20000.0   224.01065    18.740213    95.0   \n",
       "Hillshade_3pm                       20000.0   141.66810    36.566896     0.0   \n",
       "Horizontal_Distance_To_Fire_Points  20000.0  2066.96250  1330.040270     0.0   \n",
       "\n",
       "                                       25%     50%     75%     max  \n",
       "Elevation                           2845.0  3001.0  3155.0  3846.0  \n",
       "Aspect                                55.0   120.0   246.0   360.0  \n",
       "Slope                                  8.0    13.0    18.0    50.0  \n",
       "Horizontal_Distance_To_Hydrology     108.0   228.0   391.0  1371.0  \n",
       "Vertical_Distance_To_Hydrology         6.0    28.0    67.0   595.0  \n",
       "Horizontal_Distance_To_Roadways     1308.0  2250.0  3548.0  7063.0  \n",
       "Hillshade_9am                        201.0   219.0   232.0   254.0  \n",
       "Hillshade_Noon                       213.0   226.0   237.0   254.0  \n",
       "Hillshade_3pm                        119.0   142.0   166.0   251.0  \n",
       "Horizontal_Distance_To_Fire_Points  1131.0  1809.0  2609.0  7089.0  "
      ]
     },
     "execution_count": 5,
     "metadata": {},
     "output_type": "execute_result"
    }
   ],
   "source": [
    "df.describe().transpose()"
   ]
  },
  {
   "cell_type": "code",
   "execution_count": 6,
   "metadata": {},
   "outputs": [
    {
     "data": {
      "text/plain": [
       "2    10400\n",
       "1     7618\n",
       "7      710\n",
       "3      583\n",
       "5      370\n",
       "6      319\n",
       "Name: Cover_Type, dtype: int64"
      ]
     },
     "execution_count": 6,
     "metadata": {},
     "output_type": "execute_result"
    }
   ],
   "source": [
    "df['Cover_Type'].value_counts()"
   ]
  },
  {
   "cell_type": "markdown",
   "metadata": {},
   "source": [
    "O tipo 2 de cobertura corresponde às árvores do tipo \"spruce/fir\". Nossa tarefa é construir um classificador que detecta se um terreno será coberto por esse tipo de árvore ou não.\n",
    "\n",
    "Construa um mini-projeto para este problema. Explore o dataset, construa modelos (pelo menos 2 tipos diferentes) e compare seus desempenhos. NÃO PRECISA FAZER FINE TUNING DE HIPERPARÂMETROS, não vai dar tempo nesta prova.\n",
    "\n",
    "Rubrica:\n",
    "\n",
    "I - Código não roda, ou roda mas é nonsense, e não tem análises que façam sentido.\n",
    "\n",
    "D - A análise não está completa, ou o código está bagunçado, mas pelo menos não é nonsense.\n",
    "\n",
    "C - Análise e conclusões mínimas, mas corretas.\n",
    "\n",
    "B - Análise robusta e não-trivial - descobriu padrões interessantes nos dados, fez alguma engenharia de features interessante.\n",
    "\n",
    "A - Concluída a rubrica B, faça agora uma análise multiclasse. SOMENTE SE JA CONCLUIU NIVEL B."
   ]
  },
  {
   "cell_type": "code",
   "execution_count": 7,
   "metadata": {},
   "outputs": [
    {
     "data": {
      "text/plain": [
       "1    10400\n",
       "0     9600\n",
       "Name: Cover_Type, dtype: int64"
      ]
     },
     "execution_count": 7,
     "metadata": {},
     "output_type": "execute_result"
    }
   ],
   "source": [
    "df[\"Cover_Type\"] = (df[\"Cover_Type\"] == 2).astype(int)\n",
    "df[\"Cover_Type\"].value_counts()"
   ]
  },
  {
   "cell_type": "code",
   "execution_count": 8,
   "metadata": {},
   "outputs": [
    {
     "name": "stdout",
     "output_type": "stream",
     "text": [
      "16000 train + 4000 test\n"
     ]
    }
   ],
   "source": [
    "from sklearn.model_selection import train_test_split\n",
    "\n",
    "train_set, validation_set = train_test_split(df, test_size=0.2)\n",
    "print(\"{} train + {} test\".format(len(train_set), len(validation_set)))"
   ]
  },
  {
   "cell_type": "code",
   "execution_count": 9,
   "metadata": {},
   "outputs": [
    {
     "data": {
      "text/html": [
       "<div>\n",
       "<style scoped>\n",
       "    .dataframe tbody tr th:only-of-type {\n",
       "        vertical-align: middle;\n",
       "    }\n",
       "\n",
       "    .dataframe tbody tr th {\n",
       "        vertical-align: top;\n",
       "    }\n",
       "\n",
       "    .dataframe thead th {\n",
       "        text-align: right;\n",
       "    }\n",
       "</style>\n",
       "<table border=\"1\" class=\"dataframe\">\n",
       "  <thead>\n",
       "    <tr style=\"text-align: right;\">\n",
       "      <th></th>\n",
       "      <th>Elevation</th>\n",
       "      <th>Aspect</th>\n",
       "      <th>Slope</th>\n",
       "      <th>Horizontal_Distance_To_Hydrology</th>\n",
       "      <th>Vertical_Distance_To_Hydrology</th>\n",
       "      <th>Horizontal_Distance_To_Roadways</th>\n",
       "      <th>Hillshade_9am</th>\n",
       "      <th>Hillshade_Noon</th>\n",
       "      <th>Hillshade_3pm</th>\n",
       "      <th>Horizontal_Distance_To_Fire_Points</th>\n",
       "      <th>Cover_Type</th>\n",
       "      <th>soil_type</th>\n",
       "      <th>Wilderness</th>\n",
       "    </tr>\n",
       "  </thead>\n",
       "  <tbody>\n",
       "  </tbody>\n",
       "</table>\n",
       "</div>"
      ],
      "text/plain": [
       "Empty DataFrame\n",
       "Columns: [Elevation, Aspect, Slope, Horizontal_Distance_To_Hydrology, Vertical_Distance_To_Hydrology, Horizontal_Distance_To_Roadways, Hillshade_9am, Hillshade_Noon, Hillshade_3pm, Horizontal_Distance_To_Fire_Points, Cover_Type, soil_type, Wilderness]\n",
       "Index: []"
      ]
     },
     "execution_count": 9,
     "metadata": {},
     "output_type": "execute_result"
    }
   ],
   "source": [
    "df[df.isnull().any(axis=1)].head()"
   ]
  },
  {
   "cell_type": "markdown",
   "metadata": {},
   "source": [
    "Nenhum valor faltante..."
   ]
  },
  {
   "cell_type": "code",
   "execution_count": 10,
   "metadata": {},
   "outputs": [
    {
     "data": {
      "text/plain": [
       "Cover_Type                            1.000000\n",
       "Horizontal_Distance_To_Fire_Points    0.098060\n",
       "Hillshade_Noon                        0.053748\n",
       "Horizontal_Distance_To_Hydrology      0.035149\n",
       "Vertical_Distance_To_Hydrology        0.018076\n",
       "Hillshade_3pm                         0.014270\n",
       "Hillshade_9am                         0.012671\n",
       "Slope                                 0.000260\n",
       "Aspect                               -0.005415\n",
       "Horizontal_Distance_To_Roadways      -0.031750\n",
       "Elevation                            -0.343401\n",
       "Name: Cover_Type, dtype: float64"
      ]
     },
     "execution_count": 10,
     "metadata": {},
     "output_type": "execute_result"
    }
   ],
   "source": [
    "train_set.corr()['Cover_Type'].sort_values(ascending=False)"
   ]
  },
  {
   "cell_type": "markdown",
   "metadata": {},
   "source": [
    "Nenhuma das variáveis parece ter uma forte correlação com a varíavel que queremos analisar."
   ]
  },
  {
   "cell_type": "code",
   "execution_count": 11,
   "metadata": {},
   "outputs": [
    {
     "data": {
      "text/html": [
       "<div>\n",
       "<style scoped>\n",
       "    .dataframe tbody tr th:only-of-type {\n",
       "        vertical-align: middle;\n",
       "    }\n",
       "\n",
       "    .dataframe tbody tr th {\n",
       "        vertical-align: top;\n",
       "    }\n",
       "\n",
       "    .dataframe thead th {\n",
       "        text-align: right;\n",
       "    }\n",
       "</style>\n",
       "<table border=\"1\" class=\"dataframe\">\n",
       "  <thead>\n",
       "    <tr style=\"text-align: right;\">\n",
       "      <th></th>\n",
       "      <th>soil_type</th>\n",
       "    </tr>\n",
       "  </thead>\n",
       "  <tbody>\n",
       "    <tr>\n",
       "      <th>13809</th>\n",
       "      <td>29</td>\n",
       "    </tr>\n",
       "    <tr>\n",
       "      <th>9138</th>\n",
       "      <td>30</td>\n",
       "    </tr>\n",
       "    <tr>\n",
       "      <th>1118</th>\n",
       "      <td>29</td>\n",
       "    </tr>\n",
       "  </tbody>\n",
       "</table>\n",
       "</div>"
      ],
      "text/plain": [
       "      soil_type\n",
       "13809        29\n",
       "9138         30\n",
       "1118         29"
      ]
     },
     "execution_count": 11,
     "metadata": {},
     "output_type": "execute_result"
    }
   ],
   "source": [
    "train_set[[\"soil_type\"]].head(3)"
   ]
  },
  {
   "cell_type": "code",
   "execution_count": 12,
   "metadata": {},
   "outputs": [
    {
     "data": {
      "text/html": [
       "<div>\n",
       "<style scoped>\n",
       "    .dataframe tbody tr th:only-of-type {\n",
       "        vertical-align: middle;\n",
       "    }\n",
       "\n",
       "    .dataframe tbody tr th {\n",
       "        vertical-align: top;\n",
       "    }\n",
       "\n",
       "    .dataframe thead th {\n",
       "        text-align: right;\n",
       "    }\n",
       "</style>\n",
       "<table border=\"1\" class=\"dataframe\">\n",
       "  <thead>\n",
       "    <tr style=\"text-align: right;\">\n",
       "      <th></th>\n",
       "      <th>Wilderness</th>\n",
       "    </tr>\n",
       "  </thead>\n",
       "  <tbody>\n",
       "    <tr>\n",
       "      <th>13809</th>\n",
       "      <td>1</td>\n",
       "    </tr>\n",
       "    <tr>\n",
       "      <th>9138</th>\n",
       "      <td>1</td>\n",
       "    </tr>\n",
       "    <tr>\n",
       "      <th>1118</th>\n",
       "      <td>1</td>\n",
       "    </tr>\n",
       "  </tbody>\n",
       "</table>\n",
       "</div>"
      ],
      "text/plain": [
       "      Wilderness\n",
       "13809          1\n",
       "9138           1\n",
       "1118           1"
      ]
     },
     "execution_count": 12,
     "metadata": {},
     "output_type": "execute_result"
    }
   ],
   "source": [
    "train_set[[\"Wilderness\"]].head(3)"
   ]
  },
  {
   "cell_type": "code",
   "execution_count": 13,
   "metadata": {},
   "outputs": [],
   "source": [
    "X_train = train_set.drop(columns=[\"Cover_Type\"])\n",
    "y_train = train_set[\"Cover_Type\"]"
   ]
  },
  {
   "cell_type": "code",
   "execution_count": 14,
   "metadata": {},
   "outputs": [
    {
     "data": {
      "text/html": [
       "<div>\n",
       "<style scoped>\n",
       "    .dataframe tbody tr th:only-of-type {\n",
       "        vertical-align: middle;\n",
       "    }\n",
       "\n",
       "    .dataframe tbody tr th {\n",
       "        vertical-align: top;\n",
       "    }\n",
       "\n",
       "    .dataframe thead th {\n",
       "        text-align: right;\n",
       "    }\n",
       "</style>\n",
       "<table border=\"1\" class=\"dataframe\">\n",
       "  <thead>\n",
       "    <tr style=\"text-align: right;\">\n",
       "      <th></th>\n",
       "      <th>Wilderness</th>\n",
       "      <th>soil_type</th>\n",
       "    </tr>\n",
       "  </thead>\n",
       "  <tbody>\n",
       "    <tr>\n",
       "      <th>13809</th>\n",
       "      <td>1</td>\n",
       "      <td>29</td>\n",
       "    </tr>\n",
       "    <tr>\n",
       "      <th>9138</th>\n",
       "      <td>1</td>\n",
       "      <td>30</td>\n",
       "    </tr>\n",
       "    <tr>\n",
       "      <th>1118</th>\n",
       "      <td>1</td>\n",
       "      <td>29</td>\n",
       "    </tr>\n",
       "    <tr>\n",
       "      <th>12652</th>\n",
       "      <td>3</td>\n",
       "      <td>3</td>\n",
       "    </tr>\n",
       "    <tr>\n",
       "      <th>11216</th>\n",
       "      <td>3</td>\n",
       "      <td>33</td>\n",
       "    </tr>\n",
       "    <tr>\n",
       "      <th>...</th>\n",
       "      <td>...</td>\n",
       "      <td>...</td>\n",
       "    </tr>\n",
       "    <tr>\n",
       "      <th>4148</th>\n",
       "      <td>3</td>\n",
       "      <td>31</td>\n",
       "    </tr>\n",
       "    <tr>\n",
       "      <th>19669</th>\n",
       "      <td>3</td>\n",
       "      <td>39</td>\n",
       "    </tr>\n",
       "    <tr>\n",
       "      <th>5419</th>\n",
       "      <td>1</td>\n",
       "      <td>29</td>\n",
       "    </tr>\n",
       "    <tr>\n",
       "      <th>245</th>\n",
       "      <td>3</td>\n",
       "      <td>32</td>\n",
       "    </tr>\n",
       "    <tr>\n",
       "      <th>10415</th>\n",
       "      <td>1</td>\n",
       "      <td>29</td>\n",
       "    </tr>\n",
       "  </tbody>\n",
       "</table>\n",
       "<p>16000 rows × 2 columns</p>\n",
       "</div>"
      ],
      "text/plain": [
       "      Wilderness soil_type\n",
       "13809          1        29\n",
       "9138           1        30\n",
       "1118           1        29\n",
       "12652          3         3\n",
       "11216          3        33\n",
       "...          ...       ...\n",
       "4148           3        31\n",
       "19669          3        39\n",
       "5419           1        29\n",
       "245            3        32\n",
       "10415          1        29\n",
       "\n",
       "[16000 rows x 2 columns]"
      ]
     },
     "execution_count": 14,
     "metadata": {},
     "output_type": "execute_result"
    }
   ],
   "source": [
    "cat = train_set[[\"Wilderness\", \"soil_type\"]]\n",
    "cat"
   ]
  },
  {
   "cell_type": "code",
   "execution_count": 15,
   "metadata": {},
   "outputs": [
    {
     "name": "stdout",
     "output_type": "stream",
     "text": [
      "[[1. 0. 0. ... 0. 0. 0.]\n",
      " [1. 0. 0. ... 0. 0. 0.]\n",
      " [1. 0. 0. ... 0. 0. 0.]\n",
      " ...\n",
      " [1. 0. 0. ... 0. 0. 0.]\n",
      " [0. 1. 0. ... 0. 0. 0.]\n",
      " [1. 0. 0. ... 0. 0. 0.]]\n",
      "[array([1, 3], dtype=int64), array([ 2,  3,  4,  7,  8,  9, 10, 11, 12, 13, 14, 16, 17, 18, 19, 20, 21,\n",
      "       22, 23, 24, 26, 27, 28, 29, 30, 31, 32, 33, 34, 35, 36, 37, 38, 39,\n",
      "       40], dtype=int64)]\n"
     ]
    }
   ],
   "source": [
    "# Cria o codificador.\n",
    "from sklearn.preprocessing import OneHotEncoder\n",
    "\n",
    "encoder = OneHotEncoder(categories=\"auto\")\n",
    "\n",
    "# Aprende a codificação e já aplica a mesma ao dataset fornecido. Todo transformador no sklearn\n",
    "# tem os métodos fit() para aprender a transformação, e transform() para aplicá-la.\n",
    "# O método fit_transform() faz os dois atos em sequência.\n",
    "cat_1hot = encoder.fit_transform(cat)\n",
    "\n",
    "# O resultado da codificação é uma matriz esparsa em NumPy.\n",
    "print(cat_1hot.toarray())\n",
    "print(encoder.categories_)"
   ]
  },
  {
   "cell_type": "markdown",
   "metadata": {},
   "source": [
    "Usando one hot encoder (mesmo que sejam inteiros, esse valores não são ordenáveis, ou não deveriam ser...)"
   ]
  },
  {
   "cell_type": "code",
   "execution_count": 16,
   "metadata": {},
   "outputs": [],
   "source": [
    "from sklearn.compose import ColumnTransformer\n",
    "from sklearn.preprocessing import StandardScaler\n",
    "\n",
    "num_df = df.drop([\"Wilderness\", \"soil_type\", \"Cover_Type\"], axis=1)\n",
    "num_attribs = list(num_df)\n",
    "cat_attribs = [\"Wilderness\", \"soil_type\"]\n",
    "\n",
    "full_pipeline = ColumnTransformer(\n",
    "    [\n",
    "        (\"num\", StandardScaler(), num_attribs),\n",
    "        (\"cat\", OneHotEncoder(sparse=False), cat_attribs),\n",
    "    ]\n",
    ")\n",
    "\n",
    "train_prepared = full_pipeline.fit_transform(X_train)\n",
    "# train_prepared[:5]"
   ]
  },
  {
   "cell_type": "code",
   "execution_count": 17,
   "metadata": {},
   "outputs": [
    {
     "data": {
      "text/plain": [
       "Pipeline(steps=[('scaler', StandardScaler()),\n",
       "                ('log_clf', LogisticRegression(max_iter=1000))])"
      ]
     },
     "execution_count": 17,
     "metadata": {},
     "output_type": "execute_result"
    }
   ],
   "source": [
    "from sklearn.linear_model import LogisticRegression\n",
    "from sklearn.pipeline import Pipeline\n",
    "\n",
    "log_reg = Pipeline([\n",
    "        (\"scaler\", StandardScaler()),\n",
    "        (\"log_clf\", LogisticRegression(max_iter=1000))\n",
    "    ])\n",
    "\n",
    "log_reg.fit(train_prepared, y_train)"
   ]
  },
  {
   "cell_type": "code",
   "execution_count": 18,
   "metadata": {},
   "outputs": [
    {
     "name": "stdout",
     "output_type": "stream",
     "text": [
      "Predição: [1 1 1 0 1 1 1 1 0 1]\n",
      "Original: [1 1 1 1 1 1 0 1 0 1]\n"
     ]
    }
   ],
   "source": [
    "some_data = X_train.iloc[:10]\n",
    "some_valid = y_train.iloc[:10]\n",
    "\n",
    "some_data_prepared = full_pipeline.transform(some_data)\n",
    "\n",
    "pred_data = log_reg.predict(some_data_prepared)\n",
    "print(\"Predição: {}\".format(pred_data))\n",
    "\n",
    "# Compare com os valores originais:\n",
    "print(\"Original: {}\".format(some_valid.values))"
   ]
  },
  {
   "cell_type": "markdown",
   "metadata": {},
   "source": [
    "meh errou alguns..."
   ]
  },
  {
   "cell_type": "code",
   "execution_count": 19,
   "metadata": {},
   "outputs": [
    {
     "name": "stdout",
     "output_type": "stream",
     "text": [
      "[[5071 2538]\n",
      " [2234 6157]]\n",
      "[0.70603675 0.70429402 0.69491843]\n"
     ]
    }
   ],
   "source": [
    "from sklearn.metrics import confusion_matrix\n",
    "from sklearn.model_selection import cross_val_predict\n",
    "from sklearn.metrics import mean_squared_error\n",
    "\n",
    "y_train_pred = cross_val_predict(log_reg, X_train, y_train, cv=3, n_jobs=-1)\n",
    "mat = confusion_matrix(y_train, y_train_pred)\n",
    "print(mat)\n",
    "\n",
    "from sklearn.model_selection import cross_val_score\n",
    "\n",
    "res = cross_val_score(log_reg, X_train, y_train, cv=3, scoring=\"accuracy\", n_jobs=-1)\n",
    "\n",
    "print(res)"
   ]
  },
  {
   "cell_type": "code",
   "execution_count": 20,
   "metadata": {},
   "outputs": [
    {
     "name": "stdout",
     "output_type": "stream",
     "text": [
      "Precision: 0.7081081081081081\n",
      "Recall: 0.7337623644380884\n",
      "Accuracy: 0.70175\n"
     ]
    }
   ],
   "source": [
    "from sklearn.metrics import precision_score, recall_score, accuracy_score\n",
    "\n",
    "print(f'Precision: {precision_score(y_train, y_train_pred)}')\n",
    "print(f'Recall: {recall_score(y_train, y_train_pred)}')\n",
    "print(f'Accuracy: {accuracy_score(y_train, y_train_pred)}')"
   ]
  },
  {
   "cell_type": "markdown",
   "metadata": {},
   "source": [
    "Pelo menos tem um precision e um recall balanceado..."
   ]
  },
  {
   "cell_type": "code",
   "execution_count": 21,
   "metadata": {},
   "outputs": [
    {
     "data": {
      "image/png": "[encoded data removed]",
      "text/plain": [
       "<Figure size 576x432 with 1 Axes>"
      ]
     },
     "metadata": {
      "needs_background": "light"
     },
     "output_type": "display_data"
    },
    {
     "name": "stdout",
     "output_type": "stream",
     "text": [
      "ROC AUC: 0.7001049961236309\n"
     ]
    }
   ],
   "source": [
    "from sklearn.metrics import roc_curve, roc_auc_score\n",
    "\n",
    "fpr, tpr, thresholds = roc_curve(y_train, y_train_pred)\n",
    "\n",
    "plt.figure(figsize=(8, 6))\n",
    "plt.plot(fpr, tpr, linewidth=2, label=\"Logstic regression\")\n",
    "plt.plot([0, 1], [0, 1], 'k--')\n",
    "plt.axis([0, 1, 0, 1])\n",
    "plt.xlabel('False Positive Rate', fontsize=16)\n",
    "plt.ylabel('True Positive Rate', fontsize=16)\n",
    "plt.legend(loc=\"lower right\", fontsize=16)\n",
    "plt.show()\n",
    "\n",
    "print(f'ROC AUC: {roc_auc_score(y_train, y_train_pred)}')"
   ]
  },
  {
   "cell_type": "markdown",
   "metadata": {},
   "source": [
    "Ok, esse classificador não é bom."
   ]
  },
  {
   "cell_type": "code",
   "execution_count": 22,
   "metadata": {},
   "outputs": [
    {
     "name": "stdout",
     "output_type": "stream",
     "text": [
      "Predição: [1 0 1 1 1 1 1 1 0 1]\n",
      "Original: [1 1 1 1 1 1 0 1 0 1]\n"
     ]
    }
   ],
   "source": [
    "from sklearn.ensemble import RandomForestClassifier\n",
    "\n",
    "forest_clf = Pipeline([\n",
    "        (\"scaler\", StandardScaler()),\n",
    "        (\"rdmF_clf\", RandomForestClassifier(max_depth=2))\n",
    "    ])\n",
    "forest_clf.fit(train_prepared, y_train)\n",
    "\n",
    "forest_pred = forest_clf.predict(some_data_prepared)\n",
    "\n",
    "print(\"Predição: {}\".format(forest_pred))\n",
    "\n",
    "# Compare com os valores originais:\n",
    "print(\"Original: {}\".format(some_valid.values))"
   ]
  },
  {
   "cell_type": "markdown",
   "metadata": {},
   "source": [
    "Bastantes erros também..."
   ]
  },
  {
   "cell_type": "code",
   "execution_count": 23,
   "metadata": {},
   "outputs": [],
   "source": [
    "forest_pred = cross_val_predict(forest_clf, X_train, y_train, cv=3, n_jobs=-1)"
   ]
  },
  {
   "cell_type": "code",
   "execution_count": 24,
   "metadata": {},
   "outputs": [
    {
     "name": "stdout",
     "output_type": "stream",
     "text": [
      "Precision: 0.6913265306122449\n",
      "Recall: 0.807412704087713\n",
      "Accuracy: 0.7099375\n"
     ]
    }
   ],
   "source": [
    "from sklearn.metrics import precision_score, recall_score, accuracy_score\n",
    "\n",
    "print(f'Precision: {precision_score(y_train, forest_pred)}')\n",
    "print(f'Recall: {recall_score(y_train, forest_pred)}')\n",
    "print(f'Accuracy: {accuracy_score(y_train, forest_pred)}')"
   ]
  },
  {
   "cell_type": "markdown",
   "metadata": {},
   "source": [
    "Parece um pouco melhor em termos de acurácia"
   ]
  },
  {
   "cell_type": "code",
   "execution_count": 25,
   "metadata": {},
   "outputs": [
    {
     "data": {
      "image/png": "[encoded data removed]",
      "text/plain": [
       "<Figure size 576x432 with 1 Axes>"
      ]
     },
     "metadata": {
      "needs_background": "light"
     },
     "output_type": "display_data"
    },
    {
     "name": "stdout",
     "output_type": "stream",
     "text": [
      "ROC AUC: 0.7049285888686693\n"
     ]
    }
   ],
   "source": [
    "from sklearn.metrics import roc_curve, roc_auc_score\n",
    "\n",
    "fpr_forest, tpr_forest, thresholds_forest = roc_curve(y_train, forest_pred)\n",
    "\n",
    "plt.figure(figsize=(8, 6))\n",
    "plt.plot(fpr, tpr, linewidth=2, label=\"Random Forest\")\n",
    "plt.plot(fpr_forest, tpr_forest,\"r--\",  linewidth=2,label=\"logistic\")\n",
    "plt.plot([0, 1], [0, 1], 'k--')\n",
    "plt.axis([0, 1, 0, 1])\n",
    "plt.xlabel('False Positive Rate', fontsize=16)\n",
    "plt.ylabel('True Positive Rate', fontsize=16)\n",
    "plt.legend(loc=\"lower right\", fontsize=16)\n",
    "plt.show()\n",
    "\n",
    "print(f'ROC AUC: {roc_auc_score(y_train, forest_pred)}')"
   ]
  },
  {
   "cell_type": "markdown",
   "metadata": {},
   "source": [
    "Praticamente a mesma curva roc..."
   ]
  },
  {
   "cell_type": "markdown",
   "metadata": {},
   "source": [
    "Vamos ver a acurácia de cada um nos testes."
   ]
  },
  {
   "cell_type": "code",
   "execution_count": 26,
   "metadata": {},
   "outputs": [
    {
     "name": "stdout",
     "output_type": "stream",
     "text": [
      "Regressão logística 0.74325\n"
     ]
    }
   ],
   "source": [
    "X_test = validation_set.drop(columns=[\"Cover_Type\"], axis=1)\n",
    "y_test = validation_set[\"Cover_Type\"].copy()\n",
    "\n",
    "X_test_prepared = full_pipeline.transform(X_test)\n",
    "final_predictions_log = log_reg.predict(X_test_prepared)\n",
    "\n",
    "print(f\"Regressão logística {accuracy_score(y_test, final_predictions_log)}\")"
   ]
  },
  {
   "cell_type": "code",
   "execution_count": 27,
   "metadata": {},
   "outputs": [
    {
     "name": "stdout",
     "output_type": "stream",
     "text": [
      "RandomForest Classifier 0.70875\n"
     ]
    }
   ],
   "source": [
    "final_predictions_log = forest_clf.predict(X_test_prepared)\n",
    "\n",
    "print(f\"RandomForest Classifier {accuracy_score(y_test, final_predictions_log)}\")"
   ]
  },
  {
   "cell_type": "markdown",
   "metadata": {},
   "source": [
    "Como foi observado que os dados não são tão capazes de explicar a variável dependente, apresentando correlação baixa, obtemos modelos que estão longe de ser ótimos."
   ]
  },
  {
   "cell_type": "markdown",
   "metadata": {},
   "source": []
  }
 ],
 "metadata": {
  "kernelspec": {
   "display_name": "Python 3",
   "language": "python",
   "name": "python3"
  },
  "language_info": {
   "codemirror_mode": {
    "name": "ipython",
    "version": 3
   },
   "file_extension": ".py",
   "mimetype": "text/x-python",
   "name": "python",
   "nbconvert_exporter": "python",
   "pygments_lexer": "ipython3",
   "version": "3.8.4"
  }
 },
 "nbformat": 4,
 "nbformat_minor": 4
}
