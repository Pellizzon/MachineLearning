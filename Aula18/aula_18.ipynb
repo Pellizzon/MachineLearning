{
 "cells": [
  {
   "cell_type": "markdown",
   "metadata": {},
   "source": [
    "# Redes convolucionais\n",
    "\n",
    "- Acompanhe a explicação do professor\n",
    "- Siga o notebook do autor do livro-texto para praticar o uso de redes convolucionais.\n",
    "    - Dica: a não ser que você tenha uma GPU muito boa, é melhor rodar no Google Colab.\n",
    "\n",
    "**Atividade**: melhore a modelo de classificação do dataset CIFAR-10 usando redes convolucionais.\n"
   ]
  },
  {
   "cell_type": "code",
   "execution_count": null,
   "metadata": {},
   "outputs": [],
   "source": []
  }
 ],
 "metadata": {
  "kernelspec": {
   "display_name": "ml",
   "language": "python",
   "name": "ml"
  },
  "language_info": {
   "codemirror_mode": {
    "name": "ipython",
    "version": 3
   },
   "file_extension": ".py",
   "mimetype": "text/x-python",
   "name": "python",
   "nbconvert_exporter": "python",
   "pygments_lexer": "ipython3",
   "version": "3.8.5"
  }
 },
 "nbformat": 4,
 "nbformat_minor": 4
}
