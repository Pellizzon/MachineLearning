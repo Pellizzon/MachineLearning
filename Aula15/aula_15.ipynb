{
 "cells": [
  {
   "cell_type": "markdown",
   "metadata": {},
   "source": [
    "# Introdução às redes neurais e TensorFlow"
   ]
  },
  {
   "cell_type": "markdown",
   "metadata": {},
   "source": [
    "Para chegar à implementação de uma rede neural simples, vamos começar com um problema velho conhecido nosso: a regressão logística.\n",
    "\n",
    "Relembrando: a regressão logística (que não é uma regressão, e sim um modelo de classificação) usa a função logística:\n",
    "\n",
    "$$\n",
    "y = \\sigma(x) = \\frac{1}{1 + \\exp(-x)}\n",
    "$$\n",
    "\n",
    "Vamos implementá-la e visualizá-la:"
   ]
  },
  {
   "cell_type": "code",
   "execution_count": 1,
   "metadata": {},
   "outputs": [],
   "source": [
    "%matplotlib widget\n",
    "import matplotlib.pyplot as plt\n",
    "import numpy as np"
   ]
  },
  {
   "cell_type": "code",
   "execution_count": 2,
   "metadata": {},
   "outputs": [
    {
     "data": {
      "application/vnd.jupyter.widget-view+json": {
       "model_id": "be838bb8211c453da131bcf8484351ee",
       "version_major": 2,
       "version_minor": 0
      },
      "text/plain": [
       "Canvas(toolbar=Toolbar(toolitems=[('Home', 'Reset original view', 'home', 'home'), ('Back', 'Back to previous …"
      ]
     },
     "metadata": {},
     "output_type": "display_data"
    }
   ],
   "source": [
    "def logistic(x):\n",
    "    return 1.0 / (1.0 + np.exp(-x))\n",
    "\n",
    "\n",
    "xs = np.linspace(-10.0, 10.0, 200)\n",
    "ys = logistic(xs)\n",
    "\n",
    "plt.figure()\n",
    "plt.plot(xs, ys)\n",
    "plt.xlabel(\"x\")\n",
    "plt.ylabel(\"y\")\n",
    "plt.title(\"Função logística:\\n$y = 1/(1 + \\exp(-x))$\")\n",
    "plt.show()"
   ]
  },
  {
   "cell_type": "markdown",
   "metadata": {},
   "source": [
    "No contexto da regressão logística, a função logística será usada para representar a probabilidade de que um objeto $x$ pertença à classe positiva.\n",
    "\n",
    "Do jeito que está, a função logística permite apenas distinguir valores negativos de $x$ (quando $\\sigma(x) < 0.5$ de valores positivos de $x$ (quando $\\sigma(x) > 0.5$). Para \"esticar\" a função logística podemos usar um peso aplicado a $x$: quando esse peso é maior que $1$ a função encolhe, e quando é menor que $1$ a função alarga:"
   ]
  },
  {
   "cell_type": "code",
   "execution_count": 3,
   "metadata": {},
   "outputs": [
    {
     "data": {
      "application/vnd.jupyter.widget-view+json": {
       "model_id": "99be9d181fd9420681b640280125f3c9",
       "version_major": 2,
       "version_minor": 0
      },
      "text/plain": [
       "Canvas(toolbar=Toolbar(toolitems=[('Home', 'Reset original view', 'home', 'home'), ('Back', 'Back to previous …"
      ]
     },
     "metadata": {},
     "output_type": "display_data"
    }
   ],
   "source": [
    "w = 3\n",
    "ys = logistic(w * xs)\n",
    "\n",
    "plt.figure()\n",
    "plt.plot(xs, ys)\n",
    "plt.xlabel(\"x\")\n",
    "plt.ylabel(\"y\")\n",
    "plt.title(f\"Função logística encurtada:\\n$y = 1/(1 + \\exp(-{w} x))$\")\n",
    "plt.show()"
   ]
  },
  {
   "cell_type": "code",
   "execution_count": 4,
   "metadata": {},
   "outputs": [
    {
     "data": {
      "application/vnd.jupyter.widget-view+json": {
       "model_id": "2d4f5b3af071412ba187379431fd0c7c",
       "version_major": 2,
       "version_minor": 0
      },
      "text/plain": [
       "Canvas(toolbar=Toolbar(toolitems=[('Home', 'Reset original view', 'home', 'home'), ('Back', 'Back to previous …"
      ]
     },
     "metadata": {},
     "output_type": "display_data"
    }
   ],
   "source": [
    "w = 0.5\n",
    "ys = logistic(w * xs)\n",
    "\n",
    "plt.figure()\n",
    "plt.plot(xs, ys)\n",
    "plt.xlabel(\"x\")\n",
    "plt.ylabel(\"y\")\n",
    "plt.title(f\"Função logística alargada:\\n$y = 1/(1 + \\exp(-{w} x))$\")\n",
    "plt.show()"
   ]
  },
  {
   "cell_type": "markdown",
   "metadata": {},
   "source": [
    "Para mover a função logística, podemos somar uma constante ao argumento $x$. Valores positivos da constante deslocam a função logística para a direção negativa, e valores negativos deslocam a função para a direção positiva:"
   ]
  },
  {
   "cell_type": "code",
   "execution_count": 5,
   "metadata": {},
   "outputs": [
    {
     "data": {
      "application/vnd.jupyter.widget-view+json": {
       "model_id": "4b79d509a2714d97947ea01edde95fa9",
       "version_major": 2,
       "version_minor": 0
      },
      "text/plain": [
       "Canvas(toolbar=Toolbar(toolitems=[('Home', 'Reset original view', 'home', 'home'), ('Back', 'Back to previous …"
      ]
     },
     "metadata": {},
     "output_type": "display_data"
    }
   ],
   "source": [
    "b = 3\n",
    "ys = logistic(xs + b)\n",
    "\n",
    "plt.figure()\n",
    "plt.plot(xs, ys)\n",
    "plt.xlabel(\"x\")\n",
    "plt.ylabel(\"y\")\n",
    "plt.title(f\"Função logística deslocada para a esquerda:\\n$y = 1/(1 + \\exp(-x + {b}))$\")\n",
    "plt.show()"
   ]
  },
  {
   "cell_type": "code",
   "execution_count": 6,
   "metadata": {},
   "outputs": [
    {
     "data": {
      "application/vnd.jupyter.widget-view+json": {
       "model_id": "21e133b15cbe4c57bb0df04880b3b6ff",
       "version_major": 2,
       "version_minor": 0
      },
      "text/plain": [
       "Canvas(toolbar=Toolbar(toolitems=[('Home', 'Reset original view', 'home', 'home'), ('Back', 'Back to previous …"
      ]
     },
     "metadata": {},
     "output_type": "display_data"
    }
   ],
   "source": [
    "b = -3\n",
    "\n",
    "ys = logistic(xs + b)\n",
    "\n",
    "plt.figure()\n",
    "plt.plot(xs, ys)\n",
    "plt.xlabel(\"x\")\n",
    "plt.ylabel(\"y\")\n",
    "plt.title(f\"Função logística deslocada para a direita:\\n$y = 1/(1 + \\exp(-x - {-b}))$\")\n",
    "plt.show()"
   ]
  },
  {
   "cell_type": "markdown",
   "metadata": {},
   "source": [
    "Combinando os dois elementos (o peso e a constante) podemos mover e esticar a função logística à vontade.\n",
    "\n",
    "E se a entrada $x$ for multivalorada? Para considerar um exemplo totalmente ao acaso, queremos distinguir entre dois tipos de flores a partir do comprimento e da largura da pétala. Neste caso nossa entrada $x$ tem dois valores. Por conveniência, vamos representar uma entrada como uma matriz linha, para ficar consistente com a nossa representação futura de multiplos pontos como uma matriz:\n",
    "\n",
    "$$\n",
    "x = \\left[\n",
    "\\begin{matrix}\n",
    "x_0 & x_1\n",
    "\\end{matrix}\n",
    "\\right]\n",
    "$$\n",
    "\n",
    "Nossos pesos agora são um vetor de dois valores:\n",
    "\n",
    "$$\n",
    "w = \\left[\n",
    "\\begin{matrix}\n",
    "w_0 \\\\\n",
    "w_1\n",
    "\\end{matrix}\n",
    "\\right]\n",
    "$$\n",
    "\n",
    "e nossa constante continua sendo um valor apenas.\n",
    "\n",
    "A combinação de valores pré-função-logística fica sendo:\n",
    "\n",
    "$$\n",
    "v = x w + b\n",
    "$$\n",
    "\n",
    "onde o produto da expressão é uma multiplicação de matrizes.\n",
    "\n",
    "Vamos implementar esta operação em separado:"
   ]
  },
  {
   "cell_type": "code",
   "execution_count": 7,
   "metadata": {},
   "outputs": [],
   "source": [
    "def linear(w, b, x):\n",
    "    return x @ w + b"
   ]
  },
  {
   "cell_type": "markdown",
   "metadata": {},
   "source": [
    "A operação `@` para multiplicação de matrizes foi introduzida no Python 3.5, na PEP 465.\n",
    "\n",
    "Vamos visualizar o resultado de aplicar um vetor de pesos e uma constante à nossa função logística. Primeiro vamos gerar vários pontos cobrindo o quadrado de lado $20.0$ centrado na origem."
   ]
  },
  {
   "cell_type": "code",
   "execution_count": 8,
   "metadata": {},
   "outputs": [
    {
     "data": {
      "text/plain": [
       "(200, 200)"
      ]
     },
     "execution_count": 8,
     "metadata": {},
     "output_type": "execute_result"
    }
   ],
   "source": [
    "xs = np.linspace(-10.0, 10.0, 200)\n",
    "ys = np.linspace(-10.0, 10.0, 200)\n",
    "\n",
    "Xs, Ys = np.meshgrid(xs, ys)\n",
    "Xs.shape"
   ]
  },
  {
   "cell_type": "markdown",
   "metadata": {},
   "source": [
    "Agora vamos rearranjar estes valores na forma de uma matriz de amostras de $200 \\times 200 = 40000$ linhas e $2$ colunas (uma para os `Xs` e outra para os `Ys`):"
   ]
  },
  {
   "cell_type": "code",
   "execution_count": 9,
   "metadata": {},
   "outputs": [
    {
     "data": {
      "text/plain": [
       "(40000, 2)"
      ]
     },
     "execution_count": 9,
     "metadata": {},
     "output_type": "execute_result"
    }
   ],
   "source": [
    "X = np.c_[Xs.reshape(-1, 1), Ys.reshape(-1, 1)]\n",
    "X.shape"
   ]
  },
  {
   "cell_type": "markdown",
   "metadata": {},
   "source": [
    "Agora podemos aplicar diretamente as funções `linear(w, b, x)` e `logistic(x)`! Pela magia do `numpy`, as operações já estão definidas para operação matricial. Só precisamos definir corretamente os pesos e a constante:"
   ]
  },
  {
   "cell_type": "code",
   "execution_count": 10,
   "metadata": {},
   "outputs": [],
   "source": [
    "w = np.array(\n",
    "    [\n",
    "        [-3.0],\n",
    "        [5.0],\n",
    "    ]\n",
    ")\n",
    "\n",
    "b = -2.0\n",
    "\n",
    "v = linear(w, b, X)\n",
    "z = logistic(v)"
   ]
  },
  {
   "cell_type": "markdown",
   "metadata": {},
   "source": [
    "Vamos retornar a forma do array `z` para que seja compatível com `Xs` e `Ys`:"
   ]
  },
  {
   "cell_type": "code",
   "execution_count": 11,
   "metadata": {},
   "outputs": [
    {
     "data": {
      "text/plain": [
       "(200, 200)"
      ]
     },
     "execution_count": 11,
     "metadata": {},
     "output_type": "execute_result"
    }
   ],
   "source": [
    "Zs = z.reshape(Xs.shape)\n",
    "Zs.shape"
   ]
  },
  {
   "cell_type": "markdown",
   "metadata": {},
   "source": [
    "Agora é só plotar:"
   ]
  },
  {
   "cell_type": "code",
   "execution_count": 12,
   "metadata": {},
   "outputs": [
    {
     "data": {
      "application/vnd.jupyter.widget-view+json": {
       "model_id": "06c15a4ed8944fa2b9d191e4e309a261",
       "version_major": 2,
       "version_minor": 0
      },
      "text/plain": [
       "Canvas(toolbar=Toolbar(toolitems=[('Home', 'Reset original view', 'home', 'home'), ('Back', 'Back to previous …"
      ]
     },
     "metadata": {},
     "output_type": "display_data"
    }
   ],
   "source": [
    "from matplotlib import cm\n",
    "from mpl_toolkits.mplot3d import Axes3D\n",
    "\n",
    "fig = plt.figure()\n",
    "ax = fig.gca(projection=\"3d\")\n",
    "ax.plot_surface(Xs, Ys, Zs, cmap=cm.coolwarm)\n",
    "plt.xlabel(\"$x_0$\")\n",
    "plt.ylabel(\"$x_1$\")\n",
    "plt.show()"
   ]
  },
  {
   "cell_type": "markdown",
   "metadata": {},
   "source": [
    "Podemos visualizar a estrutura que criamos aqui com o diagrama a seguir:\n",
    "\n",
    "![](logistic.png)\n",
    "\n",
    "Neste diagrama, os pesos incluidos nas arestas representam multiplicação, e o circulo representa a soma dos valores entrantes.\n",
    "\n",
    "Isto é o nosso primeiro neurônio artificial! No linguajar das redes neurais, temos aqui uma camada de $2$ entradas, $1$ saída, e *função de ativação* logística.\n",
    "\n",
    "A questão agora é: como treinar a rede?\n",
    "\n",
    "**Atividade**: Selecione manualmente pesos e constante que façam com que a regressão logística resolva o seguinte problema de classificação:\n",
    "\n",
    "| $x_0$ | $x_1$ | $y$ |\n",
    "|-------|-------|-----|\n",
    "| 0 | 0 | 0 |\n",
    "| 0 | 1 | 0 |\n",
    "| 1 | 0 | 0 |\n",
    "| 1 | 1 | 1 |"
   ]
  },
  {
   "cell_type": "markdown",
   "metadata": {},
   "source": [
    "**R**: $w_0 = 1$, $w_1 = 1$, $b = -1.5$"
   ]
  },
  {
   "cell_type": "code",
   "execution_count": 13,
   "metadata": {},
   "outputs": [
    {
     "data": {
      "text/plain": [
       "(array([[0., 0.],\n",
       "        [0., 1.],\n",
       "        [1., 0.],\n",
       "        [1., 1.]]),\n",
       " array([[0.],\n",
       "        [0.],\n",
       "        [0.],\n",
       "        [1.]]),\n",
       " array([[3.05902227e-07],\n",
       "        [6.69285092e-03],\n",
       "        [6.69285092e-03],\n",
       "        [9.93307149e-01]]))"
      ]
     },
     "execution_count": 13,
     "metadata": {},
     "output_type": "execute_result"
    }
   ],
   "source": [
    "w = np.array(\n",
    "    [\n",
    "        [10.0],\n",
    "        [10.0],\n",
    "    ]\n",
    ")\n",
    "\n",
    "b = -15.0\n",
    "\n",
    "X = np.array(\n",
    "    [\n",
    "        [0.0, 0.0],\n",
    "        [0.0, 1.0],\n",
    "        [1.0, 0.0],\n",
    "        [1.0, 1.0],\n",
    "    ]\n",
    ")\n",
    "y = np.array(\n",
    "    [\n",
    "        [0.0],\n",
    "        [0.0],\n",
    "        [0.0],\n",
    "        [1.0],\n",
    "    ]\n",
    ")\n",
    "\n",
    "v = linear(w, b, X)\n",
    "z = logistic(v)\n",
    "\n",
    "X, y, z"
   ]
  },
  {
   "cell_type": "markdown",
   "metadata": {},
   "source": [
    "## Implementando a regressão logistica"
   ]
  },
  {
   "cell_type": "markdown",
   "metadata": {},
   "source": [
    "A função logística acima é um *modelo paramétrico*. Com os parâmetros corretos, permite atribuir a uma amostra $x$ uma probabilidade $\\hat{y}$ (note o uso de chapeu para indicar *valor estimado*) de pertencimento à classe positiva.\n",
    "\n",
    "Como podemos *definir* o que são parâmetros corretos? Como de costume em *machine learning* podemos definir os parâmetros corretos como sendo aqueles que minimizam um valor médio de *perda*, *custo* ou *erro* para um conjunto de amostras de treinamento.\n",
    "\n",
    "No caso da regressão logística, a *perda* para uma amostra $(x, y)$ é dada pela *entropia cruzada*:\n",
    "\n",
    "$$\n",
    "l(y, \\hat{y}) = -y \\log(\\hat{y}) - (1 - y) \\log(1 - \\hat{y})\n",
    "$$\n",
    "\n",
    "A perda média sobre um conjunto de $m$ amostras de dimensão (features) $n$, representado como uma matriz $X_{m \\times n}$ e um vetor $y_{m \\times 1}$, é dada por:\n",
    "\n",
    "$$\n",
    "L(y, \\hat{y}) = \\frac{1}{m} \\sum_{i = 1}^{m} l(y_i, \\hat{y}_i)\n",
    "$$\n",
    "\n",
    "Pela magia do `numpy`, a implementação abaixo funciona para qualquer número de amostras:"
   ]
  },
  {
   "cell_type": "code",
   "execution_count": 14,
   "metadata": {},
   "outputs": [],
   "source": [
    "def loss(y, y_pred):\n",
    "    m = y.shape[0]\n",
    "    cross_entropy = (1.0 / m) * np.sum(\n",
    "        -y * np.log(y_pred) - (1 - y) * np.log(1 - y_pred)\n",
    "    )\n",
    "    return cross_entropy"
   ]
  },
  {
   "cell_type": "markdown",
   "metadata": {},
   "source": [
    "Temos um modelo e uma definição de perda, que deve ser minimizada. Falta definir o algoritmo de otimização. Como de costume, vamos usar o *gradient descent*. Devemos lembrar que, ao fixar as amostras de treinamento, nossa função de perda passa a depender somente dos pesos e da constante:\n",
    "\n",
    "$$\n",
    "L(y, \\hat{y}(w, b, X)) = L(w, b) \\, \\text{para $X$ e $y$ fixos}\n",
    "$$\n",
    "\n",
    "O algoritmo *gradient descent* vai precisar dos gradientes da função de perda média em relação aos parâmetros $w$ e $b$:\n",
    "\n",
    "$$\n",
    "\\nabla_w L(w, b) = \\frac{\\partial L}{\\partial w} =  \\frac{1}{m} X^T (\\hat{y} - y)\n",
    "$$\n",
    "\n",
    "$$\n",
    "\\nabla_b L(w, b) = \\frac{dL}{db} =  \\frac{1}{m} \\sum_{i = 1}^{m} (\\hat{y}_i - y_i)\n",
    "$$\n",
    "\n",
    "(acredite)\n",
    "\n",
    "Abaixo temos a implementação desta função."
   ]
  },
  {
   "cell_type": "code",
   "execution_count": 15,
   "metadata": {},
   "outputs": [],
   "source": [
    "def grad(X, y, y_pred):\n",
    "    m = y.shape[0]\n",
    "    grad_w = (1.0 / m) * X.transpose() @ (y_pred - y)\n",
    "    grad_b = (1.0 / m) * np.sum(y_pred - y)\n",
    "    return grad_w, grad_b"
   ]
  },
  {
   "cell_type": "markdown",
   "metadata": {},
   "source": [
    "Vamos criar um conjunto de exemplos de treinamento bem simples:"
   ]
  },
  {
   "cell_type": "code",
   "execution_count": 16,
   "metadata": {},
   "outputs": [],
   "source": [
    "X = np.array(\n",
    "    [\n",
    "        [0.0, 0.0],\n",
    "        [0.0, 1.0],\n",
    "        [1.0, 0.0],\n",
    "        [1.0, 1.0],\n",
    "    ]\n",
    ")\n",
    "y = np.array(\n",
    "    [\n",
    "        [0.0],\n",
    "        [0.0],\n",
    "        [0.0],\n",
    "        [1.0],\n",
    "    ]\n",
    ")"
   ]
  },
  {
   "cell_type": "markdown",
   "metadata": {},
   "source": [
    "Agora vamos inicializar os *parâmetros treináveis* (os pesos e a constante). Para nosso exemplo simples de regressão logística a inicialização dos parâmetros não é tão crítica, mas para uma rede neural complexa a inicialização é assunto muito delicado, e pesquisas continuam acontecendo nessa área!"
   ]
  },
  {
   "cell_type": "code",
   "execution_count": 17,
   "metadata": {},
   "outputs": [],
   "source": [
    "w = np.array(\n",
    "    [\n",
    "        [0.0],\n",
    "        [0.0],\n",
    "    ]\n",
    ")\n",
    "b = 0.0"
   ]
  },
  {
   "cell_type": "markdown",
   "metadata": {},
   "source": [
    "Agora vamos implementar o algoritmo de otimização. O correto é monitorar o erro e parar quando o erro não melhorar mais, mas por simplicidade vamos omitir esta parte do algoritmo:"
   ]
  },
  {
   "cell_type": "code",
   "execution_count": 18,
   "metadata": {},
   "outputs": [],
   "source": [
    "max_epochs = 1000\n",
    "tol = 1e-6\n",
    "alpha = 1.0\n",
    "\n",
    "perda = []  # Para poder plotar a perda depois.\n",
    "\n",
    "for _ in range(max_epochs):\n",
    "    y_pred = logistic(linear(w, b, X))\n",
    "    eps = loss(y, y_pred)\n",
    "    perda.append(eps)\n",
    "\n",
    "    grad_w, grad_b = grad(X, y, y_pred)\n",
    "    w -= alpha * grad_w\n",
    "    b -= alpha * grad_b"
   ]
  },
  {
   "cell_type": "code",
   "execution_count": 19,
   "metadata": {},
   "outputs": [
    {
     "data": {
      "text/plain": [
       "0.017431844934779856"
      ]
     },
     "execution_count": 19,
     "metadata": {},
     "output_type": "execute_result"
    }
   ],
   "source": [
    "eps"
   ]
  },
  {
   "cell_type": "code",
   "execution_count": 20,
   "metadata": {},
   "outputs": [
    {
     "data": {
      "text/plain": [
       "(array([[7.41431138],\n",
       "        [7.41431138]]),\n",
       " -11.294073552477853)"
      ]
     },
     "execution_count": 20,
     "metadata": {},
     "output_type": "execute_result"
    }
   ],
   "source": [
    "w, b,"
   ]
  },
  {
   "cell_type": "code",
   "execution_count": 21,
   "metadata": {},
   "outputs": [
    {
     "data": {
      "application/vnd.jupyter.widget-view+json": {
       "model_id": "f0f2b5455e1f420ba8ecff0f6df90994",
       "version_major": 2,
       "version_minor": 0
      },
      "text/plain": [
       "Canvas(toolbar=Toolbar(toolitems=[('Home', 'Reset original view', 'home', 'home'), ('Back', 'Back to previous …"
      ]
     },
     "metadata": {},
     "output_type": "display_data"
    }
   ],
   "source": [
    "plt.figure()\n",
    "plt.plot(perda)\n",
    "plt.xlabel(\"epochs\")\n",
    "plt.ylabel(\"perda\")\n",
    "plt.title(\"Curva de aprendizado\")\n",
    "plt.show()"
   ]
  },
  {
   "cell_type": "markdown",
   "metadata": {},
   "source": [
    "Vamos agora testar o modelo para as amostras de treinamento:"
   ]
  },
  {
   "cell_type": "code",
   "execution_count": 22,
   "metadata": {},
   "outputs": [
    {
     "data": {
      "text/plain": [
       "array([[1.24463146e-05],\n",
       "       [2.02377122e-02],\n",
       "       [2.02377122e-02],\n",
       "       [9.71654974e-01]])"
      ]
     },
     "execution_count": 22,
     "metadata": {},
     "output_type": "execute_result"
    }
   ],
   "source": [
    "logistic(linear(w, b, X))"
   ]
  },
  {
   "cell_type": "markdown",
   "metadata": {},
   "source": [
    "Parece que funcionou bem!\n",
    "\n",
    "Relembrando: para fazer a regressão logística acontecer precisamos dos seguintes ingredientes:\n",
    "\n",
    "- O modelo\n",
    "- A função de perda\n",
    "- O algoritmo de otimização\n",
    "    - Este inclui a definição de como inicializar os parâmetros do modelo!\n",
    "    \n",
    "Sempre que formos trabalhar com redes neurais teremos que especificar todos esses ingredientes."
   ]
  },
  {
   "cell_type": "markdown",
   "metadata": {},
   "source": [
    "## Autodiff"
   ]
  },
  {
   "cell_type": "markdown",
   "metadata": {},
   "source": [
    "Uma das coisas complicadas do código acima é ter que determinar manualmente (papel e caneta, ou processador simbólico) a derivada da perda média em relação aos parâmetros. É um processo maçante e sujeito a erros de atenção. Ou seja, é o caso perfeito para o uso de computadores!\n",
    "\n",
    "Em uma primeira abordagem podemos imaginar o calculo da derivada da perda média usando um processo numérico simples:\n",
    "\n",
    "$$\n",
    "\\frac{df}{dx} \\approx \\frac{\\Delta f}{\\Delta x}\n",
    "$$\n",
    "\n",
    "Por exemplo, suponha que desejamos calcular o gradiente da função $f(x) = x^2 y + y + 2$ (o exemplo do livro) no ponto $x = 3, y = 4$:"
   ]
  },
  {
   "cell_type": "code",
   "execution_count": 23,
   "metadata": {},
   "outputs": [
    {
     "name": "stdout",
     "output_type": "stream",
     "text": [
      "42\n",
      "24.003999999997916 9.99999999999801\n"
     ]
    }
   ],
   "source": [
    "def f(x, y):\n",
    "    return x ** 2 * y + y + 2\n",
    "\n",
    "\n",
    "def gradiente_numerico(f, x, y):  # Vale para qualquer função f.\n",
    "    h = 1e-3\n",
    "    fx = (f(x + h, y) - f(x, y)) / h\n",
    "    fy = (f(x, y + h) - f(x, y)) / h\n",
    "    return fx, fy\n",
    "\n",
    "\n",
    "x = 3\n",
    "y = 4\n",
    "\n",
    "print(f(x, y))\n",
    "\n",
    "grad_x, grad_y = gradiente_numerico(f, x, y)\n",
    "print(grad_x, grad_y)"
   ]
  },
  {
   "cell_type": "markdown",
   "metadata": {},
   "source": [
    "Parece bom, mas sofre de problemas de precisão numérica para funções mais complicadas. Podemos também respirar fundo e determinar o gradiente analiticamente (i.e. \"na mão\"):"
   ]
  },
  {
   "cell_type": "code",
   "execution_count": 24,
   "metadata": {},
   "outputs": [
    {
     "name": "stdout",
     "output_type": "stream",
     "text": [
      "24 10\n"
     ]
    }
   ],
   "source": [
    "def gradiente_analitico(x, y):  # Só vale para a função f(x,y) acima.\n",
    "    fx = 2 * x * y\n",
    "    fy = x ** 2 + 1\n",
    "    return fx, fy\n",
    "\n",
    "\n",
    "grad_x, grad_y = gradiente_analitico(x, y)\n",
    "\n",
    "print(grad_x, grad_y)"
   ]
  },
  {
   "cell_type": "markdown",
   "metadata": {},
   "source": [
    "Neste caso a precisão é máxima, mas temos que mudar todo o código toda vez que a função for modificada. Além disso, para funções muito complicadas essa abordagem leva muito tempo.\n",
    "\n",
    "A abordagem mais comum para o cálculo de derivadas em *deep learning* é a auto-diferenciação. Nesta abordagem, a computação é vista como um *grafo* direcionado pelo qual fluem valores. Por exemplo, a função $f(x) = x^2 y + y + 2$ pode ser representada pelo grafo abaixo:\n",
    "\n",
    "![](flow.png)\n",
    "\n",
    "A computação flui da entrada para a saída conforme ilustrado abaixo:\n",
    "\n",
    "![](flow2.png)\n",
    "\n",
    "Joia, mas e como calcular a derivada do resultado em relação às variáveis iniciais $x$ e $y$? Para tanto vamos lembrar da *regra da cadeia*: se $y = h(g(f(x)))$, então\n",
    "\n",
    "$$\n",
    "\\frac{dy}{dx} = \\frac{dy}{dh} \\cdot \\frac{dh}{dg} \\cdot \\frac{dg}{df} \\cdot \\frac{df}{dx} \n",
    "$$\n",
    "\n",
    "Note que cada função ($f(\\cdot)$, $g(\\cdot)$, etc.) necessita apenas de calculo de sua própria derivada. A derivada completa é obtida através da composição das várias derivadas existentes.\n",
    "\n",
    "Quando o processo de cálculo das derivadas começa da última função ($h(\\cdot)$) e vai sendo acumulado do fim para o começo temos o chamado *reverse-mode autodiff*. Começamos com o valor $1$ no final, pois é a derivada da saída contra ela mesma:\n",
    "\n",
    "![](reverse1.png )\n",
    "\n",
    "Agora propagamos de volta (em inglês: *back-propagate*!) esses gradientes da saída do bloco para a entrada do bloco:\n",
    "\n",
    "![](reverse2.png )\n",
    "\n",
    "Continuamos o processo:\n",
    "\n",
    "![](reverse3.png)\n",
    "\n",
    "Mais um pouco:\n",
    "\n",
    "![](reverse4.png)\n",
    "\n",
    "E para terminar:\n",
    "\n",
    "![](reverse5.png)\n",
    "\n",
    "Ufa! Esse processo parece complicado (e é!) e maçante (idem!), mas é *á prova de bala*: pode ser implementado em um computador! Tudo que temos que fazer é implementar os blocos, e neles implementar dois métodos: `evaluate()` calcula o valor do bloco baseado nas entradas, e `backpropagate()` calcula os gradientes *nas entradas* baseado no gradiente recebido *na saida*!\n",
    "\n",
    "**Atividade**: Construa o grafo computacional da função $f(x, y) = x sin(y) + 4 y$ e simule o calculo do gradiente $\\nabla f(4, 2)$."
   ]
  },
  {
   "cell_type": "code",
   "execution_count": null,
   "metadata": {},
   "outputs": [],
   "source": []
  },
  {
   "cell_type": "markdown",
   "metadata": {},
   "source": [
    "E para provar que isso funciona, vamos implementar um grafo computacional simples. Vamos começar pela classe que representa a constante:"
   ]
  },
  {
   "cell_type": "code",
   "execution_count": 25,
   "metadata": {},
   "outputs": [],
   "source": [
    "class Const:\n",
    "    def __init__(self, value):\n",
    "        self.value = value\n",
    "\n",
    "    def evaluate(self):\n",
    "        return self.value\n",
    "\n",
    "    def backpropagate(self, gradient):\n",
    "        pass  # Ignora a propagação de gradiente para uma simples constante, não faz sentido.\n",
    "\n",
    "    def __str__(self):\n",
    "        return str(self.value)"
   ]
  },
  {
   "cell_type": "code",
   "execution_count": 26,
   "metadata": {},
   "outputs": [
    {
     "name": "stdout",
     "output_type": "stream",
     "text": [
      "2.0\n"
     ]
    }
   ],
   "source": [
    "dois = Const(2.0)\n",
    "print(dois)"
   ]
  },
  {
   "cell_type": "markdown",
   "metadata": {},
   "source": [
    "Vamos agora implementar as variáveis. Variáveis e constantes são o ponto de partida do grafo computacional, e portanto são o ponto terminal do processo de *backpropagation* do gradiente. Em uma variável, todo gradiente recebido é acumulado."
   ]
  },
  {
   "cell_type": "code",
   "execution_count": 27,
   "metadata": {},
   "outputs": [],
   "source": [
    "class Var:\n",
    "    def __init__(self, name, init_value=0):\n",
    "        self.value = init_value\n",
    "        self.name = name\n",
    "\n",
    "    def evaluate(self):\n",
    "        self.gradient = (\n",
    "            0.0  # Um bom lugar para resetar o gradiente antes do backpropagate.\n",
    "        )\n",
    "        return self.value\n",
    "\n",
    "    def backpropagate(self, gradient):\n",
    "        self.gradient += gradient  # Acumula os gradientes recebidos.\n",
    "\n",
    "    def __str__(self):\n",
    "        return f\"({self.name}:{self.value})\""
   ]
  },
  {
   "cell_type": "code",
   "execution_count": 28,
   "metadata": {},
   "outputs": [
    {
     "name": "stdout",
     "output_type": "stream",
     "text": [
      "(x:3.0) (y:4.0)\n",
      "3.0 4.0\n"
     ]
    }
   ],
   "source": [
    "x = Var(\"x\", 3.0)\n",
    "y = Var(\"y\", 4.0)\n",
    "print(x, y)\n",
    "print(x.evaluate(), y.evaluate())"
   ]
  },
  {
   "cell_type": "markdown",
   "metadata": {},
   "source": [
    "As próximas operações recebem valores de entrada e produzem valores de saida. Vamos começar pela soma:"
   ]
  },
  {
   "cell_type": "code",
   "execution_count": 29,
   "metadata": {},
   "outputs": [],
   "source": [
    "class Add:\n",
    "    def __init__(self, a, b):\n",
    "        self.a = a  # Uma entrada.\n",
    "        self.b = b  # Outra entrada.\n",
    "\n",
    "    def evaluate(self):\n",
    "        self.value = self.a.evaluate() + self.b.evaluate()\n",
    "        return self.value\n",
    "\n",
    "    def backpropagate(self, gradient):\n",
    "        self.a.backpropagate(gradient)\n",
    "        self.b.backpropagate(gradient)\n",
    "\n",
    "    def __str__(self):\n",
    "        return f\"{self.a} + {self.b}\""
   ]
  },
  {
   "cell_type": "code",
   "execution_count": 30,
   "metadata": {},
   "outputs": [
    {
     "name": "stdout",
     "output_type": "stream",
     "text": [
      "(x:3.0) + 2.0\n",
      "5.0\n"
     ]
    }
   ],
   "source": [
    "soma_dois = Add(x, dois)\n",
    "print(soma_dois)\n",
    "print(soma_dois.evaluate())"
   ]
  },
  {
   "cell_type": "markdown",
   "metadata": {},
   "source": [
    "Com a multiplicação temos que tomar um cuidado: se $f(x,y) = x y$, então $\\frac{\\partial f}{\\partial x} = y$ e $\\frac{\\partial f}{\\partial y} = x$.\n",
    "\n",
    "Então na hora de *backpropagate* os gradientes, temos que propaga-los diferentemente para cada entrada:"
   ]
  },
  {
   "cell_type": "code",
   "execution_count": 31,
   "metadata": {},
   "outputs": [],
   "source": [
    "class Mul:\n",
    "    def __init__(self, a, b):\n",
    "        self.a = a  # Uma entrada.\n",
    "        self.b = b  # Outra entrada.\n",
    "\n",
    "    def evaluate(self):\n",
    "        self.value = self.a.evaluate() * self.b.evaluate()\n",
    "        return self.value\n",
    "\n",
    "    def backpropagate(self, gradient):\n",
    "        self.a.backpropagate(gradient * self.b.value)\n",
    "        self.b.backpropagate(gradient * self.a.value)\n",
    "\n",
    "    def __str__(self):\n",
    "        return f\"({self.a}) * ({self.b})\""
   ]
  },
  {
   "cell_type": "code",
   "execution_count": 32,
   "metadata": {},
   "outputs": [
    {
     "name": "stdout",
     "output_type": "stream",
     "text": [
      "((x:3.0)) * ((x:3.0))\n",
      "9.0\n"
     ]
    }
   ],
   "source": [
    "a = Mul(x, x)\n",
    "print(a)\n",
    "print(a.evaluate())"
   ]
  },
  {
   "cell_type": "markdown",
   "metadata": {},
   "source": [
    "Com isso temos todos os elementos para construir nosso grafo computacional para a função $f(x) = x^2 y + y + 2$:"
   ]
  },
  {
   "cell_type": "code",
   "execution_count": 33,
   "metadata": {},
   "outputs": [
    {
     "name": "stdout",
     "output_type": "stream",
     "text": [
      "(((x:3.0)) * ((x:3.0))) * ((y:4.0)) + (y:4.0) + 2.0\n",
      "42.0\n"
     ]
    }
   ],
   "source": [
    "x = Var(\"x\", 3.0)\n",
    "y = Var(\"y\", 4.0)\n",
    "\n",
    "a = Mul(x, x)\n",
    "b = Mul(a, y)\n",
    "c = Add(b, y)\n",
    "z = Add(c, Const(2.0))\n",
    "\n",
    "print(z)\n",
    "print(z.evaluate())"
   ]
  },
  {
   "cell_type": "markdown",
   "metadata": {},
   "source": [
    "Funciona! Mas e os gradientes? Primeiro vamos retro-propagar (*backpropagate*?) os gradientes, começando pelo $\\frac{dz}{dz} = 1$:"
   ]
  },
  {
   "cell_type": "code",
   "execution_count": 34,
   "metadata": {},
   "outputs": [],
   "source": [
    "z.backpropagate(1.0)"
   ]
  },
  {
   "cell_type": "markdown",
   "metadata": {},
   "source": [
    "E agora vamos consultar os valores dos gradientes:"
   ]
  },
  {
   "cell_type": "code",
   "execution_count": 35,
   "metadata": {},
   "outputs": [
    {
     "data": {
      "text/plain": [
       "24.0"
      ]
     },
     "execution_count": 35,
     "metadata": {},
     "output_type": "execute_result"
    }
   ],
   "source": [
    "x.gradient"
   ]
  },
  {
   "cell_type": "code",
   "execution_count": 36,
   "metadata": {},
   "outputs": [
    {
     "data": {
      "text/plain": [
       "10.0"
      ]
     },
     "execution_count": 36,
     "metadata": {},
     "output_type": "execute_result"
    }
   ],
   "source": [
    "y.gradient"
   ]
  },
  {
   "cell_type": "markdown",
   "metadata": {},
   "source": [
    "Funcionou perfeitamente!"
   ]
  },
  {
   "cell_type": "markdown",
   "metadata": {},
   "source": [
    "**Atividade**: Implemente um nó que calcula $sin(x)$. Implemente o grafo da função da atividade anterior: $f(x, y) = x sin(y) + 4 y$. Compare seus resultados."
   ]
  },
  {
   "cell_type": "code",
   "execution_count": 37,
   "metadata": {},
   "outputs": [],
   "source": [
    "class Sin:\n",
    "    def __init__(self, a):\n",
    "        self.a = a\n",
    "\n",
    "    def evaluate(self):\n",
    "        self.value = np.sin(self.a.evaluate())\n",
    "        return self.value\n",
    "\n",
    "    def backpropagate(self, gradient):\n",
    "        self.a.backpropagate(gradient * np.cos(self.a.value))\n",
    "\n",
    "    def __str__(self):\n",
    "        return f\"sin({self.a})\""
   ]
  },
  {
   "cell_type": "code",
   "execution_count": 38,
   "metadata": {},
   "outputs": [
    {
     "name": "stdout",
     "output_type": "stream",
     "text": [
      "(sin((y:2.0))) * ((x:4.0)) + (4.0) * ((y:2.0))\n"
     ]
    }
   ],
   "source": [
    "x = Var(\"x\", 4.0)\n",
    "y = Var(\"y\", 2.0)\n",
    "quatro = Const(4.0)\n",
    "\n",
    "a = Sin(y)\n",
    "b = Mul(a, x)\n",
    "c = Mul(quatro, y)\n",
    "z = Add(b, c)\n",
    "\n",
    "print(z)"
   ]
  },
  {
   "cell_type": "code",
   "execution_count": 39,
   "metadata": {},
   "outputs": [
    {
     "name": "stdout",
     "output_type": "stream",
     "text": [
      "0.9092974268256817\n",
      "2.3354126538114306\n"
     ]
    }
   ],
   "source": [
    "z.evaluate()\n",
    "z.backpropagate(1.0)\n",
    "\n",
    "print(x.gradient)\n",
    "print(y.gradient)"
   ]
  },
  {
   "cell_type": "markdown",
   "metadata": {},
   "source": [
    "## Implementando a regressão logística com autodiff"
   ]
  },
  {
   "cell_type": "markdown",
   "metadata": {},
   "source": [
    "Para mostrar que esse tal de autodiff funciona para aplicações reais, vamos implementar a regressão logística com o autodiff. Para isso precisamos de mais dois blocos:"
   ]
  },
  {
   "cell_type": "code",
   "execution_count": 40,
   "metadata": {},
   "outputs": [],
   "source": [
    "class Log:\n",
    "    def __init__(self, a):\n",
    "        self.a = a\n",
    "\n",
    "    def evaluate(self):\n",
    "        self.value = np.log(self.a.evaluate())\n",
    "        return self.value\n",
    "\n",
    "    def backpropagate(self, gradient):\n",
    "        self.a.backpropagate(gradient * 1.0 / self.a.value)\n",
    "\n",
    "    def __str__(self):\n",
    "        return f\"log({self.a})\"\n",
    "\n",
    "\n",
    "class Logistic:\n",
    "    def __init__(self, a):\n",
    "        self.a = a\n",
    "\n",
    "    def evaluate(self):\n",
    "        self.value = 1.0 / (1.0 + np.exp(-self.a.evaluate()))\n",
    "        return self.value\n",
    "\n",
    "    def backpropagate(self, gradient):\n",
    "        self.a.backpropagate(gradient * self.value * (1.0 - self.value))\n",
    "\n",
    "    def __str__(self):\n",
    "        return f\"s({self.a})\""
   ]
  },
  {
   "cell_type": "markdown",
   "metadata": {},
   "source": [
    "Agora vamos implementar a regressão logística. Vamos apenas rodar o passo de otimização por um número fixo de vezes para simplificar o código."
   ]
  },
  {
   "cell_type": "code",
   "execution_count": 41,
   "metadata": {},
   "outputs": [],
   "source": [
    "alpha = 1.0\n",
    "max_iter = 1000\n",
    "\n",
    "Xs = [\n",
    "    [0, 0],\n",
    "    [0, 1],\n",
    "    [1, 0],\n",
    "    [1, 1],\n",
    "]\n",
    "ys = [0, 0, 0, 1]\n",
    "m = len(Xs)\n",
    "\n",
    "# Constantes auxiliares.\n",
    "minus = Const(-1)\n",
    "one = Const(1)\n",
    "\n",
    "# Estas são as verdadeiras variáveis do problema: os pesos e a constante!\n",
    "w0 = Var(\"w0\", init_value=0.0)\n",
    "w1 = Var(\"w1\", init_value=0.0)\n",
    "b = Var(\"b\", init_value=0.0)\n",
    "\n",
    "for epoch in range(max_iter):\n",
    "    #\n",
    "    # PASSO 1: Calcula a função de perda sobre todas as amostras.\n",
    "    #\n",
    "    \n",
    "    loss = Const(0)  # Todos os valores tem que ser convertidos para objetos.\n",
    "    # Para cada amostra de treinamento.\n",
    "    for xval, yval in zip(Xs, ys):\n",
    "        # Cria objetos para as features e o target.\n",
    "        x0 = Const(xval[0])\n",
    "        x1 = Const(xval[1])\n",
    "        y = Const(yval)\n",
    "\n",
    "        # Cria o objeto da predição.\n",
    "        y_pred = Logistic(Add(b, Add(Mul(x0, w0), Mul(x1, w1))))\n",
    "\n",
    "        # Cria a parcela da função de perda correspondente a esta amostra de\n",
    "        # treinamento.\n",
    "        loss = Add(\n",
    "            loss,\n",
    "            Mul(\n",
    "                minus,\n",
    "                Add(\n",
    "                    Mul(  # y * log(yhat)\n",
    "                        y,\n",
    "                        Log(y_pred),\n",
    "                    ),\n",
    "                    Mul(    # (1 - y) * log(1 - yhat)\n",
    "                        Add(one, Mul(minus, y)),\n",
    "                        Log(Add(one, Mul(minus, y_pred))),\n",
    "                    ),\n",
    "                ),\n",
    "            ),\n",
    "        )\n",
    "    loss = Mul(Const(1/m), loss)  # Para tirar a média.\n",
    "    loss.evaluate()\n",
    "    \n",
    "    #\n",
    "    # PASSO 2: Calcula as derivadas da perda em relação às variáveis (i.e. \n",
    "    # os pesos e a constante).\n",
    "    #\n",
    "    loss.backpropagate(1.0)\n",
    "\n",
    "    # PASSO 3: Executa o passo de aprendizado do algoritmo.\n",
    "    w0.value -= alpha * w0.gradient\n",
    "    w1.value -= alpha * w1.gradient\n",
    "    b.value -= alpha * b.gradient"
   ]
  },
  {
   "cell_type": "code",
   "execution_count": 42,
   "metadata": {},
   "outputs": [
    {
     "name": "stdout",
     "output_type": "stream",
     "text": [
      "(w0:7.414311377625753) (w1:7.414311377625753) (b:-11.294073552477853)\n"
     ]
    }
   ],
   "source": [
    "print(w0, w1, b)"
   ]
  },
  {
   "cell_type": "code",
   "execution_count": 43,
   "metadata": {},
   "outputs": [
    {
     "name": "stdout",
     "output_type": "stream",
     "text": [
      "0 0 0 1.244631455107799e-05\n",
      "0 1 0 0.020237712189812407\n",
      "1 0 0 0.020237712189812407\n",
      "1 1 1 0.9716549737629768\n"
     ]
    }
   ],
   "source": [
    "for xval, yval in zip(Xs, ys):\n",
    "    x0 = Const(xval[0])\n",
    "    x1 = Const(xval[1])\n",
    "    y = Const(yval)\n",
    "    y_pred = Logistic(Add(b, Add(Mul(x0, w0), Mul(x1, w1))))\n",
    "    y_pred.evaluate()\n",
    "    print(x0, x1, y, y_pred.value)"
   ]
  },
  {
   "cell_type": "markdown",
   "metadata": {},
   "source": [
    "## Tensorflow"
   ]
  },
  {
   "cell_type": "markdown",
   "metadata": {},
   "source": [
    "TensorFlow é uma biblioteca para computação distribuída, incluindo GPUs. A biblioteca TensorFlow permite o processamento de **tensores** (matrizes n-dimensionais: um valor solitário é um tensor de grau zero, uma lista de valores é um tensor de grau 1, uma matriz é um tensor de grau 2, etc) através de um *grafo de computação* sobre o qual os dados **fluem** (daí o nome TensorFlow).\n",
    "\n",
    "A idéia básica é a seguinte:\n",
    "\n",
    "- Os dados são tabelas n-dimensionais. O caso mais comum é matrizes.\n",
    "\n",
    "- A computação é definida como um grafo\n",
    "\n",
    "TensorFlow foi criado para trabalhar com dados em larga escala: podemos construir modelos com milhões de parâmetros e bilhões de pontos de dados! Aliás, é para isso que a biblioteca foi criada pelo time de machine learning do Google (o projeto Google Brain), e é usado em serviços de larga escala como o Google Search, Google Photos, etc.\n",
    "\n",
    "**Instalação**\n",
    "\n",
    "```bash\n",
    "pip install tensorflow\n",
    "```\n",
    "\n",
    "ou \n",
    "\n",
    "```bash\n",
    "pip install tensorflow-gpu\n",
    "```\n",
    "\n",
    "se você tem uma GPU NVidia compatível com a biblioteca CUDA. Neste caso você também precisa instalar os drivers CUDA. Siga as instruções completas de instalação do TensorFlow em https://www.tensorflow.org/install.\n",
    "\n",
    "Você pode também rodar os notebooks desta seção do curso no Google Colab: https://colab.research.google.com/\n",
    "\n",
    "**Documentação**\n",
    "\n",
    "https://www.tensorflow.org/programmers_guide/\n",
    "\n"
   ]
  },
  {
   "cell_type": "code",
   "execution_count": 44,
   "metadata": {},
   "outputs": [],
   "source": [
    "import tensorflow as tf"
   ]
  },
  {
   "cell_type": "markdown",
   "metadata": {},
   "source": [
    "Vamos implementar a regressáo logística mais uma vez, mas agora com TensorFlow:"
   ]
  },
  {
   "cell_type": "code",
   "execution_count": 45,
   "metadata": {},
   "outputs": [],
   "source": [
    "@tf.function\n",
    "def linear_tf(w, b, X):\n",
    "    return X @ w + b\n",
    "\n",
    "\n",
    "@tf.function\n",
    "def logistic_tf(x):\n",
    "    return 1.0 / (1.0 + tf.math.exp(-x))\n",
    "\n",
    "\n",
    "@tf.function\n",
    "def model(w, b, X):\n",
    "    return logistic_tf(linear_tf(w, b, X))\n",
    "\n",
    "\n",
    "@tf.function\n",
    "def cross_entropy_tf(y, y_pred):\n",
    "    m = y.shape[0]\n",
    "    cross = (1.0 / m) * tf.reduce_sum(\n",
    "        -y * tf.math.log(y_pred) - (1 - y) * tf.math.log(1 - y_pred)\n",
    "    )\n",
    "    return cross\n",
    "\n",
    "\n",
    "@tf.function\n",
    "def loss_tf(X, y, w, b):\n",
    "    y_pred = model(w, b, X)\n",
    "    return cross_entropy_tf(y, y_pred)\n",
    "\n",
    "\n",
    "X = tf.constant(\n",
    "    [\n",
    "        [0.0, 0.0],\n",
    "        [0.0, 1.0],\n",
    "        [1.0, 0.0],\n",
    "        [1.0, 1.0],\n",
    "    ]\n",
    ")\n",
    "y = tf.constant(\n",
    "    [\n",
    "        [0.0],\n",
    "        [0.0],\n",
    "        [0.0],\n",
    "        [1.0],\n",
    "    ]\n",
    ")\n",
    "\n",
    "w = tf.Variable([[0.0], [0.0]])\n",
    "b = tf.Variable(0.0)\n",
    "\n",
    "epochs = 1000\n",
    "alpha = 1.0\n",
    "\n",
    "for epoch in range(epochs):\n",
    "    # GradientTape é o mecanismo de contabilidade dos gradientes no TensorFlow.\n",
    "    with tf.GradientTape() as tape:\n",
    "        eps = loss_tf(X, y, w, b)\n",
    "    grad_w, grad_b = tape.gradient(eps, [w, b])\n",
    "    w.assign_sub(alpha * grad_w)\n",
    "    b.assign_sub(alpha * grad_b)"
   ]
  },
  {
   "cell_type": "code",
   "execution_count": 46,
   "metadata": {},
   "outputs": [
    {
     "data": {
      "text/plain": [
       "<tf.Variable 'Variable:0' shape=(2, 1) dtype=float32, numpy=\n",
       "array([[7.4143085],\n",
       "       [7.4143085]], dtype=float32)>"
      ]
     },
     "execution_count": 46,
     "metadata": {},
     "output_type": "execute_result"
    }
   ],
   "source": [
    "w"
   ]
  },
  {
   "cell_type": "code",
   "execution_count": 47,
   "metadata": {},
   "outputs": [
    {
     "data": {
      "text/plain": [
       "<tf.Variable 'Variable:0' shape=() dtype=float32, numpy=-11.294069>"
      ]
     },
     "execution_count": 47,
     "metadata": {},
     "output_type": "execute_result"
    }
   ],
   "source": [
    "b"
   ]
  },
  {
   "cell_type": "code",
   "execution_count": 48,
   "metadata": {},
   "outputs": [
    {
     "data": {
      "text/plain": [
       "<tf.Tensor: shape=(4, 1), dtype=float32, numpy=\n",
       "array([[1.2446368e-05],\n",
       "       [2.0237742e-02],\n",
       "       [2.0237742e-02],\n",
       "       [9.7165495e-01]], dtype=float32)>"
      ]
     },
     "execution_count": 48,
     "metadata": {},
     "output_type": "execute_result"
    }
   ],
   "source": [
    "model(w, b, X)"
   ]
  },
  {
   "cell_type": "markdown",
   "metadata": {},
   "source": [
    "Se você monitorar o uso da sua GPU verá que ela será posta em ação neste código:\n",
    "\n",
    "![](cuda.png)\n",
    "\n",
    "Observe que o TensorFlow alocou quase toda a memória da sua GPU (por precaução) e acionou os processadores numéricos da GPU. Este é um exemplo pequeno, e quase todo o trabalho da GPU foi criar os *kernels* de processamento, copiar dados da memória principal (*host memory*, a *RAM* da sua máquina) para a memória da GPU (*device memory*), e copiar de volta esses dados (*device-to-host* agora).\n",
    "\n",
    "Podemos trocar nosso *gradient descent* simples por um outro regime de *gradient descent* mais sofisticado como o Adam (Adaptive Moment Estimation) usando os otimizadores pré-implementados do TensorFlow:"
   ]
  },
  {
   "cell_type": "code",
   "execution_count": 49,
   "metadata": {},
   "outputs": [],
   "source": [
    "@tf.function\n",
    "def linear_tf(w, b, X):\n",
    "    return X @ w + b\n",
    "\n",
    "\n",
    "@tf.function\n",
    "def logistic_tf(x):\n",
    "    return 1.0 / (1.0 + tf.math.exp(-x))\n",
    "\n",
    "\n",
    "@tf.function\n",
    "def model(w, b, X):\n",
    "    return logistic_tf(linear_tf(w, b, X))\n",
    "\n",
    "\n",
    "@tf.function\n",
    "def cross_entropy_tf(y, y_pred):\n",
    "    m = y.shape[0]\n",
    "    cross = (1.0 / m) * tf.reduce_sum(\n",
    "        -y * tf.math.log(y_pred) - (1 - y) * tf.math.log(1 - y_pred)\n",
    "    )\n",
    "    return cross\n",
    "\n",
    "\n",
    "@tf.function\n",
    "def loss_tf(X, y, w, b):\n",
    "    y_pred = model(w, b, X)\n",
    "    return cross_entropy_tf(y, y_pred)\n",
    "\n",
    "\n",
    "X = tf.constant(\n",
    "    [\n",
    "        [0.0, 0.0],\n",
    "        [0.0, 1.0],\n",
    "        [1.0, 0.0],\n",
    "        [1.0, 1.0],\n",
    "    ]\n",
    ")\n",
    "y = tf.constant(\n",
    "    [\n",
    "        [0.0],\n",
    "        [0.0],\n",
    "        [0.0],\n",
    "        [1.0],\n",
    "    ]\n",
    ")\n",
    "\n",
    "w = tf.Variable([[0.0], [0.0]])\n",
    "b = tf.Variable(0.0)\n",
    "\n",
    "epochs = 1000\n",
    "alpha = 1.0\n",
    "\n",
    "# Para usar um otimizador, precisamos criá-lo.\n",
    "optimizer = tf.keras.optimizers.Adam(learning_rate=alpha)\n",
    "\n",
    "for _ in range(epochs):\n",
    "    # O otimizador tem dois argumentos: uma função sem parâmetros (estranho!)\n",
    "    # e uma lista de variáveis que serão otimizadas.\n",
    "    optimizer.minimize(lambda: loss_tf(X, y, w, b), var_list=[w, b])\n",
    "\n",
    "# Após rodar vários epochs (passagens completas pelos dados) temos nas\n",
    "# próprias variáveis w e b os seus valores ótimos."
   ]
  },
  {
   "cell_type": "code",
   "execution_count": 50,
   "metadata": {},
   "outputs": [
    {
     "data": {
      "text/plain": [
       "<tf.Variable 'Variable:0' shape=(2, 1) dtype=float32, numpy=\n",
       "array([[16.914984],\n",
       "       [16.914984]], dtype=float32)>"
      ]
     },
     "execution_count": 50,
     "metadata": {},
     "output_type": "execute_result"
    }
   ],
   "source": [
    "w"
   ]
  },
  {
   "cell_type": "code",
   "execution_count": 51,
   "metadata": {},
   "outputs": [
    {
     "data": {
      "text/plain": [
       "<tf.Variable 'Variable:0' shape=() dtype=float32, numpy=-25.480349>"
      ]
     },
     "execution_count": 51,
     "metadata": {},
     "output_type": "execute_result"
    }
   ],
   "source": [
    "b"
   ]
  },
  {
   "cell_type": "code",
   "execution_count": 52,
   "metadata": {},
   "outputs": [
    {
     "data": {
      "text/plain": [
       "<tf.Tensor: shape=(4, 1), dtype=float32, numpy=\n",
       "array([[8.5906334e-12],\n",
       "       [1.9055772e-04],\n",
       "       [1.9055772e-04],\n",
       "       [9.9976355e-01]], dtype=float32)>"
      ]
     },
     "execution_count": 52,
     "metadata": {},
     "output_type": "execute_result"
    }
   ],
   "source": [
    "model(w, b, X)"
   ]
  },
  {
   "cell_type": "markdown",
   "metadata": {},
   "source": [
    "## Uma rede neural multicamadas\n",
    "\n",
    "Uma camada de uma rede neural é simplesmente uma chamada da função `linear` seguida de uma chamada de uma *função de ativação* (a função logística é um exemplo de função de ativação). Uma rede neural multicamadas é uma sequência de camadas. Simples! \n",
    "\n",
    "As redes multicamadas são necessárias para resolver problemas mais complexos, que não podem ser resolvidos por uma regressão logística simples. Por exemplo, como uma regressão logística resolveria o seguinte problema?"
   ]
  },
  {
   "cell_type": "code",
   "execution_count": 53,
   "metadata": {},
   "outputs": [],
   "source": [
    "X = tf.constant(\n",
    "    [\n",
    "        [0.0, 0.0],\n",
    "        [0.0, 1.0],\n",
    "        [1.0, 0.0],\n",
    "        [1.0, 1.0],\n",
    "    ]\n",
    ")\n",
    "y = tf.constant(\n",
    "    [\n",
    "        [0.0],\n",
    "        [1.0],\n",
    "        [1.0],\n",
    "        [0.0],\n",
    "    ]\n",
    ")"
   ]
  },
  {
   "cell_type": "markdown",
   "metadata": {},
   "source": [
    "**Atividade**: Tente achar pesos e constante que resolvam o problema acima com regressão logística."
   ]
  },
  {
   "cell_type": "markdown",
   "metadata": {},
   "source": [
    "**R**:"
   ]
  },
  {
   "cell_type": "markdown",
   "metadata": {},
   "source": [
    "Vamos implementar uma rede neural multicamadas, com funções de ativação diferentes. Uma das funções de ativação mais populares recentemente é a \"Rectified Linear Unit\" - ReLU:"
   ]
  },
  {
   "cell_type": "code",
   "execution_count": 54,
   "metadata": {},
   "outputs": [],
   "source": [
    "@tf.function\n",
    "def relu_tf(x):\n",
    "    return tf.math.maximum(x, 0.0)"
   ]
  },
  {
   "cell_type": "markdown",
   "metadata": {},
   "source": [
    "Nossa função `linear` já trabalha com multiplas entradas e multiplas saidas: basta usar uma matriz `w` para os pesos que seja compatível com os tamanhos de entrada e saída. O mesmo vale para os pesos `b`. Vamos fazer uma camada de rede neural que tem duas entradas e duas saídas, com função de ativação relu, seguida de uma camada de duas entradas e uma saída, com função de ativação sigmoide. Vamos otimizar essa rede usando um otimizador Adam. A função de perda será, como de costume, a entropia cruzada."
   ]
  },
  {
   "cell_type": "code",
   "execution_count": 55,
   "metadata": {},
   "outputs": [
    {
     "name": "stdout",
     "output_type": "stream",
     "text": [
      "tf.Tensor(0.6665262, shape=(), dtype=float32)\n",
      "tf.Tensor(0.008741024, shape=(), dtype=float32)\n",
      "tf.Tensor(0.002896754, shape=(), dtype=float32)\n",
      "tf.Tensor(0.0015090134, shape=(), dtype=float32)\n",
      "tf.Tensor(0.0009494979, shape=(), dtype=float32)\n",
      "tf.Tensor(0.00065689895, shape=(), dtype=float32)\n",
      "tf.Tensor(0.0004852253, shape=(), dtype=float32)\n",
      "tf.Tensor(0.000374028, shape=(), dtype=float32)\n",
      "tf.Tensor(0.00029841304, shape=(), dtype=float32)\n",
      "tf.Tensor(0.00024365107, shape=(), dtype=float32)\n"
     ]
    }
   ],
   "source": [
    "@tf.function\n",
    "def linear_tf(w, b, X):\n",
    "    return X @ w + b\n",
    "\n",
    "\n",
    "@tf.function\n",
    "def logistic_tf(x):\n",
    "    return 1.0 / (1.0 + tf.math.exp(-x))\n",
    "\n",
    "\n",
    "@tf.function\n",
    "def model(w0, b0, w1, b1, X):\n",
    "    layer1 = relu_tf(linear_tf(w0, b0, X))\n",
    "    layer2 = logistic_tf(linear_tf(w1, b1, layer1))\n",
    "    return layer2\n",
    "\n",
    "\n",
    "@tf.function\n",
    "def cross_entropy_tf(y, y_pred):\n",
    "    m = y.shape[0]\n",
    "    cross = (1.0 / m) * tf.reduce_sum(\n",
    "        -y * tf.math.log(y_pred) - (1 - y) * tf.math.log(1 - y_pred)\n",
    "    )\n",
    "    return cross\n",
    "\n",
    "\n",
    "@tf.function\n",
    "def loss_tf(X, y, w0, b0, w1, b1):\n",
    "    y_pred = model(w0, b0, w1, b1, X)\n",
    "    return cross_entropy_tf(y, y_pred)\n",
    "\n",
    "\n",
    "w0 = tf.Variable(\n",
    "    [\n",
    "        [1.0, 1.0],\n",
    "        [-1.0, -1.0],\n",
    "    ]\n",
    ")\n",
    "\n",
    "b0 = tf.Variable(\n",
    "    [\n",
    "        [0.5, 0.5],\n",
    "    ]\n",
    ")\n",
    "\n",
    "w1 = tf.Variable(\n",
    "    [\n",
    "        [1.0],\n",
    "        [-1.0],\n",
    "    ]\n",
    ")\n",
    "\n",
    "b1 = tf.Variable(0.5)\n",
    "\n",
    "epochs = 1000\n",
    "alpha = 0.1\n",
    "\n",
    "# Para usar um otimizador, precisamos criá-lo.\n",
    "optimizer = tf.keras.optimizers.Adam(learning_rate=alpha)\n",
    "opt_loss = lambda: loss_tf(X, y, w0, b0, w1, b1)\n",
    "\n",
    "for epoch in range(epochs):\n",
    "    # O otimizador tem dois argumentos: uma função sem parâmetros (estranho!)\n",
    "    # e uma lista de variáveis que serão otimizadas.\n",
    "    optimizer.minimize(opt_loss, var_list=[w0, b0, w1, b1])\n",
    "    if epoch % 100 == 0:\n",
    "        print(opt_loss())"
   ]
  },
  {
   "cell_type": "code",
   "execution_count": 56,
   "metadata": {},
   "outputs": [
    {
     "data": {
      "text/plain": [
       "<tf.Tensor: shape=(4, 1), dtype=float32, numpy=\n",
       "array([[1.1681593e-04],\n",
       "       [9.9943012e-01],\n",
       "       [9.9994302e-01],\n",
       "       [6.7745830e-05]], dtype=float32)>"
      ]
     },
     "execution_count": 56,
     "metadata": {},
     "output_type": "execute_result"
    }
   ],
   "source": [
    "model(w0, b0, w1, b1, X)"
   ]
  },
  {
   "cell_type": "code",
   "execution_count": 57,
   "metadata": {},
   "outputs": [
    {
     "data": {
      "text/plain": [
       "<tf.Variable 'Variable:0' shape=(2, 2) dtype=float32, numpy=\n",
       "array([[ 5.02569  ,  3.1929967],\n",
       "       [-5.02579  , -3.0912116]], dtype=float32)>"
      ]
     },
     "execution_count": 57,
     "metadata": {},
     "output_type": "execute_result"
    }
   ],
   "source": [
    "w0"
   ]
  },
  {
   "cell_type": "code",
   "execution_count": 58,
   "metadata": {},
   "outputs": [
    {
     "data": {
      "text/plain": [
       "<tf.Variable 'Variable:0' shape=(1, 2) dtype=float32, numpy=array([[1.0799025e-04, 3.0909736e+00]], dtype=float32)>"
      ]
     },
     "execution_count": 58,
     "metadata": {},
     "output_type": "execute_result"
    }
   ],
   "source": [
    "b0"
   ]
  },
  {
   "cell_type": "code",
   "execution_count": 59,
   "metadata": {},
   "outputs": [
    {
     "data": {
      "text/plain": [
       "<tf.Variable 'Variable:0' shape=(2, 1) dtype=float32, numpy=\n",
       "array([[ 7.143029],\n",
       "       [-5.346258]], dtype=float32)>"
      ]
     },
     "execution_count": 59,
     "metadata": {},
     "output_type": "execute_result"
    }
   ],
   "source": [
    "w1"
   ]
  },
  {
   "cell_type": "code",
   "execution_count": 60,
   "metadata": {},
   "outputs": [
    {
     "data": {
      "text/plain": [
       "<tf.Variable 'Variable:0' shape=() dtype=float32, numpy=7.4695783>"
      ]
     },
     "execution_count": 60,
     "metadata": {},
     "output_type": "execute_result"
    }
   ],
   "source": [
    "b1"
   ]
  },
  {
   "cell_type": "markdown",
   "metadata": {},
   "source": [
    "Claro, eu inicializei os pesos na mão, para fazer convergir! Vamos ver nas outras aulas como criar redes neurais \"de verdade\" usando Keras, e vamos discutir aspectos como inicialização, convergência, regularização, etc. Até a próxima!"
   ]
  },
  {
   "cell_type": "code",
   "execution_count": null,
   "metadata": {},
   "outputs": [],
   "source": []
  }
 ],
 "metadata": {
  "kernelspec": {
   "display_name": "Python 3",
   "language": "python",
   "name": "python3"
  },
  "language_info": {
   "codemirror_mode": {
    "name": "ipython",
    "version": 3
   },
   "file_extension": ".py",
   "mimetype": "text/x-python",
   "name": "python",
   "nbconvert_exporter": "python",
   "pygments_lexer": "ipython3",
   "version": "3.8.4"
  }
 },
 "nbformat": 4,
 "nbformat_minor": 4
}
