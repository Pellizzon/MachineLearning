{
 "cells": [
  {
   "cell_type": "code",
   "execution_count": 1,
   "metadata": {},
   "outputs": [],
   "source": [
    "%matplotlib inline\n",
    "import numpy as np\n",
    "import pandas as pd\n",
    "import matplotlib.pyplot as plt\n",
    "\n",
    "# RANDOM_SEED = 42\n",
    "# np.random.seed(RANDOM_SEED)"
   ]
  },
  {
   "cell_type": "markdown",
   "metadata": {},
   "source": [
    "# Regressão Logística"
   ]
  },
  {
   "cell_type": "markdown",
   "metadata": {},
   "source": [
    "Vimos nas aulas anteriores modelos lineares de regressão, onde o valor do *target* era modelado como uma combinação linear de atributos (incluindo o termo constante) mais um termo de erro $\\varepsilon$ com média zero:\n",
    "\n",
    "$$\n",
    "y = \\theta_0 + \\theta_1 x_1 + \\theta_2 x_2 + \\cdots + \\theta_n x_n + \\varepsilon = \n",
    "\\begin{bmatrix}\n",
    "\\theta_0 & \\theta_1 & \\theta_2 & \\cdots & \\theta_n\n",
    "\\end{bmatrix}\n",
    "\\cdot\n",
    "\\begin{bmatrix}\n",
    "1 \\\\\n",
    "x_1 \\\\\n",
    "x_2 \\\\\n",
    "\\vdots \\\\\n",
    "x_n\n",
    "\\end{bmatrix} + \\varepsilon\n",
    "= \\theta^{T} \\mathbf{x} + \\varepsilon\n",
    "$$\n",
    "\n",
    "Nosso modelo ajustado era então $\\hat{y} = h(\\mathbf{x}, \\theta_{opt}) = \\theta_{opt}^{T} \\mathbf{x}$ onde $\\theta_{opt} = \\arg \\min_{\\hat{\\theta}} \\text{MSE}(\\hat{\\theta})$ para \n",
    "\n",
    "$$\n",
    "\\text{MSE}(\\hat{\\theta}) = \\frac{1}{m} \\sum_{i = 1}^{m} \\left( y_i - h(\\mathbf{x}_i, \\hat{\\theta}) \\right)^2 = \\frac{1}{m} \\sum_{i = 1}^{m} \\left( y_i - \\hat{\\theta}^{T} \\mathbf{x}_i \\right)^2\n",
    "$$\n",
    "\n",
    "As vezes, um modelo de regressão pode ser adaptado para um modelo de classificação e vice-versa. Este é o caso da ***regressão logística***, que apesar do nome *não é um método de regressão*, mas sim um método de classificação!\n"
   ]
  },
  {
   "cell_type": "markdown",
   "metadata": {},
   "source": [
    "## O problema: classificação binária\n",
    "\n",
    "Suponha que tenhamos os seguintes dados que relacionam o número de horas de estudo de um aluno com o resultado de uma prova (0: não passou; 1: passou):\n",
    "\n",
    "| horas| passou? |\n",
    "|---|---|\n",
    "| 3.75 | 0.0 |\n",
    "| 9.51 | 1.0 |\n",
    "| 7.32 | 0.0 |\n",
    "| 5.99 | 1.0 |\n",
    "| 1.56 | 0.0 |\n",
    "| 1.56 | 0.0 |\n",
    "| 0.58 | 0.0 |\n",
    "| 8.66 | 1.0 |\n",
    "| 6.01 | 1.0 |\n",
    "| 7.08 | 1.0 |\n",
    "| 0.21 | 0.0 |\n",
    "| 9.70 | 1.0 |\n",
    "| 8.32 | 0.0 |\n",
    "| 2.12 | 0.0 |\n",
    "| 1.82 | 0.0 |\n",
    "| 1.83 | 0.0 |\n",
    "| 3.04 | 0.0 |\n",
    "| 5.25 | 1.0 |\n",
    "| 4.32 | 0.0 |\n",
    "| 2.91 | 0.0 |\n",
    "| 6.12 | 1.0 |\n",
    "| 1.39 | 0.0 |\n",
    "| 2.92 | 1.0 |\n",
    "| 3.66 | 1.0 |\n",
    "| 4.56 | 0.0 |\n",
    "| 7.85 | 1.0 |\n",
    "| 2.00 | 0.0 |\n",
    "| 5.14 | 0.0 |\n",
    "| 5.92 | 0.0 |\n",
    "| 0.46 | 0.0 |\n",
    "\n",
    "Eis um gráfico para ajudar a visualizar esses dados:\n",
    "\n",
    "![passou ou não](alunos.png \"Resultado do teste versus número de horas de estudo\")\n",
    "\n",
    "Parece que se um aluno não estuda não passa, e se estuda bastante passa. E no meio do caminho? Como estimar a chance de que o aluno passe se estudar $7$ horas, por exemplo? Parece que precisamos de uma função interpoladora aqui! Existem várias opções de função interpoladora, vamos estudar uma delas: a **função logística**."
   ]
  },
  {
   "cell_type": "markdown",
   "metadata": {},
   "source": [
    "## Função logística\n",
    "\n",
    "Para adaptar a regressão linear para a regressão logística (que não é regressão, mas sim um método de classificação), precisamos da *função logística*:\n",
    "\n",
    "$$\n",
    "\\sigma(x) = \\frac{1}{1 + e^{-x}}\n",
    "$$\n",
    "\n",
    "Esta função se comporta da seguinte maneira:\n",
    "\n",
    "- Para valores muito negativos de $x$ temos $\\lim_{x \\rightarrow -\\infty} \\sigma(x) = 0$ pois o denominador da fração vai para infinito.\n",
    "\n",
    "- Para valores muito positivos de $x$ temos $\\lim_{x \\rightarrow \\infty} \\sigma(x) = 1$ pois $e^{-x}$ vai para zero.\n",
    "\n",
    "- Para $x = 0$ temos $\\sigma(0) = 0.5$\n",
    "\n",
    "Eis a cara dessa função:"
   ]
  },
  {
   "cell_type": "code",
   "execution_count": 2,
   "metadata": {},
   "outputs": [
    {
     "data": {
      "image/png": "[encoded data removed]",
      "text/plain": [
       "<Figure size 576x288 with 1 Axes>"
      ]
     },
     "metadata": {
      "needs_background": "light"
     },
     "output_type": "display_data"
    }
   ],
   "source": [
    "# Gera valores da função logística entre -10 e 10.\n",
    "x = np.linspace(-10, 10, 1000)\n",
    "y = 1.0/(1.0 + np.exp(-x))\n",
    "\n",
    "plt.figure(figsize=(8,4))\n",
    "\n",
    "# Plota a função logística.\n",
    "plt.plot(x, y)\n",
    "\n",
    "# Plota linhas auxiliares só para visualizar melhor.\n",
    "plt.plot([0, 0], [0, 1], 'k--')\n",
    "plt.plot([-10, 10], [0.5, 0.5], 'k--')\n",
    "\n",
    "# Resto do gráfico: titulo, labels, etc.\n",
    "plt.title('Função logística')\n",
    "plt.xlabel('x')\n",
    "plt.ylabel('$y = \\sigma(x)$')\n",
    "\n",
    "plt.show()"
   ]
  },
  {
   "cell_type": "markdown",
   "metadata": {},
   "source": [
    "A função logística tem um formato *sigmoide* (ou seja, em forma de \"s\").\n",
    "\n",
    "---\n",
    "\n",
    "**Atividade:** Como você faria (matematicamente) para:\n",
    "\n",
    "- Deslocar a função logística para a direita?\n",
    "\n",
    "- Aumentar a largura da \"zona de transição de zero para um\"?"
   ]
  },
  {
   "cell_type": "markdown",
   "metadata": {},
   "source": [
    "**R:**\n",
    "\n",
    "\n",
    "Para deslocar para a direita deve-se somar uma constante maior que zero ao exponente de $e$, sendo $c$ essa constante:\n",
    "\n",
    "$$ \\frac{1}{1 + e^{-x + c}} $$\n",
    "\n",
    "Para aumentar a largura da \"zona de transição\", basta multiplicar o expoente de $e$\n",
    "por um número entre 0 e 1 ($k$):\n",
    "\n",
    "$$ \\frac{1}{1 + e^{-x \\cdot k }} $$\n",
    "\n",
    "obs: para diminuir essa zona de transição, basta multiplicar por uma constante $j$, tal que $ j > 1$\n",
    "\n",
    "\n",
    "\n",
    "---"
   ]
  },
  {
   "cell_type": "markdown",
   "metadata": {},
   "source": [
    "Podemos tentar ajustar uma função logística aos nossos dados dos alunos - essa é a base da regressão logística (que não é regressão, mas sim um método de classificação).\n",
    "\n",
    "![passou ou não prob](alunos_prob.png \"Probabilidade de aprovação versus número de horas de estudo\")\n",
    "\n",
    "Se tivermos que apostar se um aluno passa ou não de acordo com o número de horas de estudo deste, o melhor é adotar uma *regra de decisão* do tipo:\n",
    "\n",
    "- $\\hat{p}$ (probabilidade estimada) maior ou igual que $50\\%$: acho que passa.\n",
    "\n",
    "- $\\hat{p}$ menor que $50\\%$: acho que não passa.\n",
    "\n",
    "Temos agora um classificador de aluno! Eis o gráfico deste classificador em cima dos dados:\n",
    "\n",
    "![passou ou não class](alunos_class.png \"Vai passar ou não? versus número de horas de estudo\")\n",
    "\n",
    "Essa é a idéia da regressão logística (que não é regressão, mas sim um método de classificação). Vamos estudar agora mais a fundo esse modelo, e como fazer para descobrir os parâmetros da função logística."
   ]
  },
  {
   "cell_type": "markdown",
   "metadata": {},
   "source": [
    "---\n",
    "\n",
    "**Atividade**\n",
    "\n",
    "- Qual o *precision*, *recall* e acurácia deste exemplo?\n",
    "\n",
    "- Se eu quisesse garantir uma chance de aprovação de mais de $80\\%$, quantas horas um aluno deveria estudar? "
   ]
  },
  {
   "cell_type": "markdown",
   "metadata": {},
   "source": [
    "**R:**\n",
    "```\n",
    "\n",
    "precision = 9/11 --> true positives / (TP + FP) que são todos os classificados como 1 \n",
    "\n",
    "recall = 9/13\n",
    "\n",
    "acurácia = 24/30\n",
    "\n",
    "Deveria estudar 6,5 horas, aproximadamente.\n",
    "\n",
    "```\n",
    "\n",
    "---"
   ]
  },
  {
   "cell_type": "markdown",
   "metadata": {},
   "source": [
    "## Modelo de regressão logística (que não é regressão, mas sim um método de classificação)\n",
    "\n",
    "Em um modelo de regressão linear estamos prevendo o valor da variável dependente. Em uma regressão logística (que não é regressão, mas sim um método de classificação), o que estamos tentando prever? Como se trata de um método de classificação, estamos tentando prever a classe $y$ de um objeto de atributos $\\mathbf{x}$. Esta classe deverá ser binária: zero ou um, negativo ou positivo. A regressão logística (que não é regressão, mas sim um método de classificação) atinge este objetivo da seguinte forma:\n",
    "\n",
    "- Para um conjunto de parâmetros $\\theta$, calcule a probabilidade (segundo o modelo) de que o objeto de atributos $\\mathbf{x}$ seja da classe positiva:\n",
    "\n",
    "$$\n",
    "\\hat{p} = \\sigma(\\theta^{T} \\mathbf{x})\n",
    "$$\n",
    "\n",
    "Esta será a nossa função de decisão!\n",
    "\n",
    "(Como encontrar $\\theta$? Esse é o objetivo do algoritmo de treinamento, que vamos ver mais abaixo.)\n",
    "\n",
    "- Determine a classe do objeto usando o threshold $0.5$:\n",
    "\n",
    "$$\n",
    "\\hat{y} = \\left\\{ \n",
    "\\begin{matrix}\n",
    "0, \\text{ se } \\hat{p} < 0.5 \\\\\n",
    "1, \\text{ se } \\hat{p} \\ge 0.5 \\\\\n",
    "\\end{matrix}\n",
    "\\right. \n",
    "$$\n",
    "\n",
    "Usando a nomenclatura da função indicadora: $\\hat{y} = I_{x \\ge 0.5}(\\sigma(\\theta^{T} \\mathbf{x}))$ .\n",
    "\n",
    "## Função de custo\n",
    "\n",
    "Para obter o valor ótimo dos parâmetros $\\theta$ de um modelo de regressão logística temos que definir uma função de custo. Existem inúmeras possibilidades: basta escolher uma estratégia que penalize os erros e/ou valorize os acertos.\n",
    "\n",
    "Uma opção bastante conveniente (veremos depois porque) de função de custo para um dado objeto $(\\mathbf{x}, y)$ e um vetor de parâmetros $\\theta$ é a seguinte:\n",
    "\n",
    "- A probabilidade predita é $\\hat{p} = h(\\mathbf{x}, \\theta) = \\sigma(\\theta^T \\mathbf{x})$\n",
    "\n",
    "- Se a classe real $y$ for 1, a função de custo será $-log(\\hat{p})$\n",
    "    \n",
    "- Se a classe real $y$ for 0, a função de custo será $-log(1 - \\hat{p})$\n"
   ]
  },
  {
   "cell_type": "markdown",
   "metadata": {},
   "source": [
    "--- \n",
    "\n",
    "**Atividade**\n",
    "\n",
    "Explique porque esta é uma função de custo que funciona."
   ]
  },
  {
   "cell_type": "markdown",
   "metadata": {},
   "source": [
    "**R:**\n",
    "\n",
    "Basta observar o formato da função $-log(x)$. Quando temos uma $\\hat{p}$ próximo de 1, temos o custo sendo próximo de 0;\n",
    "\n",
    "Já no caso em que temos $\\hat{p}$ próximo de 0, temos a mesma coisa, teremos um erro de $-log(1-0) = -log(0) = 0$\n",
    "\n",
    "\n",
    "---"
   ]
  },
  {
   "cell_type": "markdown",
   "metadata": {},
   "source": [
    "A função de custo completa, para todas as amostras, é o custo médio por amostra:\n",
    "\n",
    "$$\n",
    "J(\\theta) = - \\frac{1}{m} \\sum_{i = 1}^{m} \\left[y_i \\log(\\hat{p}) + (1 - y_i) (\\log(1 - \\hat{p})) \\right]\n",
    "$$\n",
    "\n",
    "Diferentemente do caso da regressão linear, aqui não temos uma solução fechada como a equação normal. Só nos resta o *gradient descent*. A boa notícia é que com essa função de custo as derivadas parciais são surpreendentemente simples:\n",
    "\n",
    "$$\n",
    "\\frac{\\partial}{\\partial \\theta_j} J(\\theta) = \n",
    "\\frac{1}{m} \n",
    "\\sum_{i = 1}^{m} \n",
    "\\left[ \\sigma\\left( \\theta^T \\mathbf{x}_i \\right) - y_i \\right]\n",
    "\\mathbf{x}_{i,j}\n",
    "$$\n"
   ]
  },
  {
   "cell_type": "markdown",
   "metadata": {},
   "source": [
    "## Iris: o verdadeiro \"Hello, world!\" dos modelos preditivos!"
   ]
  },
  {
   "cell_type": "code",
   "execution_count": 3,
   "metadata": {},
   "outputs": [],
   "source": [
    "from sklearn import datasets\n",
    "iris = datasets.load_iris()"
   ]
  },
  {
   "cell_type": "code",
   "execution_count": 4,
   "metadata": {},
   "outputs": [
    {
     "name": "stdout",
     "output_type": "stream",
     "text": [
      ".. _iris_dataset:\n",
      "\n",
      "Iris plants dataset\n",
      "--------------------\n",
      "\n",
      "**Data Set Characteristics:**\n",
      "\n",
      "    :Number of Instances: 150 (50 in each of three classes)\n",
      "    :Number of Attributes: 4 numeric, predictive attributes and the class\n",
      "    :Attribute Information:\n",
      "        - sepal length in cm\n",
      "        - sepal width in cm\n",
      "        - petal length in cm\n",
      "        - petal width in cm\n",
      "        - class:\n",
      "                - Iris-Setosa\n",
      "                - Iris-Versicolour\n",
      "                - Iris-Virginica\n",
      "                \n",
      "    :Summary Statistics:\n",
      "\n",
      "    ============== ==== ==== ======= ===== ====================\n",
      "                    Min  Max   Mean    SD   Class Correlation\n",
      "    ============== ==== ==== ======= ===== ====================\n",
      "    sepal length:   4.3  7.9   5.84   0.83    0.7826\n",
      "    sepal width:    2.0  4.4   3.05   0.43   -0.4194\n",
      "    petal length:   1.0  6.9   3.76   1.76    0.9490  (high!)\n",
      "    petal width:    0.1  2.5   1.20   0.76    0.9565  (high!)\n",
      "    ============== ==== ==== ======= ===== ====================\n",
      "\n",
      "    :Missing Attribute Values: None\n",
      "    :Class Distribution: 33.3% for each of 3 classes.\n",
      "    :Creator: R.A. Fisher\n",
      "    :Donor: Michael Marshall (MARSHALL%PLU@io.arc.nasa.gov)\n",
      "    :Date: July, 1988\n",
      "\n",
      "The famous Iris database, first used by Sir R.A. Fisher. The dataset is taken\n",
      "from Fisher's paper. Note that it's the same as in R, but not as in the UCI\n",
      "Machine Learning Repository, which has two wrong data points.\n",
      "\n",
      "This is perhaps the best known database to be found in the\n",
      "pattern recognition literature.  Fisher's paper is a classic in the field and\n",
      "is referenced frequently to this day.  (See Duda & Hart, for example.)  The\n",
      "data set contains 3 classes of 50 instances each, where each class refers to a\n",
      "type of iris plant.  One class is linearly separable from the other 2; the\n",
      "latter are NOT linearly separable from each other.\n",
      "\n",
      ".. topic:: References\n",
      "\n",
      "   - Fisher, R.A. \"The use of multiple measurements in taxonomic problems\"\n",
      "     Annual Eugenics, 7, Part II, 179-188 (1936); also in \"Contributions to\n",
      "     Mathematical Statistics\" (John Wiley, NY, 1950).\n",
      "   - Duda, R.O., & Hart, P.E. (1973) Pattern Classification and Scene Analysis.\n",
      "     (Q327.D83) John Wiley & Sons.  ISBN 0-471-22361-1.  See page 218.\n",
      "   - Dasarathy, B.V. (1980) \"Nosing Around the Neighborhood: A New System\n",
      "     Structure and Classification Rule for Recognition in Partially Exposed\n",
      "     Environments\".  IEEE Transactions on Pattern Analysis and Machine\n",
      "     Intelligence, Vol. PAMI-2, No. 1, 67-71.\n",
      "   - Gates, G.W. (1972) \"The Reduced Nearest Neighbor Rule\".  IEEE Transactions\n",
      "     on Information Theory, May 1972, 431-433.\n",
      "   - See also: 1988 MLC Proceedings, 54-64.  Cheeseman et al\"s AUTOCLASS II\n",
      "     conceptual clustering system finds 3 classes in the data.\n",
      "   - Many, many more ...\n"
     ]
    }
   ],
   "source": [
    "print(iris.DESCR)"
   ]
  },
  {
   "cell_type": "code",
   "execution_count": 5,
   "metadata": {},
   "outputs": [
    {
     "name": "stdout",
     "output_type": "stream",
     "text": [
      "['data', 'target', 'frame', 'target_names', 'DESCR', 'feature_names', 'filename']\n"
     ]
    }
   ],
   "source": [
    "print(list(iris.keys()))"
   ]
  },
  {
   "cell_type": "code",
   "execution_count": 6,
   "metadata": {},
   "outputs": [
    {
     "name": "stdout",
     "output_type": "stream",
     "text": [
      "['setosa' 'versicolor' 'virginica']\n"
     ]
    }
   ],
   "source": [
    "print(iris.target_names)"
   ]
  },
  {
   "cell_type": "code",
   "execution_count": 7,
   "metadata": {},
   "outputs": [
    {
     "name": "stdout",
     "output_type": "stream",
     "text": [
      "['sepal length (cm)', 'sepal width (cm)', 'petal length (cm)', 'petal width (cm)']\n"
     ]
    }
   ],
   "source": [
    "column_names = iris.feature_names\n",
    "print(iris.feature_names)"
   ]
  },
  {
   "cell_type": "markdown",
   "metadata": {},
   "source": [
    "**Atividade**\n",
    "\n",
    "Construa um classificador por regressão logística para separar as flores do tipo 'Iris Virginica' das demais usando as características 'petal length (cm)' e 'petal width (cm)'. Como resultado final, apresente:\n",
    "\n",
    "- Acurácia do classificador no conjunto de testes.\n",
    "- Curva ROC e respectiva área.\n",
    "- Um diagrama ilustrando a probabilidade da classe positiva. \n",
    "    - Dica: veja https://matplotlib.org/gallery/images_contours_and_fields/contour_demo.html\n",
    "\n",
    "Use seu arsenal de ferramentas de validação para encontrar o melhor modelo."
   ]
  },
  {
   "cell_type": "code",
   "execution_count": 8,
   "metadata": {},
   "outputs": [],
   "source": [
    "import pandas as pd\n",
    "df = pd.DataFrame(iris.data, columns=column_names)"
   ]
  },
  {
   "cell_type": "code",
   "execution_count": 9,
   "metadata": {},
   "outputs": [],
   "source": [
    "df[\"target\"] = iris.target"
   ]
  },
  {
   "cell_type": "code",
   "execution_count": 10,
   "metadata": {},
   "outputs": [],
   "source": [
    "df[\"target\"] = (df[\"target\"] == 2).astype(int)"
   ]
  },
  {
   "cell_type": "code",
   "execution_count": 11,
   "metadata": {},
   "outputs": [
    {
     "data": {
      "text/html": [
       "<div>\n",
       "<style scoped>\n",
       "    .dataframe tbody tr th:only-of-type {\n",
       "        vertical-align: middle;\n",
       "    }\n",
       "\n",
       "    .dataframe tbody tr th {\n",
       "        vertical-align: top;\n",
       "    }\n",
       "\n",
       "    .dataframe thead th {\n",
       "        text-align: right;\n",
       "    }\n",
       "</style>\n",
       "<table border=\"1\" class=\"dataframe\">\n",
       "  <thead>\n",
       "    <tr style=\"text-align: right;\">\n",
       "      <th></th>\n",
       "      <th>petal length (cm)</th>\n",
       "      <th>petal width (cm)</th>\n",
       "      <th>target</th>\n",
       "    </tr>\n",
       "  </thead>\n",
       "  <tbody>\n",
       "    <tr>\n",
       "      <th>0</th>\n",
       "      <td>1.4</td>\n",
       "      <td>0.2</td>\n",
       "      <td>0</td>\n",
       "    </tr>\n",
       "    <tr>\n",
       "      <th>1</th>\n",
       "      <td>1.4</td>\n",
       "      <td>0.2</td>\n",
       "      <td>0</td>\n",
       "    </tr>\n",
       "    <tr>\n",
       "      <th>2</th>\n",
       "      <td>1.3</td>\n",
       "      <td>0.2</td>\n",
       "      <td>0</td>\n",
       "    </tr>\n",
       "  </tbody>\n",
       "</table>\n",
       "</div>"
      ],
      "text/plain": [
       "   petal length (cm)  petal width (cm)  target\n",
       "0                1.4               0.2       0\n",
       "1                1.4               0.2       0\n",
       "2                1.3               0.2       0"
      ]
     },
     "execution_count": 11,
     "metadata": {},
     "output_type": "execute_result"
    }
   ],
   "source": [
    "df = df.drop(columns=[\"sepal length (cm)\", \"sepal width (cm)\"])\n",
    "df.head(3)"
   ]
  },
  {
   "cell_type": "code",
   "execution_count": 12,
   "metadata": {},
   "outputs": [
    {
     "data": {
      "text/html": [
       "<div>\n",
       "<style scoped>\n",
       "    .dataframe tbody tr th:only-of-type {\n",
       "        vertical-align: middle;\n",
       "    }\n",
       "\n",
       "    .dataframe tbody tr th {\n",
       "        vertical-align: top;\n",
       "    }\n",
       "\n",
       "    .dataframe thead th {\n",
       "        text-align: right;\n",
       "    }\n",
       "</style>\n",
       "<table border=\"1\" class=\"dataframe\">\n",
       "  <thead>\n",
       "    <tr style=\"text-align: right;\">\n",
       "      <th></th>\n",
       "      <th>petal length (cm)</th>\n",
       "      <th>petal width (cm)</th>\n",
       "      <th>target</th>\n",
       "    </tr>\n",
       "  </thead>\n",
       "  <tbody>\n",
       "    <tr>\n",
       "      <th>147</th>\n",
       "      <td>5.2</td>\n",
       "      <td>2.0</td>\n",
       "      <td>1</td>\n",
       "    </tr>\n",
       "    <tr>\n",
       "      <th>148</th>\n",
       "      <td>5.4</td>\n",
       "      <td>2.3</td>\n",
       "      <td>1</td>\n",
       "    </tr>\n",
       "    <tr>\n",
       "      <th>149</th>\n",
       "      <td>5.1</td>\n",
       "      <td>1.8</td>\n",
       "      <td>1</td>\n",
       "    </tr>\n",
       "  </tbody>\n",
       "</table>\n",
       "</div>"
      ],
      "text/plain": [
       "     petal length (cm)  petal width (cm)  target\n",
       "147                5.2               2.0       1\n",
       "148                5.4               2.3       1\n",
       "149                5.1               1.8       1"
      ]
     },
     "execution_count": 12,
     "metadata": {},
     "output_type": "execute_result"
    }
   ],
   "source": [
    "df.tail(3)"
   ]
  },
  {
   "cell_type": "code",
   "execution_count": 13,
   "metadata": {},
   "outputs": [],
   "source": [
    "from sklearn.model_selection import train_test_split\n",
    "\n",
    "train_set, test_set = train_test_split(df, test_size=0.2, random_state=42)"
   ]
  },
  {
   "cell_type": "code",
   "execution_count": 14,
   "metadata": {},
   "outputs": [],
   "source": [
    "x_train = train_set.drop(columns=[\"target\"])\n",
    "y_train = train_set[\"target\"]\n",
    "\n",
    "x_test = test_set.drop(columns=[\"target\"])\n",
    "y_test = test_set[\"target\"]"
   ]
  },
  {
   "cell_type": "code",
   "execution_count": 15,
   "metadata": {},
   "outputs": [
    {
     "data": {
      "text/plain": [
       "LogisticRegression()"
      ]
     },
     "execution_count": 15,
     "metadata": {},
     "output_type": "execute_result"
    }
   ],
   "source": [
    "from sklearn.linear_model import LogisticRegression\n",
    "log_reg = LogisticRegression()\n",
    "log_reg.fit(x_train, y_train)"
   ]
  },
  {
   "cell_type": "code",
   "execution_count": 16,
   "metadata": {},
   "outputs": [
    {
     "name": "stdout",
     "output_type": "stream",
     "text": [
      "[[78  3]\n",
      " [ 2 37]]\n",
      "Elapsed time: 0.015625\n",
      "[0.975 0.925 0.975]\n"
     ]
    }
   ],
   "source": [
    "from sklearn.metrics import confusion_matrix\n",
    "from sklearn.model_selection import cross_val_predict\n",
    "from sklearn.metrics import mean_squared_error\n",
    "\n",
    "y_train_pred = cross_val_predict(log_reg, x_train, y_train, cv=3, n_jobs=-1)\n",
    "mat = confusion_matrix(y_train, y_train_pred)\n",
    "print(mat)\n",
    "\n",
    "import time\n",
    "from sklearn.model_selection import cross_val_score\n",
    "\n",
    "t1 = time.process_time()\n",
    "res = cross_val_score(log_reg, x_train, y_train, cv=3, scoring=\"accuracy\", n_jobs=-1)\n",
    "t2 = time.process_time()\n",
    "\n",
    "print('Elapsed time: {}'.format(t2 - t1))\n",
    "print(res)"
   ]
  },
  {
   "cell_type": "code",
   "execution_count": 17,
   "metadata": {},
   "outputs": [
    {
     "name": "stdout",
     "output_type": "stream",
     "text": [
      "Precision: 0.925\n",
      "Recall: 0.9487179487179487\n",
      "Accuracy: 0.9583333333333334\n"
     ]
    }
   ],
   "source": [
    "from sklearn.metrics import precision_score, recall_score, accuracy_score\n",
    "\n",
    "print(f'Precision: {precision_score(y_train, y_train_pred)}')\n",
    "print(f'Recall: {recall_score(y_train, y_train_pred)}')\n",
    "print(f'Accuracy: {accuracy_score(y_train, y_train_pred)}')"
   ]
  },
  {
   "cell_type": "code",
   "execution_count": 18,
   "metadata": {},
   "outputs": [
    {
     "data": {
      "image/png": "[encoded data removed]",
      "text/plain": [
       "<Figure size 576x432 with 1 Axes>"
      ]
     },
     "metadata": {
      "needs_background": "light"
     },
     "output_type": "display_data"
    },
    {
     "name": "stdout",
     "output_type": "stream",
     "text": [
      "ROC AUC: 0.9558404558404558\n"
     ]
    }
   ],
   "source": [
    "from sklearn.metrics import roc_curve, roc_auc_score\n",
    "\n",
    "y_probas = cross_val_predict(log_reg, x_train, y_train, cv=3, n_jobs=-1)\n",
    "\n",
    "y_scores = y_probas  \n",
    "\n",
    "fpr_forest, tpr_forest, thresholds_forest = roc_curve(y_train, y_scores)\n",
    "\n",
    "plt.figure(figsize=(8, 6))\n",
    "plt.plot(fpr_forest, tpr_forest, linewidth=2, label=\"Logstic regression\")\n",
    "plt.plot([0, 1], [0, 1], 'k--')\n",
    "plt.axis([0, 1, 0, 1])\n",
    "plt.xlabel('False Positive Rate', fontsize=16)\n",
    "plt.ylabel('True Positive Rate', fontsize=16)\n",
    "plt.legend(loc=\"lower right\", fontsize=16)\n",
    "plt.show()\n",
    "\n",
    "print(f'ROC AUC: {roc_auc_score(y_train, y_train_pred)}')"
   ]
  },
  {
   "cell_type": "code",
   "execution_count": 19,
   "metadata": {},
   "outputs": [
    {
     "name": "stdout",
     "output_type": "stream",
     "text": [
      "1.0\n"
     ]
    }
   ],
   "source": [
    "y_test_pred = log_reg.predict(x_test)\n",
    "print(accuracy_score(y_test, y_test_pred))"
   ]
  },
  {
   "cell_type": "code",
   "execution_count": 20,
   "metadata": {},
   "outputs": [
    {
     "name": "stdout",
     "output_type": "stream",
     "text": [
      "{'clf__C': 0.00390625, 'clf__penalty': 'l2', 'poly__degree': 2}\n"
     ]
    }
   ],
   "source": [
    "from sklearn.pipeline import Pipeline\n",
    "from sklearn.model_selection import GridSearchCV\n",
    "from sklearn.preprocessing import StandardScaler, PolynomialFeatures\n",
    "\n",
    "pipe = Pipeline([\n",
    "    ('scaler', StandardScaler()),\n",
    "    ('poly', PolynomialFeatures(degree=1)),\n",
    "    ('clf', LogisticRegression(penalty='l1', solver='liblinear', random_state=42))\n",
    "])\n",
    "\n",
    "params = {\n",
    "    'poly__degree':[1, 2, 3],\n",
    "    'clf__C': [2**k for k in range(-10, 11)],\n",
    "    'clf__penalty': ['l1', 'l2']\n",
    "}\n",
    "\n",
    "clf = GridSearchCV(pipe, params, cv=5, n_jobs=-1)\n",
    "clf.fit(x_train, y_train)\n",
    "print(clf.best_params_)"
   ]
  },
  {
   "cell_type": "code",
   "execution_count": 21,
   "metadata": {},
   "outputs": [
    {
     "data": {
      "text/plain": [
       "0.9666666666666667"
      ]
     },
     "execution_count": 21,
     "metadata": {},
     "output_type": "execute_result"
    }
   ],
   "source": [
    "y_pred = clf.predict(x_test)\n",
    "accuracy_score(y_test, y_pred)"
   ]
  },
  {
   "cell_type": "code",
   "execution_count": 22,
   "metadata": {},
   "outputs": [],
   "source": [
    "y_scores = clf.predict_proba(x_test)\n",
    "y_scores = y_scores[:,1]"
   ]
  },
  {
   "cell_type": "code",
   "execution_count": 23,
   "metadata": {},
   "outputs": [
    {
     "data": {
      "image/png": "[encoded data removed]",
      "text/plain": [
       "<Figure size 576x432 with 1 Axes>"
      ]
     },
     "metadata": {
      "needs_background": "light"
     },
     "output_type": "display_data"
    }
   ],
   "source": [
    "fpr_test, tpr_test, thresholds = roc_curve(y_test, y_scores)\n",
    "\n",
    "plt.figure(figsize=(8,6))\n",
    "plt.plot(fpr_test, tpr_test, linewidth=10)\n",
    "plt.plot([0,1], [0,1], 'k--')\n",
    "plt.axis([0,1,0,1])\n",
    "plt.xlabel(\"False Positive Rate\")\n",
    "plt.ylabel(\"True Positive Rate\")\n",
    "plt.show()"
   ]
  },
  {
   "cell_type": "markdown",
   "metadata": {},
   "source": [
    "## Classificação multiclasse"
   ]
  },
  {
   "cell_type": "markdown",
   "metadata": {},
   "source": [
    "Regressão linear é bacana, mas só serve para classificação binária. Se nosso problema for de classificação multiclasse, como proceder? Uma alternativa é recorrer às técnicas de \"One-Versus-One\" e \"One-Versus-All\" vista nas aulas passadas.\n",
    "\n",
    "Mas temos uma alternativa melhor aqui: podemos generalizar a técnica de regressão linear para a situação de várias classes: esta é a regressão linear multiclasse, ou regressão *softmax*."
   ]
  },
  {
   "cell_type": "markdown",
   "metadata": {},
   "source": [
    "### Função softmax\n",
    "\n",
    "A regressão logística (que não é regressão mas sim classificação) consiste em ajustar aos dados (via minimização da função de custo) uma curva logística. Isso pode ser quebrado em duas partes:\n",
    "\n",
    "- Calcular o *score* do objeto, que é $\\theta^T \\mathbf{x}$\n",
    "\n",
    "- Passar o *score* pela função logística: $\\hat{p} = \\sigma(score)$\n",
    "\n",
    "E se tivéssemos várias classes? Uma possibilidade é a seguinte:\n",
    "\n",
    "- Para cada classe, calcule um *score* desta classe para o objeto: $s_k = \\theta_k^T \\mathbf{x}$. Note que agora temos um vetor de parâmetros $\\theta_k$ por classe $k$.\n",
    "\n",
    "- Normalize esses *scores* com o auxílio da *função softmax*:\n",
    "\n",
    "$$\n",
    "\\hat{p}_k = \\sigma(s(\\mathbf{x}))_k = \\frac{\\exp\\left( s_k(\\mathbf{x}) \\right)}{\\sum_{j=1}^{K} \\exp\\left( s_j(\\mathbf{x}) \\right)}\n",
    "$$\n",
    "\n",
    "A classe atribuida ao objeto será então $\\arg \\max_k \\sigma(s(\\mathbf{x}))_k$"
   ]
  },
  {
   "cell_type": "markdown",
   "metadata": {},
   "source": [
    "## Entropia cruzada"
   ]
  },
  {
   "cell_type": "markdown",
   "metadata": {},
   "source": [
    "A função de custo da regressão *softmax* é muito parecida com a função de custo da regressão logística binária:\n",
    "\n",
    "$$\n",
    "J(\\theta) = - \\frac{1}{m} \\sum_{i = 1}^{m} \\sum_{k = 1}^{K} [y_i = k] \\log(\\hat{p}_k)\n",
    "$$\n",
    "\n",
    "onde a notação $[y_i = k]$ vale $1$ se a condição é verdadeira, e $0$ caso contrário. Esta notação chama-se \"colchetes de Iverson\" (*\"Iverson's brackets\"*).\n",
    "\n",
    "Esta expressão é a *entropia cruzada* entre $\\mathbf{y}$ e $\\mathbf{\\hat{p}}$. Esta é uma medida que vem da teoria da informação."
   ]
  },
  {
   "cell_type": "markdown",
   "metadata": {},
   "source": [
    "**Atividade:** Repita a atividade de classificação do dataset 'Iris' usando apenas as características 'petal length (cm)' e 'petal width (cm)'. Como resultado final, apresente:\n",
    "\n",
    "- Acurácia do classificador no conjunto de testes.\n",
    "- Diagramas ilustrando a probabilidade para cada classe\n",
    "    - Dica: veja https://matplotlib.org/gallery/images_contours_and_fields/contour_demo.html\n",
    "\n",
    "Use seu arsenal de ferramentas de validação para encontrar o melhor modelo."
   ]
  },
  {
   "cell_type": "code",
   "execution_count": 24,
   "metadata": {},
   "outputs": [
    {
     "data": {
      "text/html": [
       "<div>\n",
       "<style scoped>\n",
       "    .dataframe tbody tr th:only-of-type {\n",
       "        vertical-align: middle;\n",
       "    }\n",
       "\n",
       "    .dataframe tbody tr th {\n",
       "        vertical-align: top;\n",
       "    }\n",
       "\n",
       "    .dataframe thead th {\n",
       "        text-align: right;\n",
       "    }\n",
       "</style>\n",
       "<table border=\"1\" class=\"dataframe\">\n",
       "  <thead>\n",
       "    <tr style=\"text-align: right;\">\n",
       "      <th></th>\n",
       "      <th>petal length (cm)</th>\n",
       "      <th>petal width (cm)</th>\n",
       "      <th>target</th>\n",
       "    </tr>\n",
       "  </thead>\n",
       "  <tbody>\n",
       "    <tr>\n",
       "      <th>0</th>\n",
       "      <td>1.4</td>\n",
       "      <td>0.2</td>\n",
       "      <td>0</td>\n",
       "    </tr>\n",
       "    <tr>\n",
       "      <th>1</th>\n",
       "      <td>1.4</td>\n",
       "      <td>0.2</td>\n",
       "      <td>0</td>\n",
       "    </tr>\n",
       "    <tr>\n",
       "      <th>2</th>\n",
       "      <td>1.3</td>\n",
       "      <td>0.2</td>\n",
       "      <td>0</td>\n",
       "    </tr>\n",
       "  </tbody>\n",
       "</table>\n",
       "</div>"
      ],
      "text/plain": [
       "   petal length (cm)  petal width (cm)  target\n",
       "0                1.4               0.2       0\n",
       "1                1.4               0.2       0\n",
       "2                1.3               0.2       0"
      ]
     },
     "execution_count": 24,
     "metadata": {},
     "output_type": "execute_result"
    }
   ],
   "source": [
    "import pandas as pd\n",
    "df = pd.DataFrame(iris.data, columns=column_names)\n",
    "df[\"target\"] = iris.target\n",
    "df = df.drop(columns=[\"sepal length (cm)\", \"sepal width (cm)\"])\n",
    "df.head(3)"
   ]
  },
  {
   "cell_type": "code",
   "execution_count": 25,
   "metadata": {},
   "outputs": [],
   "source": [
    "from sklearn.model_selection import train_test_split\n",
    "\n",
    "train_set, test_set = train_test_split(df, test_size=0.4)"
   ]
  },
  {
   "cell_type": "code",
   "execution_count": 26,
   "metadata": {},
   "outputs": [],
   "source": [
    "x_train = train_set.drop(columns=[\"target\"])\n",
    "y_train = train_set[\"target\"]\n",
    "\n",
    "x_test = test_set.drop(columns=[\"target\"])\n",
    "y_test = test_set[\"target\"]"
   ]
  },
  {
   "cell_type": "code",
   "execution_count": 27,
   "metadata": {},
   "outputs": [
    {
     "data": {
      "text/plain": [
       "LogisticRegression()"
      ]
     },
     "execution_count": 27,
     "metadata": {},
     "output_type": "execute_result"
    }
   ],
   "source": [
    "from sklearn.linear_model import LogisticRegression\n",
    "log_reg = LogisticRegression()\n",
    "log_reg.fit(x_train, y_train)"
   ]
  },
  {
   "cell_type": "code",
   "execution_count": 28,
   "metadata": {},
   "outputs": [
    {
     "data": {
      "text/plain": [
       "array([[27,  0,  0],\n",
       "       [ 0, 30,  2],\n",
       "       [ 0,  3, 28]], dtype=int64)"
      ]
     },
     "execution_count": 28,
     "metadata": {},
     "output_type": "execute_result"
    }
   ],
   "source": [
    "from sklearn.metrics import confusion_matrix\n",
    "from sklearn.model_selection import cross_val_predict\n",
    "y_train_pred = cross_val_predict(log_reg, x_train, y_train, cv=3, n_jobs=-1)\n",
    "mat = confusion_matrix(y_train, y_train_pred)\n",
    "mat"
   ]
  },
  {
   "cell_type": "code",
   "execution_count": 29,
   "metadata": {},
   "outputs": [
    {
     "name": "stdout",
     "output_type": "stream",
     "text": [
      "[2 1 0 2 2 1 2 1 0 1 0 1 1 1 0 1 0 0 1 2 2 1 2 0 2 2 2 1 0 2 1 0 1 1 1 0 1\n",
      " 1 0 2 2 1 1 2 2 0 0 1 1 1 0 0 2 0 0 0 1 2 2 2 0 0 2 1 2 1 1 2 0 2 0 2 2 0\n",
      " 1 1 1 0 0 2 2 1 0 2 2 1 2 0 1 1]\n",
      "Accuracy: 0.9444444444444444\n"
     ]
    }
   ],
   "source": [
    "from sklearn.metrics import accuracy_score\n",
    "y_train_pred = cross_val_predict(log_reg, x_train, y_train, cv=3, n_jobs=-1)\n",
    "print(y_train_pred)\n",
    "print(f'Accuracy: {accuracy_score(y_train, y_train_pred)}')"
   ]
  },
  {
   "cell_type": "code",
   "execution_count": 30,
   "metadata": {},
   "outputs": [
    {
     "data": {
      "text/plain": [
       "array([[27,  0,  0],\n",
       "       [ 0, 30,  2],\n",
       "       [ 0,  3, 28]], dtype=int64)"
      ]
     },
     "execution_count": 30,
     "metadata": {},
     "output_type": "execute_result"
    }
   ],
   "source": [
    "mat = confusion_matrix(y_train, y_train_pred)\n",
    "mat"
   ]
  },
  {
   "cell_type": "code",
   "execution_count": 31,
   "metadata": {},
   "outputs": [
    {
     "name": "stdout",
     "output_type": "stream",
     "text": [
      "Acc = 0.9833333333333333\n"
     ]
    }
   ],
   "source": [
    "y_test_pred = log_reg.predict(x_test)\n",
    "accuracy = accuracy_score(y_test, y_test_pred)\n",
    "\n",
    "print(\"Acc = {}\".format(accuracy))"
   ]
  },
  {
   "cell_type": "markdown",
   "metadata": {},
   "source": [
    "**Atividade (para casa):** Repita a atividade anterior usando todas as quatro características originais. Qual o aumento de desempenho?"
   ]
  },
  {
   "cell_type": "code",
   "execution_count": null,
   "metadata": {},
   "outputs": [],
   "source": []
  }
 ],
 "metadata": {
  "kernelspec": {
   "display_name": "Python 3",
   "language": "python",
   "name": "python3"
  },
  "language_info": {
   "codemirror_mode": {
    "name": "ipython",
    "version": 3
   },
   "file_extension": ".py",
   "mimetype": "text/x-python",
   "name": "python",
   "nbconvert_exporter": "python",
   "pygments_lexer": "ipython3",
   "version": "3.8.4"
  },
  "toc": {
   "nav_menu": {},
   "number_sections": true,
   "sideBar": true,
   "skip_h1_title": false,
   "toc_cell": false,
   "toc_position": {},
   "toc_section_display": "block",
   "toc_window_display": false
  }
 },
 "nbformat": 4,
 "nbformat_minor": 4
}
